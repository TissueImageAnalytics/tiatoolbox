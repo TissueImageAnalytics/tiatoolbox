{
 "cells": [
  {
   "cell_type": "markdown",
   "metadata": {
    "id": "7pED6P3ZEi5Z"
   },
   "source": [
    "# Demo: Stain Normalization\n",
    "\n",
    "<a href=\"https://colab.research.google.com/github/TIA-Lab/tiatoolbox/blob/doc-stainnorm/examples/example_stainnorm.ipynb\" target=\"_blank\"><img src=\"https://colab.research.google.com/assets/colab-badge.svg\" alt=\"Open In Colab\"/></a>\n",
    "\n",
    "<a href=\"https://kaggle.com/kernels/welcome?src=https://github.com/TIA-Lab/tiatoolbox/blob/doc-stainnorm/examples/example_stainnorm.ipynb\" target=\"_blank\"><img src=\"https://kaggle.com/static/images/open-in-kaggle.svg\" alt=\"Open In Kaggle\"/></a>"
   ]
  },
  {
   "cell_type": "markdown",
   "metadata": {
    "id": "Rc067beJIG86"
   },
   "source": [
    "## Prerequisites"
   ]
  },
  {
   "cell_type": "markdown",
   "metadata": {
    "id": "FN9hRW4SEi5e"
   },
   "source": [
    "## About this notebook\n",
    "This jupyter notebook can be run on any computer with a standard browser and no programming language is required. It can run remotely over the Internet, free of charge, thanks to Google Colaboratory or Kaggle. (The Kaggle version is temporarily unavailable.) To connect with Colab or Kaggle, click on one of the two blue checkboxes above. Check that \"colab\" appears in the browser address bar after you click on \"Open in Colab\". Familiarize yourself with the drop-down menus near the top of the window. You can edit the notebook during the session, for example substituting your own image files for the image files used in this demo. Experiment by changing the parameters of functions. It is not possible for an ordinary user to permanently change this version of the notebook on either Github or colab, so you cannot inadvertently mess it up. Use the notebook's File Menu if you wish to save your own (changed) notebook.\n",
    "\n",
    "Before running the notebook outside Colab, set up your Python environment, as explained in the \n",
    "[README](https://github.com/TIA-Lab/tiatoolbox/blob/develop/README.md#install-python-package) file.\n",
    "### Welcome to tiatoolbox!"
   ]
  },
  {
   "cell_type": "markdown",
   "metadata": {
    "id": "k1DCBvGzEi5f"
   },
   "source": [
    "This is a demo of normalisation of stain coloring in a whole slide image (WSI). We will\n",
    "1. Load a sample WSI.\n",
    "2. Extract a tile.\n",
    "3. Stain-normalise the tile with various built-in methods.\n",
    "4. Stain-normalise with a user-defined stain matrix.<br/>\n",
    "\n",
    "During the above steps, we will be using functions from our `stainnorm` module [here](https://github.com/TIA-Lab/tiatoolbox/blob/master/tiatoolbox/tools/stainnorm.py). This demo assumes some understanding of the functions in the `wsireader` module (for example by going through the demo [here](https://github.com/TIA-Lab/tiatoolbox/blob/master/examples/example_wsiread.ipynb)).\n",
    "\n",
    "### First cell in bash\n",
    "The first line of code ssys that the rest of the cell will be interpreted in bash. The second line removes the directory `tmp` if it exists–a previous run may have created it. The other lines set up a suitable Python environment under Colab. No output is expected if the notebook is either run outside Colab or run for a second time in the same Colab session. "
   ]
  },
  {
   "cell_type": "code",
   "execution_count": null,
   "metadata": {},
   "outputs": [],
   "source": [
    "%%bash\n",
    "[ -d tmp ] && ( echo \"deleting tmp directory\"; rm -rf tmp )\n",
    "if [ $(env | grep COLAB | wc -c) -gt 0 ] && [ $( pip list | grep datascience | wc -c) -gt 0 ]\n",
    "then\n",
    "    echo \"uninstalling colab packages with conflicts\"\n",
    "    pip uninstall -y datascience\n",
    "    pip uninstall -y albumentations\n",
    "    apt-get -y install libopenjp2-7-dev libopenjp2-tools openslide-tools\n",
    "    pip install tiatoolbox\n",
    "fi"
   ]
  },
  {
   "cell_type": "markdown",
   "metadata": {},
   "source": [
    "We start by importing some necessary modules."
   ]
  },
  {
   "cell_type": "code",
   "execution_count": null,
   "metadata": {
    "id": "N97OxSFkEi5g"
   },
   "outputs": [],
   "source": [
    "import cv2\n",
    "from tiatoolbox.dataloader.slide_info import slide_info\n",
    "from tiatoolbox.dataloader import wsireader\n",
    "import requests\n",
    "import os\n",
    "import numpy as np\n",
    "import matplotlib.pyplot as plt\n",
    "import matplotlib as mpl\n",
    "\n",
    "mpl.rcParams['figure.dpi'] = 150 # for high resolution figure in notebook"
   ]
  },
  {
   "cell_type": "markdown",
   "metadata": {
    "id": "C3L149N-Ei5g"
   },
   "source": [
    "## Reading in a WSI\n",
    "\n",
    "We load a small WSI, specified with the help of the path variable `user_sample_wsi_path`(default value `None`). Unless this None value is changed, the WSI is downloaded from the web, as seen in the code below, and saved with filename given by the variable `sample_file_name` in the directory given by `data_dir`. Data generated by the notebook is stored under data_dir, providing rapid local access..\n"
   ]
  },
  {
   "cell_type": "code",
   "execution_count": null,
   "metadata": {
    "id": "WJuamxOkEi5g"
   },
   "outputs": [],
   "source": [
    "data_dir = './tmp'\n",
    "sample_file_name = 'sample_wsi_small.svs'\n",
    "\n",
    "user_sample_wsi_path = None\n",
    "\n",
    "def download(url_path, save_path):\n",
    "    r = requests.get(url_path)\n",
    "    with open(save_path, \"wb\") as f:\n",
    "        f.write(r.content)\n",
    "    return\n",
    "\n",
    "user_sample_wsi_path = None\n",
    "\n",
    "if user_sample_wsi_path is None:\n",
    "    sample_wsi_path = '%s/%s' % (data_dir, sample_file_name)\n",
    "else:\n",
    "    sample_wsi_path = user_sample_wsi_path\n",
    "if not os.path.exists(sample_wsi_path):\n",
    "    os.makedirs(os.path.dirname(sample_wsi_path))\n",
    "    url_path = \"http://openslide.cs.cmu.edu/download/openslide-testdata/Aperio/CMU-1-Small-Region.svs\"\n",
    "    download(url_path, sample_wsi_path)"
   ]
  },
  {
   "cell_type": "markdown",
   "metadata": {
    "id": "fiJHNSa3Ei5g"
   },
   "source": [
    "We read the WSI sample, and print important metadata. We plot a thumbnail version to easily find regions of interest.\n"
   ]
  },
  {
   "cell_type": "code",
   "execution_count": null,
   "metadata": {
    "colab": {
     "base_uri": "https://localhost:8080/",
     "height": 677
    },
    "id": "m9EggNbvEi5h",
    "outputId": "04f884f5-b250-4387-b06d-c28f23f79da1"
   },
   "outputs": [],
   "source": [
    "# create a file handler\n",
    "wsi_reader = wsireader.get_wsireader(\n",
    "                input_img=sample_wsi_path)\n",
    "wsi_info = wsi_reader.info.as_dict()\n",
    "# we will print out each info line by line\n",
    "print(*list(wsi_info.items()), sep='\\n')\n",
    "wsi_thumb = wsi_reader.slide_thumbnail(resolution=1.25, units='power')\n",
    "\n",
    "plt.imshow(wsi_thumb)\n",
    "plt.show()\n"
   ]
  },
  {
   "cell_type": "markdown",
   "metadata": {
    "id": "2-rk_SubGMOI"
   },
   "source": [
    "## Extracting a tile from the WSI"
   ]
  },
  {
   "cell_type": "markdown",
   "metadata": {
    "id": "qELltFtmEi5h"
   },
   "source": [
    "From the figure, a `50x50` tile centered at position `[75, 125]` (XY-coordinate) in the thumbnail contains both the stroma and the gland tissue component. This would be a nice sample for different staining method. The thumbnail is loaded at x1.25 objective power. We proceed to convert the position and size to `[800, 1600]` and `800x800` at x16 objective power and load the area up."
   ]
  },
  {
   "cell_type": "code",
   "execution_count": null,
   "metadata": {
    "colab": {
     "base_uri": "https://localhost:8080/",
     "height": 500
    },
    "id": "H1qe2KTyEi5i",
    "outputId": "933ebe89-f400-42f5-b312-0ac4c82f9ba7"
   },
   "outputs": [],
   "source": [
    "sample = wsi_reader.read_region(\n",
    "            location=[800, 1600], # in X, Y\n",
    "            level=0, size=[800, 800])\n",
    "plt.imshow(sample)\n",
    "plt.axis('off')\n",
    "plt.show()\n"
   ]
  },
  {
   "cell_type": "markdown",
   "metadata": {
    "id": "ZyKHZj8EGZ9d"
   },
   "source": [
    "## Stain normalising a tile"
   ]
  },
  {
   "cell_type": "markdown",
   "metadata": {
    "id": "qwTCe1PsEi5i"
   },
   "source": [
    "Now we will download a different image to act as target stain."
   ]
  },
  {
   "cell_type": "code",
   "execution_count": null,
   "metadata": {
    "colab": {
     "base_uri": "https://localhost:8080/",
     "height": 500
    },
    "id": "onH9VRuSEi5i",
    "outputId": "b873101e-8b52-433f-9ea9-70e4e7beb1e1"
   },
   "outputs": [],
   "source": [
    "# downloading the target image\n",
    "url_path = \"https://raw.githubusercontent.com/TIA-Lab/tiatoolbox/develop/data/target_image.png\"\n",
    "target_image_path = '%s/stain_target.png' % (data_dir)\n",
    "download(url_path, target_image_path)\n",
    "\n",
    "target_image = cv2.imread(target_image_path)\n",
    "target_image = cv2.cvtColor(target_image, cv2.COLOR_BGR2RGB)\n",
    "plt.imshow(target_image)\n",
    "plt.axis('off')\n",
    "plt.show()"
   ]
  },
  {
   "cell_type": "markdown",
   "metadata": {
    "id": "_CPS1wyvIUMR"
   },
   "source": [
    "### Vahadane method"
   ]
  },
  {
   "cell_type": "markdown",
   "metadata": {
    "id": "PLT_4cfyEi5i"
   },
   "source": [
    "We can stain-normalise the `sample` image to the target image using the widely known [Vahadane](https://ieeexplore.ieee.org/stamp/stamp.jsp?arnumber=7460968) method. The normaliser follow the `sklearn` calling style and is applied as follows:"
   ]
  },
  {
   "cell_type": "code",
   "execution_count": null,
   "metadata": {
    "colab": {
     "base_uri": "https://localhost:8080/",
     "height": 420
    },
    "id": "RMuJLME9Ei5i",
    "outputId": "dce88994-704e-47e4-fd2e-5031c2f1d1e1"
   },
   "outputs": [],
   "source": [
    "from tiatoolbox.tools import stainnorm\n",
    "\n",
    "stain_normalizer = stainnorm.VahadaneNormaliser()\n",
    "stain_normalizer.fit(target_image)\n",
    "\n",
    "normed_sample = stain_normalizer.transform(sample.copy())\n",
    "\n",
    "plt.figure(figsize=(10, 5))\n",
    "plt.subplot(1,3,1)\n",
    "plt.imshow(target_image)\n",
    "plt.title('Target Image')\n",
    "plt.axis('off')\n",
    "plt.subplot(1,3,2)\n",
    "plt.imshow(sample)\n",
    "plt.title('Source Image')\n",
    "plt.axis('off')\n",
    "plt.subplot(1,3,3)\n",
    "plt.imshow(normed_sample)\n",
    "plt.title('Vahadane Stain Normed')\n",
    "plt.axis('off')\n",
    "plt.show()\n"
   ]
  },
  {
   "cell_type": "markdown",
   "metadata": {
    "id": "VLdO11gtIZPU"
   },
   "source": [
    "### Other stain normalisation methods"
   ]
  },
  {
   "cell_type": "markdown",
   "metadata": {
    "id": "aIQ7194lEi5j"
   },
   "source": [
    "At the moment, the library contains implementation for 4 stain-normalisation methods. You can either create them by using their class name like above, or our provided getter function `get_normaliser` by inputting the corresponding method name. Here, we will illustrate how you can use the latter approach to get the normaliser.\n",
    "\n",
    "The stain normalisation names are provide in `method_name_list` variable below. We will sequentially apply each method on the `sample` image and plot them up for visual comparison."
   ]
  },
  {
   "cell_type": "code",
   "execution_count": null,
   "metadata": {
    "colab": {
     "base_uri": "https://localhost:8080/",
     "height": 602
    },
    "id": "pS8YtDcQEi5j",
    "outputId": "7adb90f6-767a-40b0-b062-771a4f90c778"
   },
   "outputs": [],
   "source": [
    "method_name_list = ['reinhard', 'ruifrok', 'macenko', 'vahadane']\n",
    "\n",
    "plt.subplot(2,3,1)\n",
    "plt.imshow(sample)\n",
    "plt.title('Source Image')\n",
    "plt.axis('off')\n",
    "plt.subplot(2,3,4)\n",
    "plt.imshow(target_image)\n",
    "plt.title('Target Image')\n",
    "plt.axis('off')\n",
    "\n",
    "pos = [2, 3, 5, 6]\n",
    "for idx, method_name in enumerate(method_name_list):\n",
    "    stain_normalizer = stainnorm.get_normaliser(method_name)\n",
    "    stain_normalizer.fit(target_image)\n",
    "\n",
    "    normed_sample = stain_normalizer.transform(sample.copy())\n",
    "    plt.subplot(2,3,pos[idx])\n",
    "    plt.imshow(normed_sample)\n",
    "    plt.title(method_name.capitalize())\n",
    "    plt.axis('off')\n",
    "plt.tight_layout()\n",
    "plt.show()"
   ]
  },
  {
   "cell_type": "markdown",
   "metadata": {
    "id": "v6WmKfeiGf3V"
   },
   "source": [
    "## Custom staining"
   ]
  },
  {
   "cell_type": "markdown",
   "metadata": {
    "id": "5T251oCZEi5k"
   },
   "source": [
    "In addition to the 4 implemented methods, you can also extend the basic functionalities to implement your own method. One way is to subclass the base class `stainnorm.StainNormaliser` and implement your method. Another way is to provide your custom stain conversion matrix and input it to the `stainnorm.StainNormaliser`. Note, the former is for advanced users only! In this notebook, we will only explore the customisation of the input stain matrix. As an example, we will use the stain matrix in `skimage` library for getting Feulgen + Light Green stained from RGB. We will finally compare the stain-normalisation result using a custom defined stain matrix and using the Vahadane method."
   ]
  },
  {
   "cell_type": "code",
   "execution_count": null,
   "metadata": {
    "colab": {
     "base_uri": "https://localhost:8080/",
     "height": 531
    },
    "id": "5H-0cGAIEi5k",
    "outputId": "c018ec77-e641-4623-b1bc-b90525525195"
   },
   "outputs": [],
   "source": [
    "\n",
    "import skimage.color\n",
    "\n",
    "stain_matrix = skimage.color.fgx_from_rgb[:2]\n",
    "custom_normalizer = stainnorm.CustomNormaliser(stain_matrix)\n",
    "custom_normalizer.fit(target_image)\n",
    "\n",
    "vahadane_normalizer = stainnorm.VahadaneNormaliser()\n",
    "vahadane_normalizer.fit(target_image)\n",
    "\n",
    "normed_sample1 = custom_normalizer.transform(sample.copy())\n",
    "normed_sample2 = stain_normalizer.transform(sample.copy())\n",
    "\n",
    "plt.subplot(2,2,1)\n",
    "plt.imshow(sample)\n",
    "plt.title('Source Image')\n",
    "plt.axis('off')\n",
    "plt.subplot(2,2,3)\n",
    "plt.imshow(target_image)\n",
    "plt.title('Target Image')\n",
    "plt.axis('off')\n",
    "plt.subplot(2,2,2)\n",
    "plt.imshow(normed_sample1)\n",
    "plt.title('Custom Stain Matrix')\n",
    "plt.axis('off')\n",
    "plt.subplot(2,2,4)\n",
    "plt.imshow(normed_sample2)\n",
    "plt.title('Vahadane')\n",
    "plt.axis('off')\n",
    "plt.show()"
   ]
  }
 ],
 "metadata": {
  "colab": {
   "name": "example_stainnorm.ipynb",
   "provenance": [],
   "toc_visible": true
  },
  "kernelspec": {
   "display_name": "Python 3",
   "language": "python",
   "name": "python3"
  },
  "language_info": {
   "codemirror_mode": {
    "name": "ipython",
    "version": 3
   },
   "file_extension": ".py",
   "mimetype": "text/x-python",
   "name": "python",
   "nbconvert_exporter": "python",
   "pygments_lexer": "ipython3",
   "version": "3.7.8"
  }
 },
 "nbformat": 4,
 "nbformat_minor": 1
}
