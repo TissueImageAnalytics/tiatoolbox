{
 "cells": [
  {
   "cell_type": "markdown",
   "metadata": {
    "id": "k2LBoeCCsw8L"
   },
   "source": [
    "# Masking tissue region in whole slide images\n",
    "<a href=\"https://colab.research.google.com/github/TIA-Lab/tiatoolbox/blob/master/examples/03_example_tissuemask.ipynb\" target=\"_parent\"><img src=\"https://colab.research.google.com/assets/colab-badge.svg\" alt=\"Open In Colab\"/></a>\n",
    "\n",
    "<a href=\"https://kaggle.com/kernels/welcome?src=https://github.com/TIA-Lab/tiatoolbox/blob/master/examples/03_example_tissuemask.ipynb\" target=\"_parent\"><img src=\"https://kaggle.com/static/images/open-in-kaggle.svg\" alt=\"Open In Colab\"/></a>\n",
    "\n",
    "_In order to run this notebook on a Kaggle platform, 1) click on the blue Kaggle badge saying Open in Kaggle 2) click on Settings on the right of the Kaggle screen, 3) log in to your Kaggle account, 4) tick \"Internet\" checkbox under Settings, to enable necessary downloads._"
   ]
  },
  {
   "cell_type": "markdown",
   "metadata": {
    "id": "HpZQvCvgGXnN"
   },
   "source": [
    "# Welcome to tiatoolbox!\n",
    "\n",
    "## About this notebook\n",
    "This jupyter notebook can be run on any computer with a standard browser and no prior installation of any programming language is required. It can run remotely over the Internet, free of charge, thanks to Google Colaboratory or Kaggle. To connect with Colab or Kaggle, click on one of the two blue checkboxes above. Check that \"colab\" or \"kaggle\", as appropriate, appears in the address bar. You can right click on \"Open in Colab\" and select \"Open in new tab\" if left click does not work for you. Familiarize yourself with the drop-down menus near the top of the window. You can edit the notebook during the session, for example substituting your own image files for the image files used in this demo. Experiment by changing the parameters of functions. It is not possible for an ordinary user to permanently change this version of the notebook on Github, Colab or Kaggle, so you cannot inadvertently mess it up. Use the notebook's File Menu if you wish to save your own (changed) notebook.\n",
    "\n",
    "To run the notebook on any platform, except for Colab or Kaggle, set up your Python environment, as explained in the \n",
    "[README](https://github.com/TIA-Lab/tiatoolbox/blob/master/README.md#install-python-package) file.\n",
    "\n",
    "### About this demo\n",
    "In this example, we will show how you can use tiatoolbox to easily find the tissue region in a whole slide image. Apart from tissue regions, WSIs usually show large blank (glass) background areas that contain no information. Therefore it is essential to detect the informative (tissue) region in the WSI before any action (like patch extraction and classification). We call this step, \"tissue masking\". In particular, we introduce the use of our module\n",
    "`tissuemask`([details](https://github.com/TIA-Lab/tiatoolbox/blob/master/tiatoolbox/tools/tissuemask.py)) which distinguishes tissue from glass, using an automatic image thresholding algorithm ([Otsu's method](https://learnopencv.com/otsu-thresholding-with-opencv/)) and some morphological operations."
   ]
  },
  {
   "cell_type": "markdown",
   "metadata": {},
   "source": [
    "### Setting up the environment\n",
    "You can skip this cell if 1) you are not using the Colab or Kaggle plaforms or 2) you are using Colab or Kaggle and this is not your first run of the notebook in the current session. If you nevertheless run the cell, you may get an error message, but no harm will be done. On Colab or Kaggle the cell installs `tiatoolbox`, and other prerequisite software. Harmless error messages should be ignored. Outside Colab or Kaggle, the notebook expects `tiatoolbox` to already be installed. (See the instructions in [README](https://github.com/TIA-Lab/tiatoolbox/blob/master/README.md#install-python-package).)"
   ]
  },
  {
   "cell_type": "code",
   "execution_count": null,
   "metadata": {
    "id": "MR3BWBayNg_K"
   },
   "outputs": [],
   "source": [
    "!apt-get -y install libopenjp2-7-dev libopenjp2-tools openslide-tools | tail --line 1\n",
    "!pip install tiatoolbox | tail --line 1\n",
    "\n",
    "print('Installation is done.')"
   ]
  },
  {
   "cell_type": "markdown",
   "metadata": {},
   "source": [
    "This cell removes the directory`tmp`if it exists—a previous run may have created it. This cell can be skipped if you are running this notebook for the first time."
   ]
  },
  {
   "cell_type": "code",
   "execution_count": 2,
   "metadata": {},
   "outputs": [],
   "source": [
    "![ -d tmp ] && ( echo \"deleting tmp directory\"; rm -rf tmp )"
   ]
  },
  {
   "cell_type": "markdown",
   "metadata": {
    "id": "O4F8ekDhGXnP"
   },
   "source": [
    "### Importing related libraries\n",
    "We will start by importing some libraries required to run this notebook."
   ]
  },
  {
   "cell_type": "code",
   "execution_count": 3,
   "metadata": {
    "id": "vFArru8mGXnP"
   },
   "outputs": [
    {
     "ename": "ImportError",
     "evalue": "Couldn't locate OpenSlide dylib.  Is OpenSlide installed?",
     "output_type": "error",
     "traceback": [
      "\u001b[0;31m---------------------------------------------------------------------------\u001b[0m",
      "\u001b[0;31mOSError\u001b[0m                                   Traceback (most recent call last)",
      "\u001b[0;32m~/opt/anaconda3/lib/python3.8/site-packages/openslide/lowlevel.py\u001b[0m in \u001b[0;36m<module>\u001b[0;34m\u001b[0m\n\u001b[1;32m     45\u001b[0m     \u001b[0;32mtry\u001b[0m\u001b[0;34m:\u001b[0m\u001b[0;34m\u001b[0m\u001b[0;34m\u001b[0m\u001b[0m\n\u001b[0;32m---> 46\u001b[0;31m         \u001b[0m_lib\u001b[0m \u001b[0;34m=\u001b[0m \u001b[0mcdll\u001b[0m\u001b[0;34m.\u001b[0m\u001b[0mLoadLibrary\u001b[0m\u001b[0;34m(\u001b[0m\u001b[0;34m'libopenslide.0.dylib'\u001b[0m\u001b[0;34m)\u001b[0m\u001b[0;34m\u001b[0m\u001b[0;34m\u001b[0m\u001b[0m\n\u001b[0m\u001b[1;32m     47\u001b[0m     \u001b[0;32mexcept\u001b[0m \u001b[0mOSError\u001b[0m\u001b[0;34m:\u001b[0m\u001b[0;34m\u001b[0m\u001b[0;34m\u001b[0m\u001b[0m\n",
      "\u001b[0;32m~/opt/anaconda3/lib/python3.8/ctypes/__init__.py\u001b[0m in \u001b[0;36mLoadLibrary\u001b[0;34m(self, name)\u001b[0m\n\u001b[1;32m    450\u001b[0m     \u001b[0;32mdef\u001b[0m \u001b[0mLoadLibrary\u001b[0m\u001b[0;34m(\u001b[0m\u001b[0mself\u001b[0m\u001b[0;34m,\u001b[0m \u001b[0mname\u001b[0m\u001b[0;34m)\u001b[0m\u001b[0;34m:\u001b[0m\u001b[0;34m\u001b[0m\u001b[0;34m\u001b[0m\u001b[0m\n\u001b[0;32m--> 451\u001b[0;31m         \u001b[0;32mreturn\u001b[0m \u001b[0mself\u001b[0m\u001b[0;34m.\u001b[0m\u001b[0m_dlltype\u001b[0m\u001b[0;34m(\u001b[0m\u001b[0mname\u001b[0m\u001b[0;34m)\u001b[0m\u001b[0;34m\u001b[0m\u001b[0;34m\u001b[0m\u001b[0m\n\u001b[0m\u001b[1;32m    452\u001b[0m \u001b[0;34m\u001b[0m\u001b[0m\n",
      "\u001b[0;32m~/opt/anaconda3/lib/python3.8/ctypes/__init__.py\u001b[0m in \u001b[0;36m__init__\u001b[0;34m(self, name, mode, handle, use_errno, use_last_error, winmode)\u001b[0m\n\u001b[1;32m    372\u001b[0m         \u001b[0;32mif\u001b[0m \u001b[0mhandle\u001b[0m \u001b[0;32mis\u001b[0m \u001b[0;32mNone\u001b[0m\u001b[0;34m:\u001b[0m\u001b[0;34m\u001b[0m\u001b[0;34m\u001b[0m\u001b[0m\n\u001b[0;32m--> 373\u001b[0;31m             \u001b[0mself\u001b[0m\u001b[0;34m.\u001b[0m\u001b[0m_handle\u001b[0m \u001b[0;34m=\u001b[0m \u001b[0m_dlopen\u001b[0m\u001b[0;34m(\u001b[0m\u001b[0mself\u001b[0m\u001b[0;34m.\u001b[0m\u001b[0m_name\u001b[0m\u001b[0;34m,\u001b[0m \u001b[0mmode\u001b[0m\u001b[0;34m)\u001b[0m\u001b[0;34m\u001b[0m\u001b[0;34m\u001b[0m\u001b[0m\n\u001b[0m\u001b[1;32m    374\u001b[0m         \u001b[0;32melse\u001b[0m\u001b[0;34m:\u001b[0m\u001b[0;34m\u001b[0m\u001b[0;34m\u001b[0m\u001b[0m\n",
      "\u001b[0;31mOSError\u001b[0m: dlopen(libopenslide.0.dylib, 6): image not found",
      "\nDuring handling of the above exception, another exception occurred:\n",
      "\u001b[0;31mImportError\u001b[0m                               Traceback (most recent call last)",
      "\u001b[0;32m<ipython-input-3-c12ca0730543>\u001b[0m in \u001b[0;36m<module>\u001b[0;34m\u001b[0m\n\u001b[0;32m----> 1\u001b[0;31m \u001b[0;32mfrom\u001b[0m \u001b[0mtiatoolbox\u001b[0m\u001b[0;34m.\u001b[0m\u001b[0mwsicore\u001b[0m \u001b[0;32mimport\u001b[0m \u001b[0mwsireader\u001b[0m\u001b[0;34m\u001b[0m\u001b[0;34m\u001b[0m\u001b[0m\n\u001b[0m\u001b[1;32m      2\u001b[0m \u001b[0;32mimport\u001b[0m \u001b[0mos\u001b[0m\u001b[0;34m\u001b[0m\u001b[0;34m\u001b[0m\u001b[0m\n\u001b[1;32m      3\u001b[0m \u001b[0;32mimport\u001b[0m \u001b[0mnumpy\u001b[0m \u001b[0;32mas\u001b[0m \u001b[0mnp\u001b[0m\u001b[0;34m\u001b[0m\u001b[0;34m\u001b[0m\u001b[0m\n\u001b[1;32m      4\u001b[0m \u001b[0;32mimport\u001b[0m \u001b[0mmatplotlib\u001b[0m\u001b[0;34m.\u001b[0m\u001b[0mpyplot\u001b[0m \u001b[0;32mas\u001b[0m \u001b[0mplt\u001b[0m\u001b[0;34m\u001b[0m\u001b[0;34m\u001b[0m\u001b[0m\n\u001b[1;32m      5\u001b[0m \u001b[0;32mimport\u001b[0m \u001b[0mmatplotlib\u001b[0m \u001b[0;32mas\u001b[0m \u001b[0mmpl\u001b[0m\u001b[0;34m\u001b[0m\u001b[0;34m\u001b[0m\u001b[0m\n",
      "\u001b[0;32m~/opt/anaconda3/lib/python3.8/site-packages/tiatoolbox/__init__.py\u001b[0m in \u001b[0;36m<module>\u001b[0;34m\u001b[0m\n\u001b[1;32m     21\u001b[0m \u001b[0;34m\"\"\"Top-level package for TIA Toolbox.\"\"\"\u001b[0m\u001b[0;34m\u001b[0m\u001b[0;34m\u001b[0m\u001b[0m\n\u001b[1;32m     22\u001b[0m \u001b[0;32mfrom\u001b[0m \u001b[0mtiatoolbox\u001b[0m \u001b[0;32mimport\u001b[0m \u001b[0mtiatoolbox\u001b[0m\u001b[0;34m\u001b[0m\u001b[0;34m\u001b[0m\u001b[0m\n\u001b[0;32m---> 23\u001b[0;31m \u001b[0;32mfrom\u001b[0m \u001b[0mtiatoolbox\u001b[0m \u001b[0;32mimport\u001b[0m \u001b[0mdataloader\u001b[0m\u001b[0;34m\u001b[0m\u001b[0;34m\u001b[0m\u001b[0m\n\u001b[0m\u001b[1;32m     24\u001b[0m \u001b[0;32mfrom\u001b[0m \u001b[0mtiatoolbox\u001b[0m \u001b[0;32mimport\u001b[0m \u001b[0mutils\u001b[0m\u001b[0;34m\u001b[0m\u001b[0;34m\u001b[0m\u001b[0m\n\u001b[1;32m     25\u001b[0m \u001b[0;32mfrom\u001b[0m \u001b[0mtiatoolbox\u001b[0m \u001b[0;32mimport\u001b[0m \u001b[0mtools\u001b[0m\u001b[0;34m\u001b[0m\u001b[0;34m\u001b[0m\u001b[0m\n",
      "\u001b[0;32m~/opt/anaconda3/lib/python3.8/site-packages/tiatoolbox/dataloader/__init__.py\u001b[0m in \u001b[0;36m<module>\u001b[0;34m\u001b[0m\n\u001b[1;32m     21\u001b[0m \u001b[0;34m\"\"\"Package to read whole slide images\"\"\"\u001b[0m\u001b[0;34m\u001b[0m\u001b[0;34m\u001b[0m\u001b[0m\n\u001b[1;32m     22\u001b[0m \u001b[0;34m\u001b[0m\u001b[0m\n\u001b[0;32m---> 23\u001b[0;31m \u001b[0;32mfrom\u001b[0m \u001b[0mtiatoolbox\u001b[0m\u001b[0;34m.\u001b[0m\u001b[0mdataloader\u001b[0m \u001b[0;32mimport\u001b[0m \u001b[0mslide_info\u001b[0m\u001b[0;34m,\u001b[0m \u001b[0mwsireader\u001b[0m\u001b[0;34m,\u001b[0m \u001b[0mwsimeta\u001b[0m\u001b[0;34m,\u001b[0m \u001b[0msave_tiles\u001b[0m\u001b[0;34m\u001b[0m\u001b[0;34m\u001b[0m\u001b[0m\n\u001b[0m",
      "\u001b[0;32m~/opt/anaconda3/lib/python3.8/site-packages/tiatoolbox/dataloader/slide_info.py\u001b[0m in \u001b[0;36m<module>\u001b[0;34m\u001b[0m\n\u001b[1;32m     20\u001b[0m \u001b[0;34m\u001b[0m\u001b[0m\n\u001b[1;32m     21\u001b[0m \u001b[0;34m\"\"\"Get Slide Meta Data information.\"\"\"\u001b[0m\u001b[0;34m\u001b[0m\u001b[0;34m\u001b[0m\u001b[0m\n\u001b[0;32m---> 22\u001b[0;31m \u001b[0;32mfrom\u001b[0m \u001b[0mtiatoolbox\u001b[0m\u001b[0;34m.\u001b[0m\u001b[0mdataloader\u001b[0m \u001b[0;32mimport\u001b[0m \u001b[0mwsireader\u001b[0m\u001b[0;34m\u001b[0m\u001b[0;34m\u001b[0m\u001b[0m\n\u001b[0m\u001b[1;32m     23\u001b[0m \u001b[0;34m\u001b[0m\u001b[0m\n\u001b[1;32m     24\u001b[0m \u001b[0;32mimport\u001b[0m \u001b[0mpathlib\u001b[0m\u001b[0;34m\u001b[0m\u001b[0;34m\u001b[0m\u001b[0m\n",
      "\u001b[0;32m~/opt/anaconda3/lib/python3.8/site-packages/tiatoolbox/dataloader/wsireader.py\u001b[0m in \u001b[0;36m<module>\u001b[0;34m\u001b[0m\n\u001b[1;32m     28\u001b[0m \u001b[0;32mimport\u001b[0m \u001b[0mcopy\u001b[0m\u001b[0;34m\u001b[0m\u001b[0;34m\u001b[0m\u001b[0m\n\u001b[1;32m     29\u001b[0m \u001b[0;32mimport\u001b[0m \u001b[0mnumpy\u001b[0m \u001b[0;32mas\u001b[0m \u001b[0mnp\u001b[0m\u001b[0;34m\u001b[0m\u001b[0;34m\u001b[0m\u001b[0m\n\u001b[0;32m---> 30\u001b[0;31m \u001b[0;32mimport\u001b[0m \u001b[0mopenslide\u001b[0m\u001b[0;34m\u001b[0m\u001b[0;34m\u001b[0m\u001b[0m\n\u001b[0m\u001b[1;32m     31\u001b[0m \u001b[0;32mimport\u001b[0m \u001b[0mglymur\u001b[0m\u001b[0;34m\u001b[0m\u001b[0;34m\u001b[0m\u001b[0m\n\u001b[1;32m     32\u001b[0m \u001b[0;32mimport\u001b[0m \u001b[0mmath\u001b[0m\u001b[0;34m\u001b[0m\u001b[0;34m\u001b[0m\u001b[0m\n",
      "\u001b[0;32m~/opt/anaconda3/lib/python3.8/site-packages/openslide/__init__.py\u001b[0m in \u001b[0;36m<module>\u001b[0;34m\u001b[0m\n\u001b[1;32m     33\u001b[0m     \u001b[0;32mfrom\u001b[0m \u001b[0mcollections\u001b[0m \u001b[0;32mimport\u001b[0m \u001b[0mMapping\u001b[0m\u001b[0;34m\u001b[0m\u001b[0;34m\u001b[0m\u001b[0m\n\u001b[1;32m     34\u001b[0m \u001b[0;34m\u001b[0m\u001b[0m\n\u001b[0;32m---> 35\u001b[0;31m \u001b[0;32mfrom\u001b[0m \u001b[0mopenslide\u001b[0m \u001b[0;32mimport\u001b[0m \u001b[0mlowlevel\u001b[0m\u001b[0;34m\u001b[0m\u001b[0;34m\u001b[0m\u001b[0m\n\u001b[0m\u001b[1;32m     36\u001b[0m \u001b[0;34m\u001b[0m\u001b[0m\n\u001b[1;32m     37\u001b[0m \u001b[0;31m# For the benefit of library users\u001b[0m\u001b[0;34m\u001b[0m\u001b[0;34m\u001b[0m\u001b[0;34m\u001b[0m\u001b[0m\n",
      "\u001b[0;32m~/opt/anaconda3/lib/python3.8/site-packages/openslide/lowlevel.py\u001b[0m in \u001b[0;36m<module>\u001b[0;34m\u001b[0m\n\u001b[1;32m     54\u001b[0m         \u001b[0m_lib\u001b[0m \u001b[0;34m=\u001b[0m \u001b[0mctypes\u001b[0m\u001b[0;34m.\u001b[0m\u001b[0mutil\u001b[0m\u001b[0;34m.\u001b[0m\u001b[0mfind_library\u001b[0m\u001b[0;34m(\u001b[0m\u001b[0;34m'openslide'\u001b[0m\u001b[0;34m)\u001b[0m\u001b[0;34m\u001b[0m\u001b[0;34m\u001b[0m\u001b[0m\n\u001b[1;32m     55\u001b[0m         \u001b[0;32mif\u001b[0m \u001b[0m_lib\u001b[0m \u001b[0;32mis\u001b[0m \u001b[0;32mNone\u001b[0m\u001b[0;34m:\u001b[0m\u001b[0;34m\u001b[0m\u001b[0;34m\u001b[0m\u001b[0m\n\u001b[0;32m---> 56\u001b[0;31m             raise ImportError(\"Couldn't locate OpenSlide dylib.  \" +\n\u001b[0m\u001b[1;32m     57\u001b[0m                     \"Is OpenSlide installed?\")\n\u001b[1;32m     58\u001b[0m         \u001b[0m_lib\u001b[0m \u001b[0;34m=\u001b[0m \u001b[0mcdll\u001b[0m\u001b[0;34m.\u001b[0m\u001b[0mLoadLibrary\u001b[0m\u001b[0;34m(\u001b[0m\u001b[0m_lib\u001b[0m\u001b[0;34m)\u001b[0m\u001b[0;34m\u001b[0m\u001b[0;34m\u001b[0m\u001b[0m\n",
      "\u001b[0;31mImportError\u001b[0m: Couldn't locate OpenSlide dylib.  Is OpenSlide installed?"
     ]
    }
   ],
   "source": [
    "from tiatoolbox.wsicore import wsireader\n",
    "import os\n",
    "import numpy as np\n",
    "import matplotlib.pyplot as plt\n",
    "import matplotlib as mpl\n",
    "\n",
    "mpl.rcParams['figure.dpi'] = 150 # for high resolution figure in notebook"
   ]
  },
  {
   "cell_type": "markdown",
   "metadata": {
    "id": "Ku8cvb6IJCxO"
   },
   "source": [
    "### Downloading the required files\n",
    "We download, over the internet, a WSI for our experiment. Downloading is needed once in each Colab session.\n",
    "> In Colab, if you click the files icon (see below) in the vertical toolbar on the left hand side then you can see all the files which the code in this notebook can access. The data will appear here when it is downloaded.\n",
    ">\n",
    "> ![image.png](data:image/png;base64,iVBORw0KGgoAAAANSUhEUgAAACQAAAAlCAYAAAAqXEs9AAAAwElEQVRYhe3WMQ6DMAyFYa7q1Yfw7Dl3ICusZM0hzJpDMLtTGSoFNy2UVPIvvf3DYsignTXcDXjNQVYOsnKQlYOsDkHjOCoiKgBUl3P+DWhZlkPIVagqaJqmt0EAoDFGnefZXEpJt227HtQyZv4chIjKzKeMiHZU7Uom6OhrWhORHSQiDnKQg/oChRD6AjGzg/4L9PyHiEjXdT1lKaUdVEppA7W8h1qHiNUrfv1ibB0RVa9jgu7IQVYOsnKQVXegB/ZWYoL8lUCBAAAAAElFTkSuQmCC)\n",
    ">\n",
    "> *The 'files' icon*"
   ]
  },
  {
   "cell_type": "code",
   "execution_count": null,
   "metadata": {
    "colab": {
     "base_uri": "https://localhost:8080/"
    },
    "id": "BjGYV4HO-vQe",
    "outputId": "036c160c-129f-44e7-82e9-e7a538f48266"
   },
   "outputs": [],
   "source": [
    "!wget http://openslide.cs.cmu.edu/download/openslide-testdata/Aperio/CMU-1-Small-Region.svs"
   ]
  },
  {
   "cell_type": "markdown",
   "metadata": {
    "id": "XxGm-1nxGXnQ"
   },
   "source": [
    "# Reading a WSI and its Thumbnail\n",
    "The toolbox provides a common interface for the many different whole slide image file formats prduced by different vendors. The functions wsireader.get_wsireader takes a file path as input and returns an instance of the appropriate subclass of WSIReader. For more information about WSI reading in tiatoolbox, please refer to the [documentation](https://tia-toolbox.readthedocs.io/en/latest/usage.html?highlight=WSIReader.read_rect#tiatoolbox.wsicore.wsireader) and the [notebook example](https://github.com/TIA-Lab/tiatoolbox/blob/master/examples/example_wsiread.ipynb) dedicated to this topic."
   ]
  },
  {
   "cell_type": "code",
   "execution_count": null,
   "metadata": {
    "colab": {
     "base_uri": "https://localhost:8080/"
    },
    "id": "YPty4luXGXnQ",
    "outputId": "042c8f13-2ec1-43b4-c835-26da2d6c09e5"
   },
   "outputs": [],
   "source": [
    "wsi = wsireader.get_wsireader(\n",
    "                input_img='CMU-1-Small-Region.svs')\n",
    "print(type(wsi))"
   ]
  },
  {
   "cell_type": "markdown",
   "metadata": {
    "id": "pTA7FRYg1vl5"
   },
   "source": [
    "From the output of the cell above, note that the variable wsi is much more than just an WSI image. There are many associated functions that enable it to conveniently read parts of the image. First, let's check the basic WSI information, such as magnification, dimension, etc. (mpp= microns per pixel)."
   ]
  },
  {
   "cell_type": "code",
   "execution_count": null,
   "metadata": {
    "colab": {
     "base_uri": "https://localhost:8080/"
    },
    "id": "j8JVGe4P1zl5",
    "outputId": "187a55ab-42ae-4687-8587-a0927c28a5cc"
   },
   "outputs": [],
   "source": [
    "wsi_info = wsi.info.as_dict()\n",
    "# Print one item per line\n",
    "print(*list(wsi_info.items()), sep='\\n')"
   ]
  },
  {
   "cell_type": "markdown",
   "metadata": {
    "id": "TGbo8A3AGXnR"
   },
   "source": [
    "Working with `tiatoolbox`, it is easy to load a WSI thumbnail using the `slide_thumbnail` method of the `wsi` object. The thumbnail can be loaded using different units to indicate the resolution. The following options are available for the `units` argument:\n",
    "\n",
    "- `mpp`: microns per pixel\n",
    "- `power`: objective power of the scanner\n",
    "- `level`: the level in the WSI pyramidal file\n",
    "- `baseline`: pixels per baseline pixel\n",
    "\n",
    "We will load (and show) the thumbnail at x1.25 objective power as follows:"
   ]
  },
  {
   "cell_type": "code",
   "execution_count": null,
   "metadata": {
    "colab": {
     "base_uri": "https://localhost:8080/",
     "height": 500
    },
    "id": "VlwyEKpAJe4G",
    "outputId": "909f7964-8885-4067-a331-f5b3f0cc9073"
   },
   "outputs": [],
   "source": [
    "wsi_thumb = wsi.slide_thumbnail(resolution=1.25, units='power')\n",
    "plt.imshow(wsi_thumb)\n",
    "plt.axis('off')\n",
    "plt.show()"
   ]
  },
  {
   "cell_type": "markdown",
   "metadata": {
    "id": "ZfGYFNI0h2oa"
   },
   "source": [
    "# Generating tissue mask in 1 line of code\n",
    "The task is to distinguish between tissue and glass (no tissue) in the WSI. We compute a mask, by which we mean a binary colouring of the pixels to either blue=glass or yellow=tissue. Generating the tissue mask for a WSI using tiatoolbox is as simple as the following line of code:"
   ]
  },
  {
   "cell_type": "code",
   "execution_count": null,
   "metadata": {
    "id": "U5OEpuKgiZ_6"
   },
   "outputs": [],
   "source": [
    "mask = wsi.tissue_mask(resolution=1.25, units='power')"
   ]
  },
  {
   "cell_type": "markdown",
   "metadata": {
    "id": "LDF2_7j9iqd5"
   },
   "source": [
    "The two Python variables `mask` and `wsi` are both instances of the class `WSIReader`, and therefore have the same attributes, and can be treated in the same way. For example, we can see the original image and the mask next to each other at the same resolution and at the same size. Now, let's see the thumbnails of the original `wsi` and its `mask` at the same resolution."
   ]
  },
  {
   "cell_type": "code",
   "execution_count": null,
   "metadata": {
    "colab": {
     "base_uri": "https://localhost:8080/",
     "height": 468
    },
    "id": "tIR4WilukWzB",
    "outputId": "c57a81b2-c680-45ae-f945-59427c31d8e8"
   },
   "outputs": [],
   "source": [
    "mask_thumb = mask.slide_thumbnail(resolution=1.25, units='power') #extracting the mask_thumb at the same resolution as wsi_thumb\n",
    "\n",
    "# showing the result\n",
    "def show_side_by_side (img1, img2):\n",
    "    plt.subplot(1,2,1)\n",
    "    plt.imshow(img1)\n",
    "    plt.axis('off')\n",
    "    plt.subplot(1,2,2)\n",
    "    plt.imshow(img2)\n",
    "    plt.axis('off')\n",
    "    plt.show()\n",
    "show_side_by_side (wsi_thumb, mask_thumb)"
   ]
  },
  {
   "cell_type": "markdown",
   "metadata": {
    "id": "DsASLZsSm82C"
   },
   "source": [
    "As you can see, the generated mask resembles the tissue area of the original WSI pretty well. This kind of mask is usually used in digital pathology pipelines to specify the regions from which to extract patches at high resolution. Besides extracting thumbnail, we can also extract regions from the `mask` object as we do for `wsi`:\n"
   ]
  },
  {
   "cell_type": "code",
   "execution_count": null,
   "metadata": {
    "colab": {
     "base_uri": "https://localhost:8080/",
     "height": 364
    },
    "id": "kDlfZ1KHu96B",
    "outputId": "b529b561-e5fe-484c-b2e9-78632e0e4514"
   },
   "outputs": [],
   "source": [
    "wsi_region = wsi.read_region(location=(1024, 512), level=0, size=(512, 512))\n",
    "mask_region = mask.read_region(location=(1024, 512), level=0, size=(512, 512))\n",
    "\n",
    "show_side_by_side (wsi_region, mask_region)"
   ]
  },
  {
   "cell_type": "markdown",
   "metadata": {
    "id": "SA1YVLx6u-Ov"
   },
   "source": [
    "As expected, the coordinates of the original `wsi` and the `mask` line up precisely. This can be particularly useful if you want to calculate statistics of the tissue region in a patch (e.g., tissue area, intensity, and texture information).\n",
    "\n",
    "Furthermore, there are some options (arguments) that can be used when calling `tissue_mask()` to achieve a more detailed tissue mask in high resolution or to remove small objects from the tissue mask. This will be explained in the next section.\n"
   ]
  },
  {
   "cell_type": "markdown",
   "metadata": {
    "id": "50mS7BAfGXnR"
   },
   "source": [
    "# Generating tissue mask in from images in batch\n",
    "Utilizing the functionalities in the `tissuemask` tool of the tiatoolbox, we can extract tissue masks for a batch of images. Here we use `MorphologicalMasker` to generate tissue masks for a list of input image regions.\n",
    "\n",
    "First, we extract two different regions from the `wsi`. This is ourbatch of (only two) images to be processed (using [`wsi.read_rect`](https://tia-toolbox.readthedocs.io/en/latest/usage.html?highlight=read_rect#tiatoolbox.dataloader.wsireader.WSIReader.read_rect). We then we instantiate a `MorphologicalMasker` object to be used in a later cell for extraction of masks from the batch:"
   ]
  },
  {
   "cell_type": "code",
   "execution_count": null,
   "metadata": {
    "id": "se193d70GXnS"
   },
   "outputs": [],
   "source": [
    "from tiatoolbox.tools.tissuemask import MorphologicalMasker\n",
    "\n",
    "# extracting the regions\n",
    "mag_power = 20 # magnification power to extract patches from and calculate the kernel_size based on\n",
    "region1 = wsi.read_rect(location=(1024, 256), size=(512, 512), resolution=mag_power, units='power')\n",
    "region2 = wsi.read_rect(location=(1536, 2048), size=(512, 512), resolution=mag_power, units='power')\n",
    "\n",
    "# instantiating a MorphologicalMasker\n",
    "masker = MorphologicalMasker(power=mag_power)"
   ]
  },
  {
   "cell_type": "markdown",
   "metadata": {
    "id": "estMVTO6APa8"
   },
   "source": [
    "Now, let's apply the `masker` on the extracted patches:"
   ]
  },
  {
   "cell_type": "code",
   "execution_count": null,
   "metadata": {
    "colab": {
     "base_uri": "https://localhost:8080/",
     "height": 711
    },
    "id": "ByqnPNuHAOrl",
    "outputId": "d1f5d400-fa4d-41a9-bc0d-c01f3952c4e7"
   },
   "outputs": [],
   "source": [
    "masks = masker.fit_transform([region1, region2])\n",
    "\n",
    "# showing the results\n",
    "show_side_by_side (region1, masks[0])\n",
    "show_side_by_side (region2, masks[1])"
   ]
  },
  {
   "cell_type": "markdown",
   "metadata": {
    "id": "Xh2_svjOGXnS"
   },
   "source": [
    "What `fit_transform` does is to find the optimal threshold using Otsu's method and then to post-process the initial mask by deleting small objects and applying morphological dilation. Due to the dilation operation, the detected tissue mask deliberately overflows the real boundaries of tissue regions because we don't want to miss any tissue information.\n",
    "\n",
    "You may have noticed that in the `fit_transform` function we put the inputs into square brackets, i.e. `masker.fit_transform([region1, region2])`. The `fit_transform` function accepts a list of RGB images or a numpy array in the expected shape of NxHxWxC (number images, height, width, channels), and outputs a list of tissue masks\n",
    "\n",
    "\n",
    "`MorphologicalMasker` can be used with different __optional__ arguments: \n",
    "\n",
    "- `kernel_size`: Size of the elliptical kernel to be used for morphological operations in mask post-processing.\n",
    "- `mpp`: The microns per pixel of the image to be masked. Used to calculate `kernel_size`.\n",
    "- `power`: The objective power of the image to be masked. Used to calculate `kernel_size`.\n",
    "- `min_region_size`: Minimum region size in pixels to consider as foreground.\n",
    "\n",
    "_Please note_ that only one of the named arguments `kernel_size`, `mpp`, or `power` should be used. Only the `kernel_size` is needed in morphological operations; the other two possible arguments are used only to calculate a suitable `kernel_size`.\n",
    "More information can be found in the definition of [tissuemask](https://github.com/TIA-Lab/tiatoolbox/blob/master/tiatoolbox/tools/tissuemask.py) definition. \n",
    "\n",
    "\n",
    "Next we compute the mask of `wsi_thumb` using `MorphologicalMasker` and investigate the effect of changing its parameters on the outputs:"
   ]
  },
  {
   "cell_type": "code",
   "execution_count": null,
   "metadata": {
    "colab": {
     "base_uri": "https://localhost:8080/",
     "height": 227
    },
    "id": "0BtvE-6xA7B3",
    "outputId": "b2e1b28b-d914-4ac5-f359-eac7db127c88"
   },
   "outputs": [],
   "source": [
    "def make_subplot(img, title, k):\n",
    "    plt.subplot(1,5,k)\n",
    "    plt.imshow(img)\n",
    "    plt.axis('off')\n",
    "    plt.title(title, fontdict={'fontsize': 5})\n",
    "\n",
    "# default: kernel_size=1, min_region_size=1\n",
    "masker = MorphologicalMasker() \n",
    "masks_default = masker.fit_transform([wsi_thumb])\n",
    "\n",
    "# kernel_size=1, min_region_size=30\n",
    "# meaning deleting objects smaller than 30 pixels in area\n",
    "masker = MorphologicalMasker(min_region_size=30) \n",
    "masks_small = masker.fit_transform([wsi_thumb])\n",
    "\n",
    "# kernel_size=5\n",
    "# applying morphological dilation with a eleptical kernel (r=5) and\n",
    "# deleting objects smaller than pi*5^2=78 pixels in area\n",
    "masker = MorphologicalMasker(kernel_size=5) \n",
    "masks_opt = masker.fit_transform([wsi_thumb])\n",
    "\n",
    "# power=20\n",
    "# resulting to a over estimated kernel_size, hence bigger mask\n",
    "masker = MorphologicalMasker(power=20) \n",
    "masks_big = masker.fit_transform([wsi_thumb])\n",
    "\n",
    "# showing the result\n",
    "make_subplot(wsi_thumb, 'Thumbnail', 1)\n",
    "make_subplot(masks_default[0], 'Default mask', 2)\n",
    "make_subplot(masks_small[0], 'Setting min_region_size=30', 3)\n",
    "make_subplot(masks_opt[0], 'Setting kernel_size=5', 4)\n",
    "make_subplot(masks_big[0], 'Setting power=20', 5)\n",
    "\n",
    "plt.show()"
   ]
  },
  {
   "cell_type": "markdown",
   "metadata": {
    "id": "pF0Ry46YG29V"
   },
   "source": [
    "As you can see, changing the parameters can change the resulted mask considerably. But don't worry! Normally you don't need to change or set anything when you are working with WSIs in tiatoolbox. Just use the default values of functions and the toolbox tries to find the best parameters for your input WSI (as we did when we called `mask = wsi.tissue_mask()`). \n",
    "\n",
    "Now, feel free to try these functionalities on your data, or change the parameters to see how they can affect the output mask."
   ]
  }
 ],
 "metadata": {
  "colab": {
   "collapsed_sections": [],
   "name": "Copy of example_tissuemask.ipynb",
   "provenance": []
  },
  "kernelspec": {
   "display_name": "Python 3",
   "language": "python",
   "name": "python3"
  },
  "language_info": {
   "codemirror_mode": {
    "name": "ipython",
    "version": 3
   },
   "file_extension": ".py",
   "mimetype": "text/x-python",
   "name": "python",
   "nbconvert_exporter": "python",
   "pygments_lexer": "ipython3",
   "version": "3.7.8"
  }
 },
 "nbformat": 4,
 "nbformat_minor": 1
}
