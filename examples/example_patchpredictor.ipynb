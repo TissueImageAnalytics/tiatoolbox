{
 "cells": [
  {
   "cell_type": "markdown",
   "metadata": {
    "id": "7pED6P3ZEi5Z"
   },
   "source": [
    "# Patch Prediction Models\n",
    "\n",
    "<a href=\"https://colab.research.google.com/github/TIA-Lab/tiatoolbox/blob/master/examples/example_patchprediction.ipynb\" target=\"_blank\"><img src=\"https://colab.research.google.com/assets/colab-badge.svg\" alt=\"Open In Colab\"/></a>\n",
    "\n",
    "<a href=\"https://kaggle.com/kernels/welcome?src=https://github.com/TIA-Lab/tiatoolbox/blob/master/examples/example_patchprediction.ipynb\" target=\"_blank\"><img src=\"https://kaggle.com/static/images/open-in-kaggle.svg\" alt=\"Open In Colab\"/></a>\n",
    "\n",
    "_Please note that if you are selecting Kaggle badge, in the Kaggle notebook you have to login and enable the internet connection from the setting panel on the right in order to install tiatoolbox from the internet._"
   ]
  },
  {
   "cell_type": "markdown",
   "metadata": {
    "id": "Rc067beJIG86"
   },
   "source": [
    "## About this notebook\n",
    "\n",
    "\n",
    "Before running the notebook outside Colab, set up your Python environment, as explained in the \n",
    "[README](https://github.com/TIA-Lab/tiatoolbox/blob/master/README.md#install-python-package) file.\n",
    "\n",
    "## Welcome to Tiatoolbox\n",
    "In this example we will show how you can use tiatoolbox to extract patches from a large histology image. Tiatoolbox can extract patches in different ways, such as point-based, fixed-window, and variable-window patch extraction. One practical use of these tools is when using deep learning models that cannot accept large images in the input. In particular, we will introduce the use of our module\n",
    "`patchextraction` ([details](https://github.com/TIA-Lab/tiatoolbox/blob/master/tiatoolbox/tools/patchextraction.py)).\n",
    "\n",
    "\n",
    "\n",
    "### First cell in bash\n",
    "This cell prepares the Colab environment for the use of `tiatoolbox`. This cell produces no output if it has been run before in the same Colab session."
   ]
  },
  {
   "cell_type": "markdown",
   "metadata": {
    "id": "FN9hRW4SEi5e"
   },
   "source": [
    "!apt-get -y install libopenjp2-7-dev libopenjp2-tools openslide-tools\n",
    "!pip install tiatoolbox"
   ]
  },
  {
   "cell_type": "markdown",
   "metadata": {},
   "source": [
    "## Importing related libraries\n",
    "We will start by importing some libraries required to run this notebook."
   ]
  },
  {
   "cell_type": "code",
   "execution_count": null,
   "metadata": {},
   "outputs": [],
   "source": [
    "from tiatoolbox.tools import patchextraction\n",
    "from tiatoolbox.utils.misc import imread\n",
    "from tiatoolbox.utils.misc import read_locations\n",
    "import numpy as np\n",
    "import matplotlib.pyplot as plt\n",
    "import matplotlib as mpl\n",
    "\n",
    "mpl.rcParams['figure.dpi'] = 300 # for high resolution figure in notebook"
   ]
  },
  {
   "cell_type": "markdown",
   "metadata": {},
   "source": [
    "### Downloading the required files\n",
    "We download, over the internet, a couple of files (a histology image and a csv file containing the positions of nuclei in that image). Download is needed once in each Colab session."
   ]
  },
  {
   "cell_type": "code",
   "execution_count": null,
   "metadata": {},
   "outputs": [],
   "source": [
    "import requests\n",
    "\n",
    "img_file_name = \"sample_img.png\"\n",
    "csv_file_name = \"sample_coordinates.csv\"\n",
    "\n",
    "# Downloading sample image from MoNuSeg\n",
    "r = requests.get(\"https://tiatoolbox.dcs.warwick.ac.uk/testdata/patchextraction/TCGA-HE-7130-01Z-00-DX1.png\")\n",
    "with open(img_file_name, \"wb\") as f:\n",
    "    f.write(r.content)\n",
    "\n",
    "# Downloading points list \n",
    "r = requests.get(\"https://tiatoolbox.dcs.warwick.ac.uk/testdata/patchextraction/sample_patch_extraction.csv\")\n",
    "with open(csv_file_name, \"wb\") as f:\n",
    "    f.write(r.content)\n",
    "\n",
    "print('Download is complete.')"
   ]
  }
 ],
 "metadata": {
  "colab": {
   "name": "example_stainnorm.ipynb",
   "provenance": [],
   "toc_visible": true
  },
  "kernelspec": {
   "display_name": "Python 3",
   "language": "python",
   "name": "python3"
  },
  "language_info": {
   "codemirror_mode": {
    "name": "ipython",
    "version": 3
   },
   "file_extension": ".py",
   "mimetype": "text/x-python",
   "name": "python",
   "nbconvert_exporter": "python",
   "pygments_lexer": "ipython3",
   "version": "3.8.3"
  }
 },
 "nbformat": 4,
 "nbformat_minor": 1
}
