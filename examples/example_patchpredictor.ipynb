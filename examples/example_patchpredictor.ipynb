{
 "cells": [
  {
   "cell_type": "markdown",
   "metadata": {
    "id": "7pED6P3ZEi5Z"
   },
   "source": [
    "# Example for Patch Prediction Models\n",
    "\n",
    "<a href=\"https://colab.research.google.com/github/TIA-Lab/tiatoolbox/blob/master/examples/example_patchprediction.ipynb\" target=\"_blank\"><img src=\"https://colab.research.google.com/assets/colab-badge.svg\" alt=\"Open In Colab\"/></a>\n",
    "\n",
    "<a href=\"https://kaggle.com/kernels/welcome?src=https://github.com/TIA-Lab/tiatoolbox/blob/master/examples/example_patchprediction.ipynb\" target=\"_blank\"><img src=\"https://kaggle.com/static/images/open-in-kaggle.svg\" alt=\"Open In Colab\"/></a>"
   ]
  },
  {
   "cell_type": "markdown",
   "metadata": {
    "id": "Rc067beJIG86"
   },
   "source": [
    "## Prerequisites"
   ]
  },
  {
   "cell_type": "markdown",
   "metadata": {
    "id": "FN9hRW4SEi5e"
   },
   "source": [
    "*Note*: This notebook assumes that `tiatoolbox` has already been installed. If it isn't, you can install it to your python environment by following guideline from https://github.com/TIA-Lab/tiatoolbox or using the cell below."
   ]
  },
  {
   "cell_type": "code",
   "execution_count": null,
   "metadata": {
    "colab": {
     "base_uri": "https://localhost:8080/"
    },
    "id": "8ipWT13VEi5f",
    "outputId": "6c479296-8a07-490f-92d5-902566ddfb3a"
   },
   "outputs": [],
   "source": [
    "!apt-get -y install libopenjp2-7-dev libopenjp2-tools openslide-tools"
   ]
  },
  {
   "cell_type": "code",
   "execution_count": null,
   "metadata": {
    "colab": {
     "base_uri": "https://localhost:8080/",
     "height": 1000
    },
    "id": "VULX8ZMaEi5f",
    "outputId": "498b5384-d079-47bf-fd15-60ba6c3de118"
   },
   "outputs": [],
   "source": [
    "!apt-get -y install libopenjp2-7-dev libopenjp2-tools openslide-tools"
   ]
  },
  {
   "cell_type": "code",
   "execution_count": 1,
   "metadata": {},
   "outputs": [
    {
     "name": "stdout",
     "output_type": "stream",
     "text": [
      "Collecting tiatoolbox\n",
      "  Downloading tiatoolbox-0.5.2-py2.py3-none-any.whl (52 kB)\n",
      "\u001b[K     |████████████████████████████████| 52 kB 1.7 MB/s eta 0:00:011\n",
      "\u001b[?25hRequirement already satisfied: pandas in /home/simon/anaconda3/envs/pytorch/lib/python3.6/site-packages (from tiatoolbox) (1.1.5)\n",
      "Requirement already satisfied: numpy<=1.19.3 in /home/simon/anaconda3/envs/pytorch/lib/python3.6/site-packages (from tiatoolbox) (1.19.2)\n",
      "Requirement already satisfied: pillow in /home/simon/anaconda3/envs/pytorch/lib/python3.6/site-packages (from tiatoolbox) (8.0.1)\n",
      "Collecting Click>=7.0\n",
      "  Using cached click-7.1.2-py2.py3-none-any.whl (82 kB)\n",
      "Collecting glymur\n",
      "  Downloading Glymur-0.9.3.tar.gz (2.8 MB)\n",
      "\u001b[K     |████████████████████████████████| 2.8 MB 14.8 MB/s eta 0:00:01\n",
      "\u001b[?25hRequirement already satisfied: numpy<=1.19.3 in /home/simon/anaconda3/envs/pytorch/lib/python3.6/site-packages (from tiatoolbox) (1.19.2)\n",
      "Requirement already satisfied: setuptools in /home/simon/anaconda3/envs/pytorch/lib/python3.6/site-packages (from glymur->tiatoolbox) (51.0.0.post20201207)\n",
      "Collecting lxml\n",
      "  Downloading lxml-4.6.3-cp36-cp36m-manylinux2014_x86_64.whl (6.3 MB)\n",
      "\u001b[K     |████████████████████████████████| 6.3 MB 48.6 MB/s eta 0:00:01\n",
      "\u001b[?25hCollecting matplotlib\n",
      "  Downloading matplotlib-3.3.4-cp36-cp36m-manylinux1_x86_64.whl (11.5 MB)\n",
      "\u001b[K     |████████████████████████████████| 11.5 MB 141.3 MB/s eta 0:00:01\n",
      "\u001b[?25hRequirement already satisfied: pyparsing!=2.0.4,!=2.1.2,!=2.1.6,>=2.0.3 in /home/simon/anaconda3/envs/pytorch/lib/python3.6/site-packages (from matplotlib->tiatoolbox) (2.4.7)\n",
      "Requirement already satisfied: numpy<=1.19.3 in /home/simon/anaconda3/envs/pytorch/lib/python3.6/site-packages (from tiatoolbox) (1.19.2)\n",
      "Requirement already satisfied: python-dateutil>=2.1 in /home/simon/anaconda3/envs/pytorch/lib/python3.6/site-packages (from matplotlib->tiatoolbox) (2.8.1)\n",
      "Requirement already satisfied: pillow in /home/simon/anaconda3/envs/pytorch/lib/python3.6/site-packages (from tiatoolbox) (8.0.1)\n",
      "Collecting cycler>=0.10\n",
      "  Using cached cycler-0.10.0-py2.py3-none-any.whl (6.5 kB)\n",
      "Requirement already satisfied: six in /home/simon/anaconda3/envs/pytorch/lib/python3.6/site-packages (from cycler>=0.10->matplotlib->tiatoolbox) (1.15.0)\n",
      "Collecting kiwisolver>=1.0.1\n",
      "  Using cached kiwisolver-1.3.1-cp36-cp36m-manylinux1_x86_64.whl (1.1 MB)\n",
      "Collecting opencv-python>=4.0\n",
      "  Downloading opencv_python-4.5.1.48-cp36-cp36m-manylinux2014_x86_64.whl (50.4 MB)\n",
      "\u001b[K     |████████████████████████████████| 50.4 MB 13.6 MB/s eta 0:00:01\n",
      "\u001b[?25hRequirement already satisfied: numpy<=1.19.3 in /home/simon/anaconda3/envs/pytorch/lib/python3.6/site-packages (from tiatoolbox) (1.19.2)\n",
      "Collecting openslide-python==1.1.2\n",
      "  Using cached openslide_python-1.1.2-cp36-cp36m-linux_x86_64.whl\n",
      "Requirement already satisfied: pillow in /home/simon/anaconda3/envs/pytorch/lib/python3.6/site-packages (from tiatoolbox) (8.0.1)\n",
      "Requirement already satisfied: pytz>=2017.2 in /home/simon/anaconda3/envs/pytorch/lib/python3.6/site-packages (from pandas->tiatoolbox) (2020.4)\n",
      "Requirement already satisfied: numpy<=1.19.3 in /home/simon/anaconda3/envs/pytorch/lib/python3.6/site-packages (from tiatoolbox) (1.19.2)\n",
      "Requirement already satisfied: python-dateutil>=2.1 in /home/simon/anaconda3/envs/pytorch/lib/python3.6/site-packages (from matplotlib->tiatoolbox) (2.8.1)\n",
      "Requirement already satisfied: six in /home/simon/anaconda3/envs/pytorch/lib/python3.6/site-packages (from cycler>=0.10->matplotlib->tiatoolbox) (1.15.0)\n",
      "Collecting pyyaml\n",
      "  Using cached PyYAML-5.4.1-cp36-cp36m-manylinux1_x86_64.whl (640 kB)\n",
      "Collecting scikit-image>=0.17\n",
      "  Using cached scikit_image-0.17.2-cp36-cp36m-manylinux1_x86_64.whl (12.4 MB)\n",
      "Requirement already satisfied: pillow in /home/simon/anaconda3/envs/pytorch/lib/python3.6/site-packages (from tiatoolbox) (8.0.1)\n",
      "Requirement already satisfied: numpy<=1.19.3 in /home/simon/anaconda3/envs/pytorch/lib/python3.6/site-packages (from tiatoolbox) (1.19.2)\n",
      "Collecting imageio>=2.3.0\n",
      "  Using cached imageio-2.9.0-py3-none-any.whl (3.3 MB)\n",
      "Requirement already satisfied: pillow in /home/simon/anaconda3/envs/pytorch/lib/python3.6/site-packages (from tiatoolbox) (8.0.1)\n",
      "Requirement already satisfied: numpy<=1.19.3 in /home/simon/anaconda3/envs/pytorch/lib/python3.6/site-packages (from tiatoolbox) (1.19.2)\n",
      "Collecting networkx>=2.0\n",
      "  Downloading networkx-2.5.1-py3-none-any.whl (1.6 MB)\n",
      "\u001b[K     |████████████████████████████████| 1.6 MB 147.8 MB/s eta 0:00:01\n",
      "\u001b[?25hCollecting decorator<5,>=4.3\n",
      "  Using cached decorator-4.4.2-py2.py3-none-any.whl (9.2 kB)\n",
      "Collecting PyWavelets>=1.1.1\n",
      "  Using cached PyWavelets-1.1.1-cp36-cp36m-manylinux1_x86_64.whl (4.4 MB)\n",
      "Requirement already satisfied: numpy<=1.19.3 in /home/simon/anaconda3/envs/pytorch/lib/python3.6/site-packages (from tiatoolbox) (1.19.2)\n",
      "Collecting scikit-learn==0.23.2\n",
      "  Downloading scikit_learn-0.23.2-cp36-cp36m-manylinux1_x86_64.whl (6.8 MB)\n",
      "\u001b[K     |████████████████████████████████| 6.8 MB 28.7 MB/s eta 0:00:01\n",
      "\u001b[?25hRequirement already satisfied: numpy<=1.19.3 in /home/simon/anaconda3/envs/pytorch/lib/python3.6/site-packages (from tiatoolbox) (1.19.2)\n",
      "Collecting joblib>=0.11\n",
      "  Downloading joblib-1.0.1-py3-none-any.whl (303 kB)\n",
      "\u001b[K     |████████████████████████████████| 303 kB 149.4 MB/s eta 0:00:01\n",
      "\u001b[?25hCollecting scipy>=1.0.1\n",
      "  Using cached scipy-1.5.4-cp36-cp36m-manylinux1_x86_64.whl (25.9 MB)\n",
      "Requirement already satisfied: numpy<=1.19.3 in /home/simon/anaconda3/envs/pytorch/lib/python3.6/site-packages (from tiatoolbox) (1.19.2)\n",
      "Collecting threadpoolctl>=2.0.0\n",
      "  Using cached threadpoolctl-2.1.0-py3-none-any.whl (12 kB)\n",
      "Collecting tifffile>=2019.7.26\n",
      "  Using cached tifffile-2020.9.3-py3-none-any.whl (148 kB)\n",
      "Requirement already satisfied: numpy<=1.19.3 in /home/simon/anaconda3/envs/pytorch/lib/python3.6/site-packages (from tiatoolbox) (1.19.2)\n",
      "Building wheels for collected packages: glymur\n",
      "  Building wheel for glymur (setup.py) ... \u001b[?25ldone\n",
      "\u001b[?25h  Created wheel for glymur: filename=Glymur-0.9.3-py3-none-any.whl size=2785100 sha256=1f507ed44ca822f03c3325edbf08bc315879f81ab9c4c698161ba9405e181852\n",
      "  Stored in directory: /home/simon/.cache/pip/wheels/08/88/b4/240fd956d804e7ba93217e401372889db77daf01519b8f2181\n",
      "Successfully built glymur\n",
      "Installing collected packages: kiwisolver, decorator, cycler, tifffile, threadpoolctl, scipy, PyWavelets, networkx, matplotlib, lxml, joblib, imageio, scikit-learn, scikit-image, pyyaml, openslide-python, opencv-python, glymur, Click, tiatoolbox\n",
      "  Attempting uninstall: decorator\n",
      "    Found existing installation: decorator 5.0.7\n",
      "    Uninstalling decorator-5.0.7:\n",
      "      Successfully uninstalled decorator-5.0.7\n",
      "Successfully installed Click-7.1.2 PyWavelets-1.1.1 cycler-0.10.0 decorator-4.4.2 glymur-0.9.3 imageio-2.9.0 joblib-1.0.1 kiwisolver-1.3.1 lxml-4.6.3 matplotlib-3.3.4 networkx-2.5.1 opencv-python-4.5.1.48 openslide-python-1.1.2 pyyaml-5.4.1 scikit-image-0.17.2 scikit-learn-0.23.2 scipy-1.5.4 threadpoolctl-2.1.0 tiatoolbox-0.5.2 tifffile-2020.9.3\n"
     ]
    }
   ],
   "source": [
    "!pip install tiatoolbox"
   ]
  },
  {
   "cell_type": "code",
   "execution_count": null,
   "metadata": {},
   "outputs": [],
   "source": []
  }
 ],
 "metadata": {
  "colab": {
   "name": "example_stainnorm.ipynb",
   "provenance": [],
   "toc_visible": true
  },
  "kernelspec": {
   "display_name": "Python 3",
   "language": "python",
   "name": "python3"
  },
  "language_info": {
   "codemirror_mode": {
    "name": "ipython",
    "version": 3
   },
   "file_extension": ".py",
   "mimetype": "text/x-python",
   "name": "python",
   "nbconvert_exporter": "python",
   "pygments_lexer": "ipython3",
   "version": "3.6.12"
  }
 },
 "nbformat": 4,
 "nbformat_minor": 1
}
