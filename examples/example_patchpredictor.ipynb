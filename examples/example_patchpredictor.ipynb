{
 "cells": [
  {
   "cell_type": "markdown",
   "metadata": {
    "id": "7pED6P3ZEi5Z"
   },
   "source": [
    "# Patch Prediction Models\n",
    "\n",
    "<a href=\"https://colab.research.google.com/github/TIA-Lab/tiatoolbox/blob/master/examples/example_patchprediction.ipynb\" target=\"_blank\"><img src=\"https://colab.research.google.com/assets/colab-badge.svg\" alt=\"Open In Colab\"/></a>\n",
    "\n",
    "<a href=\"https://kaggle.com/kernels/welcome?src=https://github.com/TIA-Lab/tiatoolbox/blob/master/examples/example_patchprediction.ipynb\" target=\"_blank\"><img src=\"https://kaggle.com/static/images/open-in-kaggle.svg\" alt=\"Open In Colab\"/></a>\n",
    "\n",
    "_Please note that if you are selecting Kaggle badge, in the Kaggle notebook you have to login and enable the internet connection from the setting panel on the right in order to install tiatoolbox from the internet._"
   ]
  },
  {
   "cell_type": "markdown",
   "metadata": {
    "id": "Rc067beJIG86"
   },
   "source": [
    "## About this notebook\n",
    "\n",
    "\n",
    "Before running the notebook outside Colab, set up your Python environment, as explained in the \n",
    "[README](https://github.com/TIA-Lab/tiatoolbox/blob/master/README.md#install-python-package) file.\n",
    "\n",
    "## Welcome to Tiatoolbox\n",
    "\n",
    "In this example we will show how to use tiatoolbox for patch-level prediction using a range of deep learning models. Tiatoolbox can be used to make predictions on pre-extracted image patches or on larger image tiles / whole-slide images (WSIs), where image patches are extracted on the fly. WSI Patch-level predictions can subsequently be aggregated to obtain a segmentation map. In particular, we will introduce the use of our module\n",
    "`patch_predictor` ([details](https://github.com/TIA-Lab/tiatoolbox/blob/master/tiatoolbox/models/classification/patchextraction.py)). A full list of the available models trained and provided in tiatoolbox for patch-level prediction are given below:\n",
    "\n",
    "- Models trained on the Kather 100K dataset ([details](https://zenodo.org/record/1214456#.YJw4UEhKjvU)):\n",
    "    - `alexnet-kather100K`\n",
    "    - `resnet18-kather100K`\n",
    "    - `resnet34-kather100K`\n",
    "    - `resnet50-kather100K`\n",
    "    - `resnet101-kather100K`\n",
    "    - `resnext50_32x4d-kather100K`\n",
    "    - `resnext101_32x8d-kather100K`\n",
    "    - `wide_resnet50_2-kather100K`\n",
    "    - `wide_resnet101_2-kather100K`\n",
    "    - `densenet121-kather100K`\n",
    "    - `densenet161-kather100K`\n",
    "    - `densenet169-kather100K`\n",
    "    - `densenet201-kather100K`\n",
    "    - `mobilenet_v2-kather100K`\n",
    "    - `mobilenet_v3_large-kather100K`\n",
    "    - `mobilenet_v3_small-kather100K`\n",
    "    - `googlenet-kather100K`\n",
    "\n",
    "### First cell in bash\n",
    "This cell prepares the Colab environment for the use of `tiatoolbox`. This cell produces no output if it has been run before in the same Colab session."
   ]
  },
  {
   "cell_type": "code",
   "execution_count": 1,
   "metadata": {
    "id": "FN9hRW4SEi5e"
   },
   "outputs": [
    {
     "name": "stdout",
     "output_type": "stream",
     "text": [
      "E: Could not open lock file /var/lib/dpkg/lock-frontend - open (13: Permission denied)\n",
      "E: Unable to acquire the dpkg frontend lock (/var/lib/dpkg/lock-frontend), are you root?\n",
      "Requirement already satisfied: tiatoolbox in /home/simon/anaconda3/envs/tiatoolbox/lib/python3.7/site-packages (0.6.0)\n",
      "Requirement already satisfied: pillow in /home/simon/anaconda3/envs/tiatoolbox/lib/python3.7/site-packages (from tiatoolbox) (8.1.0)\n",
      "Requirement already satisfied: numpy in /home/simon/anaconda3/envs/tiatoolbox/lib/python3.7/site-packages (from tiatoolbox) (1.20.2)\n",
      "Requirement already satisfied: glymur in /home/simon/anaconda3/envs/tiatoolbox/lib/python3.7/site-packages (from tiatoolbox) (0.9.3)\n",
      "Requirement already satisfied: opencv-python>=4.0 in /home/simon/anaconda3/envs/tiatoolbox/lib/python3.7/site-packages (from tiatoolbox) (4.5.2.52)\n",
      "Requirement already satisfied: pyyaml in /home/simon/anaconda3/envs/tiatoolbox/lib/python3.7/site-packages (from tiatoolbox) (5.4.1)\n",
      "Requirement already satisfied: scikit-image>=0.17 in /home/simon/anaconda3/envs/tiatoolbox/lib/python3.7/site-packages (from tiatoolbox) (0.18.1)\n",
      "Requirement already satisfied: openslide-python==1.1.2 in /home/simon/anaconda3/envs/tiatoolbox/lib/python3.7/site-packages (from tiatoolbox) (1.1.2)\n",
      "Requirement already satisfied: Click>=7.0 in /home/simon/anaconda3/envs/tiatoolbox/lib/python3.7/site-packages (from tiatoolbox) (7.1.2)\n",
      "Requirement already satisfied: pandas in /home/simon/anaconda3/envs/tiatoolbox/lib/python3.7/site-packages (from tiatoolbox) (1.2.4)\n",
      "Requirement already satisfied: scikit-learn==0.23.2 in /home/simon/anaconda3/envs/tiatoolbox/lib/python3.7/site-packages (from tiatoolbox) (0.23.2)\n",
      "Requirement already satisfied: matplotlib in /home/simon/anaconda3/envs/tiatoolbox/lib/python3.7/site-packages (from tiatoolbox) (3.4.1)\n",
      "Requirement already satisfied: joblib>=0.11 in /home/simon/anaconda3/envs/tiatoolbox/lib/python3.7/site-packages (from scikit-learn==0.23.2->tiatoolbox) (1.0.1)\n",
      "Requirement already satisfied: threadpoolctl>=2.0.0 in /home/simon/anaconda3/envs/tiatoolbox/lib/python3.7/site-packages (from scikit-learn==0.23.2->tiatoolbox) (2.1.0)\n",
      "Requirement already satisfied: scipy>=0.19.1 in /home/simon/anaconda3/envs/tiatoolbox/lib/python3.7/site-packages (from scikit-learn==0.23.2->tiatoolbox) (1.6.2)\n",
      "Requirement already satisfied: networkx>=2.0 in /home/simon/anaconda3/envs/tiatoolbox/lib/python3.7/site-packages (from scikit-image>=0.17->tiatoolbox) (2.5)\n",
      "Requirement already satisfied: imageio>=2.3.0 in /home/simon/anaconda3/envs/tiatoolbox/lib/python3.7/site-packages (from scikit-image>=0.17->tiatoolbox) (2.9.0)\n",
      "Requirement already satisfied: tifffile>=2019.7.26 in /home/simon/anaconda3/envs/tiatoolbox/lib/python3.7/site-packages (from scikit-image>=0.17->tiatoolbox) (2020.6.3)\n",
      "Requirement already satisfied: PyWavelets>=1.1.1 in /home/simon/anaconda3/envs/tiatoolbox/lib/python3.7/site-packages (from scikit-image>=0.17->tiatoolbox) (1.1.1)\n",
      "Requirement already satisfied: kiwisolver>=1.0.1 in /home/simon/anaconda3/envs/tiatoolbox/lib/python3.7/site-packages (from matplotlib->tiatoolbox) (1.3.1)\n",
      "Requirement already satisfied: python-dateutil>=2.7 in /home/simon/anaconda3/envs/tiatoolbox/lib/python3.7/site-packages (from matplotlib->tiatoolbox) (2.8.1)\n",
      "Requirement already satisfied: cycler>=0.10 in /home/simon/anaconda3/envs/tiatoolbox/lib/python3.7/site-packages (from matplotlib->tiatoolbox) (0.10.0)\n",
      "Requirement already satisfied: pyparsing>=2.2.1 in /home/simon/anaconda3/envs/tiatoolbox/lib/python3.7/site-packages (from matplotlib->tiatoolbox) (2.4.7)\n",
      "Requirement already satisfied: six in /home/simon/anaconda3/envs/tiatoolbox/lib/python3.7/site-packages (from cycler>=0.10->matplotlib->tiatoolbox) (1.15.0)\n",
      "Requirement already satisfied: decorator>=4.3.0 in /home/simon/anaconda3/envs/tiatoolbox/lib/python3.7/site-packages (from networkx>=2.0->scikit-image>=0.17->tiatoolbox) (5.0.7)\n",
      "Requirement already satisfied: setuptools in /home/simon/anaconda3/envs/tiatoolbox/lib/python3.7/site-packages (from glymur->tiatoolbox) (49.6.0.post20210108)\n",
      "Requirement already satisfied: lxml in /home/simon/anaconda3/envs/tiatoolbox/lib/python3.7/site-packages (from glymur->tiatoolbox) (4.4.1)\n",
      "Requirement already satisfied: pytz>=2017.3 in /home/simon/anaconda3/envs/tiatoolbox/lib/python3.7/site-packages (from pandas->tiatoolbox) (2021.1)\n"
     ]
    }
   ],
   "source": [
    "!apt-get -y install libopenjp2-7-dev libopenjp2-tools openslide-tools\n",
    "!pip install tiatoolbox"
   ]
  },
  {
   "cell_type": "markdown",
   "metadata": {},
   "source": [
    "## Importing related libraries\n",
    "We will start by importing some libraries required to run this notebook."
   ]
  },
  {
   "cell_type": "code",
   "execution_count": 5,
   "metadata": {},
   "outputs": [
    {
     "output_type": "error",
     "ename": "ModuleNotFoundError",
     "evalue": "No module named 'tiatoolbox.models'",
     "traceback": [
      "\u001b[0;31m---------------------------------------------------------------------------\u001b[0m",
      "\u001b[0;31mModuleNotFoundError\u001b[0m                       Traceback (most recent call last)",
      "\u001b[0;32m<ipython-input-5-bfb0c5ccb584>\u001b[0m in \u001b[0;36m<module>\u001b[0;34m\u001b[0m\n\u001b[1;32m      1\u001b[0m \u001b[0;32mimport\u001b[0m \u001b[0mtiatoolbox\u001b[0m\u001b[0;34m\u001b[0m\u001b[0;34m\u001b[0m\u001b[0m\n\u001b[0;32m----> 2\u001b[0;31m \u001b[0;32mfrom\u001b[0m \u001b[0mtiatoolbox\u001b[0m\u001b[0;34m.\u001b[0m\u001b[0mmodels\u001b[0m \u001b[0;32mimport\u001b[0m \u001b[0mclassification\u001b[0m\u001b[0;34m\u001b[0m\u001b[0;34m\u001b[0m\u001b[0m\n\u001b[0m\u001b[1;32m      3\u001b[0m \u001b[0;32mimport\u001b[0m \u001b[0mnumpy\u001b[0m \u001b[0;32mas\u001b[0m \u001b[0mnp\u001b[0m\u001b[0;34m\u001b[0m\u001b[0;34m\u001b[0m\u001b[0m\n\u001b[1;32m      4\u001b[0m \u001b[0;32mimport\u001b[0m \u001b[0mmatplotlib\u001b[0m\u001b[0;34m.\u001b[0m\u001b[0mpyplot\u001b[0m \u001b[0;32mas\u001b[0m \u001b[0mplt\u001b[0m\u001b[0;34m\u001b[0m\u001b[0;34m\u001b[0m\u001b[0m\n\u001b[1;32m      5\u001b[0m \u001b[0;32mimport\u001b[0m \u001b[0mmatplotlib\u001b[0m \u001b[0;32mas\u001b[0m \u001b[0mmpl\u001b[0m\u001b[0;34m\u001b[0m\u001b[0;34m\u001b[0m\u001b[0m\n",
      "\u001b[0;31mModuleNotFoundError\u001b[0m: No module named 'tiatoolbox.models'"
     ]
    }
   ],
   "source": [
    "from tiatoolbox.models.classification import CNNPatchPredictor\n",
    "import numpy as np\n",
    "import matplotlib.pyplot as plt\n",
    "import matplotlib as mpl\n",
    "\n",
    "mpl.rcParams['figure.dpi'] = 300 # for high resolution figure in notebook"
   ]
  },
  {
   "cell_type": "markdown",
   "metadata": {},
   "source": [
    "### Downloading the required files\n",
    "We download, over the internet, a whole-slide image and an image tile to use within our patch prediction models. Download is needed once in each Colab session."
   ]
  },
  {
   "cell_type": "code",
   "execution_count": null,
   "metadata": {},
   "outputs": [],
   "source": [
    "import requests\n",
    "\n",
    "img_file_name = \"sample_img.png\"\n",
    "wsi_file_name = \"sample_wsi.svs\"\n",
    "\n",
    "# Downloading sample image tile\n",
    "r = requests.get(\"https://tiatoolbox.dcs.warwick.ac.uk/testdata/models/colon_image_tile.png\")\n",
    "with open(img_file_name, \"wb\") as f:\n",
    "    f.write(r.content)\n",
    "\n",
    "# Downloading points list \n",
    "r = requests.get(\"https://tiatoolbox.dcs.warwick.ac.uk/testdata/models/sample_patch_extraction.csv\")\n",
    "with open(csv_file_name, \"wb\") as f:\n",
    "    f.write(r.content)\n",
    "\n",
    "print('Download is complete.')"
   ]
  },
  {
   "source": [
    "# Get predictions for a set of patches\n",
    "\n",
    "Below we will demonstrate how to use tiatoolbox to obtain the model predictions for a set of patches with a pretrained model. "
   ],
   "cell_type": "markdown",
   "metadata": {}
  },
  {
   "source": [
    "# Get predictions for patches within an image tile\n",
    "\n",
    "We will now demonstrate how to obtain predictions for all patches within a larger image tile."
   ],
   "cell_type": "markdown",
   "metadata": {}
  },
  {
   "source": [
    "# Get predictions for patches within a WSI\n",
    "\n",
    "We will now demonstrate how to obtain predictions for all patches within a whole-slide image."
   ],
   "cell_type": "markdown",
   "metadata": {}
  },
  {
   "cell_type": "code",
   "execution_count": null,
   "metadata": {},
   "outputs": [],
   "source": []
  }
 ],
 "metadata": {
  "colab": {
   "name": "example_stainnorm.ipynb",
   "provenance": [],
   "toc_visible": true
  },
  "kernelspec": {
   "name": "python378jvsc74a57bd0d67d6e8b163139435ea331aab9f1bdfc145b4dfdfb222aa9dabd039edce8583e",
   "display_name": "Python 3.7.8 64-bit ('tiatoolbox': conda)"
  },
  "language_info": {
   "codemirror_mode": {
    "name": "ipython",
    "version": 3
   },
   "file_extension": ".py",
   "mimetype": "text/x-python",
   "name": "python",
   "nbconvert_exporter": "python",
   "pygments_lexer": "ipython3",
   "version": "3.7.8"
  }
 },
 "nbformat": 4,
 "nbformat_minor": 1
}