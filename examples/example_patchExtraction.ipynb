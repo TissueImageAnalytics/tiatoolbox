{
 "cells": [
  {
   "cell_type": "markdown",
   "metadata": {},
   "source": [
    "# Example pf patch extraction from point list\n"
   ]
  },
  {
   "cell_type": "markdown",
   "metadata": {},
   "source": [
    "*Note*: This notebook assumes that `tiatoolbox` has already been installed. If it isn't, you can install it to your python environment by following guideline from https://github.com/TIA-Lab/tiatoolbox or you can install the stable release by running the cell below."
   ]
  },
  {
   "cell_type": "code",
   "execution_count": null,
   "metadata": {},
   "outputs": [],
   "source": [
    "!apt-get -y install libopenjp2-7-dev libopenjp2-tools openslide-tools"
   ]
  },
  {
   "cell_type": "code",
   "execution_count": null,
   "metadata": {},
   "outputs": [],
   "source": [
    "!pip install tiatoolbox"
   ]
  },
  {
   "cell_type": "markdown",
   "metadata": {},
   "source": [
    "Welcome to tiatoolbox. In this example we will show how you can use tiatoolbox to extract patches from an images or a whole slide image providing a list of your desired points. This tool can be very useful for several applications, one practical example is patch extracton for training classification models.\n",
    "\n",
    "We will start by importing some libraries required to run this notebook examples."
   ]
  },
  {
   "cell_type": "code",
   "execution_count": null,
   "metadata": {},
   "outputs": [],
   "source": [
    "from tiatoolbox.tools import patchextraction\n",
    "from tiatoolbox.utils.misc import imread\n",
    "from tiatoolbox.utils.misc import read_point_annotations\n",
    "import numpy as np\n",
    "import matplotlib.pyplot as plt\n",
    "import matplotlib as mpl\n",
    "\n",
    "mpl.rcParams['figure.dpi'] = 300 # for high resolution figure in notebook"
   ]
  },
  {
   "cell_type": "markdown",
   "metadata": {},
   "source": [
    "For this tutorial, we use a sample image from MoNuSeg dataset for which we have already extracted the centroid location of nuclei. The sample image and point list file comes with tiatoolbox and can be read like below:"
   ]
  },
  {
   "cell_type": "code",
   "execution_count": null,
   "metadata": {},
   "outputs": [],
   "source": [
    "# Reding sample image and nuclei centroid list\n",
    "input_img = imread(\"../tests/data/TCGA-HE-7130-01Z-00-DX1.png\")\n",
    "centroids_list = read_point_annotations(\n",
    "                    \"../tests/data/sample_patch_extraction.csv\")\n",
    "\n",
    "print('Size of input image is: {}'.format(input_img.shape))\n",
    "print('And there is {} point annotations for this image'.format(\n",
    "                                        centroids_list.shape[0]))"
   ]
  },
  {
   "cell_type": "markdown",
   "metadata": {},
   "source": [
    "The function `read_point_annotations` returns a panda dataFrame which contains a list of points in the (x, y, class) format as they should be saved like this. To better see what we are dealing with here, we can show the image with the desired centroids overlaid on it"
   ]
  },
  {
   "cell_type": "code",
   "execution_count": null,
   "metadata": {},
   "outputs": [],
   "source": [
    "# overlay nuclei centroids on image and plot\n",
    "plt.imshow(input_img)\n",
    "plt.scatter(np.array(centroids_list)[:,0], np.array(centroids_list)[:,1], s=1)\n",
    "plt.axis('off')\n",
    "plt.show()"
   ]
  },
  {
   "cell_type": "markdown",
   "metadata": {},
   "source": [
    "As you can see in the above figure, each nucleus is marked with a dot. Now, in order to train our nuclei classifier model, we need to extract patches for all nuclei and save them in different folders based on their class from the list. This can be easily done using functions in `PointsPatchExtractor` class. This is a patch extractor class which yields patches from the `input_img` based on the `centroids_list` one-by-one manner. Generally, to create a patch extractor instance, we use `get_patch_extractor` function as follows:"
   ]
  },
  {
   "cell_type": "code",
   "execution_count": null,
   "metadata": {
    "tags": []
   },
   "outputs": [],
   "source": [
    "patch_extractor = patchextraction.get_patch_extractor(\n",
    "        input_img=input_img, # input image path, numpy array, or WSI object\n",
    "        labels=np.array(centroids_list)[300:350,:], # path to list of points (csv, json), numpy list, panda DF\n",
    "        method_name=\"point\", # also supports \"fixedwindow\" and \"variablewindow\"\n",
    "        patch_size=(32, 32), # size of the patch to extract around the centroids from centroids_list\n",
    "    )"
   ]
  },
  {
   "cell_type": "markdown",
   "metadata": {},
   "source": [
    "As you can see, `patchextraction.get_patch_extractor` accepts several arguments:\n",
    "\n",
    "- `input_img`: This referes to the image that we want to extract patches from. In this tutorial, we first read the image and passed it to this function, while you can just pass the image address to the function and it will automatically read the image (or WSI).\n",
    "- `labels`: This refers to the list of points that we want to extract patches from it. In this tutorial, we first load the points list as a pandas DF and passed it to this function, while you can just pass the csv or json file address to the function and it will automatically load the point list.\n",
    "- `method_name`: This important argument specifies the type of patch extractor that we want to build. As we are looking to extract patches around centroid points, we use `point` option. Right now, `fixedwindow` and `variablewindow` are also supported. Please refer to documentation for more information\n",
    "- `patch_size`: Size of the patches. \n",
    "\n",
    "As we mentioned before, `patch_extractor` is some kind of generator. It has been design like this to be efficient when working with large list of points and avoiding RAM overusing. \n",
    "\n",
    "To extract patches using the `patch_extractor` one can use for loops like below, where we try to extract the first 16 patches from the `input_img` based on `centroids_list'."
   ]
  },
  {
   "cell_type": "code",
   "execution_count": null,
   "metadata": {},
   "outputs": [],
   "source": [
    "i = 1\n",
    "for patch in patch_extractor:\n",
    "    plt.subplot(4,4,i)\n",
    "    plt.imshow(patch)\n",
    "    plt.axis('off')\n",
    "    if i >= 16: # show only first 16 patches\n",
    "        break\n",
    "    i += 1\n",
    "plt.show()\n"
   ]
  },
  {
   "cell_type": "markdown",
   "metadata": {},
   "source": [
    "You can also use `__next__` method to get the next patch from the `patch_extractor` (only if you have not reach the end of the centroid list):"
   ]
  },
  {
   "cell_type": "code",
   "execution_count": null,
   "metadata": {},
   "outputs": [],
   "source": [
    "this_patch = patch_extractor.__next__()\n",
    "plt.imshow(this_patch)\n",
    "plt.axis('off')\n",
    "plt.show()"
   ]
  }
 ],
 "metadata": {
  "kernelspec": {
   "name": "python3",
   "display_name": "Python 3.6.12 64-bit ('tf1': conda)",
   "metadata": {
    "interpreter": {
     "hash": "641317031b9f54126a387462bfafcc8a3ed3bbe28fae551a718f7a4af76cf9e8"
    }
   }
  },
  "language_info": {
   "codemirror_mode": {
    "name": "ipython",
    "version": 3
   },
   "file_extension": ".py",
   "mimetype": "text/x-python",
   "name": "python",
   "nbconvert_exporter": "python",
   "pygments_lexer": "ipython3",
   "version": "3.6.12-final"
  }
 },
 "nbformat": 4,
 "nbformat_minor": 2
}