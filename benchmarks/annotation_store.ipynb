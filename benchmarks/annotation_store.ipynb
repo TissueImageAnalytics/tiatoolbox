{
  "cells": [
    {
      "cell_type": "markdown",
      "metadata": {
        "id": "aqPkpRk-pT5q"
      },
      "source": [
        "# Benchmarking Annotation Storage\n",
        "\n",
        "Click to open in: \\[[GitHub](https://github.com/TissueImageAnalytics/tiatoolbox/tree/develop/benchmarks/annotation_store.ipynb)\\]\\[[Colab](https://colab.research.google.com/github/TissueImageAnalytics/tiatoolbox/blob/develop/benchmarks/annotation_store.ipynb)\\]\\[[Kaggle](https://kaggle.com/kernels/welcome?src=https://github.com/TissueImageAnalytics/tiatoolbox/blob/develop/benchmarks/annotation_store.ipynb)\\]\n",
        "\n"
      ]
    },
    {
      "cell_type": "markdown",
      "metadata": {
        "id": "BS0G58BPpT5s"
      },
      "source": [
        "_In order to run this notebook on a Kaggle platform, 1) click the Kaggle URL 2) click on Settings on the right of the Kaggle screen, 3) log in to your Kaggle account, 4) tick \"Internet\" checkbox under Settings, to enable necessary downloads._\n",
        "\n",
        "**NOTE:** Some parts of this notebook require a lot of memory. Part 2 in particular may not run on memory constrained systems. The notebook will run well on an MacBook Air (M1, 2020) but will use a lot of swap. It may require >64GB of memory for second half to avoid using swap.\n",
        "\n"
      ]
    },
    {
      "cell_type": "markdown",
      "metadata": {
        "id": "EjHQXjqrpT5s"
      },
      "source": [
        "## About This Notebook\n",
        "\n",
        "Managing annotation, either created by hand or from model output, is a\n",
        "common task in computational pathology. For a small number of\n",
        "annotations this may be trivial. However, for large numbers of\n",
        "annotations, it is often necessary to store the annotations in a more\n",
        "structured format such as a database. This is because finding a desired\n",
        "subset of annotations within a very large collection, for example over\n",
        "one million cell boundary polygons derived from running HoVerNet on a\n",
        "WSI, may be very slow if performed in a naive manner. In the toolbox, we\n",
        "implement two storage method to make handling annotations easier:\n",
        "`DictionaryStore` and `SQLiteStore`.\n",
        "\n",
        "### Storage Classes\n",
        "\n",
        "Both stores act as a key-value store where the key is the annotation ID\n",
        "(as a string) and the value is the annotation. This follows the Python\n",
        "[`MutableMapping`](https://docs.python.org/3/library/collections.abc.html#collections.abc.MutableMapping)\n",
        "interface meaning that the stores can be used in the same way as a\n",
        "regular Python dictionary (`dict`).\n",
        "\n",
        "The `DictionaryStore` is implemented internally using a Python\n",
        "dictionary. It is a realtively simple class, operating with all\n",
        "annotations in memory and using a simple scan method to search for\n",
        "annotations. This works very well for a small number of annotations. In\n",
        "contrast the `SQLiteStore` is implemented using a SQLite database\n",
        "(either in memory or on disk), it is a more complex class making use of\n",
        "an rtree index to efficiently spatially search for annotations. This is\n",
        "much more suited to a very large number of annotations. However, they\n",
        "both follow the same interface and can be used interchangeably for\n",
        "almost all methods (`SQLiteStore` has some additional methods).\n",
        "\n",
        "### Provided Functionality (Mini Tutorial)\n",
        "\n",
        "The storage classes provide a lot of functionality including. This\n",
        "includes all of the standard `MutableMapping` methods, as well as\n",
        "some additional ones for querying the collection of annotations.\n",
        "Below is a brief summary of the main functionality.\n",
        "\n",
        "#### Adding Annotations\n",
        "\n",
        "```python\n",
        "from tiatoolbox.annotation.storage import Annotation, DictionaryStore, SQliteStore\n",
        "from shapely.geometry import Polygon\n",
        "\n",
        "# Create a new store. If no path is given it is an in-memory store.\n",
        "store = DictionaryStore()\n",
        "\n",
        "# An annotation is a shapely geometry and a JSON serializable dictionary\n",
        "annotation = Annotation(Polygon.from_bounds(0, 0, 1, 1), {\"id\": \"1\"})\n",
        "\n",
        "# Add the annotation to the store in the same way as a dictionary\n",
        "store[\"foo\"] = annotation\n",
        "\n",
        "# Bulk append is also supported. This will be faster in some contexts\n",
        "# (e.g. for an SQLiteStore) than adding them one at a time.\n",
        "# Here we add 100 simple box annotations.\n",
        "# As we have not specified a set of keys to use, a new UUID is generated\n",
        "# for each. The respective generated keys are also returned.\n",
        "annotations = [\n",
        "    Annotation(Polygon.from_bounds(n, n, n + 1, n + 1), {\"id\": n}) for n in range(100)\n",
        "]\n",
        "keys = store.append_many(annotations)\n",
        "```\n",
        "\n",
        "#### Removing Annotations\n",
        "\n",
        "```python\n",
        "# Remove an annotation by key\n",
        "del store[\"foo\"]\n",
        "\n",
        "# Bulk removal\n",
        "keys = [\"1234-5676....\", \"...\"]  # etc.\n",
        "store.remove_many(keys)\n",
        "```\n",
        "\n",
        "#### Querying Within a Region\n",
        "\n",
        "```python\n",
        "# Find all annotations which intersect a polygon\n",
        "search_region = Polygon.from_bounds(0, 0, 10, 10)\n",
        "result = store.query(search_region)\n",
        "\n",
        "# Find all annotations which are contained within a polygon\n",
        "search_region = Polygon.from_bounds(0, 0, 10, 10)\n",
        "result = store.query(search_region, geometry_predicate=\"contains\")\n",
        "```\n",
        "\n",
        "#### Querying Using A Predicate Statement\n",
        "\n",
        "```python\n",
        "# 'props' is a provided shorthand to access the 'properties' dictionary\n",
        "results = store.query(where=\"propd['id'] == 1\")\n",
        "```\n",
        "\n",
        "#### Serializing and Deserializing\n",
        "\n",
        "```python\n",
        "# Serialize the store to a GeoJSON string\n",
        "json_string = store.to_geojson()\n",
        "\n",
        "# Serialize the store to a GeoJSON file\n",
        "store.to_geojson(\"boxes.geojson\")\n",
        "\n",
        "# Deserialize a GeoJSON string into a store (even of a different type)\n",
        "sqlitestore = SqliteStore.from_geojson(\"boxes.geojson\")\n",
        "\n",
        "# The above is an in-memory store. We can also now write this to disk\n",
        "# as an SQLite database.\n",
        "sqlitestore.dump(\"boxes.db\")\n",
        "```\n",
        "\n",
        "### Benchmarking\n",
        "\n",
        "Here we evaluate the storage efficient and data querying performance of\n",
        "the annotation store versus other common formats. We will evaluate some\n",
        "common situations and use cases including:\n",
        "\n",
        "- Disk I/O (tested with an SSD)\n",
        "- Querying the data for annotations within a box region\n",
        "- Querying the data for annotations within a polygon region\n",
        "- Querying the data with a predicate e.g. 'class=1'\n",
        "\n",
        "All saved output is from running this notebook on a 2020 M1 MacBook Air with 16GB RAM.\n",
        "\n"
      ]
    },
    {
      "cell_type": "markdown",
      "metadata": {
        "id": "aov8ENq2pT5t"
      },
      "source": [
        "## Imports\n",
        "\n"
      ]
    },
    {
      "cell_type": "code",
      "execution_count": null,
      "metadata": {
        "id": "UoMpbDXopT5t"
      },
      "outputs": [],
      "source": [
        "\"\"\"Import modules required to run the Jupyter notebook.\"\"\"\n",
        "from __future__ import annotations\n",
        "\n",
        "# Clear logger to use tiatoolbox.logger\n",
        "import logging\n",
        "\n",
        "if logging.getLogger().hasHandlers():\n",
        "    logging.getLogger().handlers.clear()\n",
        "\n",
        "import copy\n",
        "import pickle\n",
        "import sys\n",
        "import tempfile\n",
        "import timeit\n",
        "import uuid\n",
        "from pathlib import Path\n",
        "from typing import TYPE_CHECKING, Any, Generator\n",
        "\n",
        "import numpy as np\n",
        "from IPython.display import display\n",
        "from matplotlib import patheffects\n",
        "from matplotlib import pyplot as plt\n",
        "from shapely import affinity\n",
        "from shapely.geometry import MultiPolygon, Point, Polygon\n",
        "from tqdm.auto import tqdm\n",
        "\n",
        "if TYPE_CHECKING:\n",
        "    from numbers import Number\n",
        "\n",
        "sys.path.append(\"..\")  # If running locally without pypi installed tiatoolbox\n",
        "\n",
        "from tiatoolbox import logger  # noqa: E402\n",
        "from tiatoolbox.annotation.storage import (  # noqa: E402\n",
        "    Annotation,\n",
        "    DictionaryStore,\n",
        "    SQLiteStore,\n",
        ")\n",
        "\n",
        "plt.style.use(\"ggplot\")"
      ]
    },
    {
      "cell_type": "markdown",
      "metadata": {
        "id": "nW-UyVQOpT5u"
      },
      "source": [
        "## Data Generation & Utility Functions\n",
        "\n",
        "Here we define some useful functions to generate some artificial data\n",
        "and visualise results.\n",
        "\n"
      ]
    },
    {
      "cell_type": "code",
      "execution_count": null,
      "metadata": {
        "id": "N5xNW64UpT5v"
      },
      "outputs": [],
      "source": [
        "def cell_polygon(  # noqa: PLR0913\n",
        "    xy: tuple[Number, Number],\n",
        "    n_points: int = 20,\n",
        "    radius: Number = 8,\n",
        "    noise: Number = 0.01,\n",
        "    eccentricity: tuple[Number, Number] = (1, 3),\n",
        "    direction: str = \"CCW\",\n",
        "    seed: int = 0,\n",
        "    *,\n",
        "    repeat_first: bool = True,\n",
        ") -> Polygon:\n",
        "    \"\"\"Generate a fake cell boundary polygon.\n",
        "\n",
        "    Borrowed from tiatoolbox unit tests.\n",
        "\n",
        "    Cell boundaries are generated an ellipsoids with randomised eccentricity,\n",
        "    added noise, and a random rotation.\n",
        "\n",
        "    Args:\n",
        "        xy (tuple(int)): The x,y centre point to generate the cell boundary around.\n",
        "        n_points (int): Number of points in the boundary. Defaults to 20.\n",
        "        radius (float): Radius of the points from the centre. Defaults to 10.\n",
        "        noise (float): Noise to add to the point locations. Defaults to 1.\n",
        "        eccentricity (tuple(float)): Range of values (low, high) to use for\n",
        "            randomised eccentricity. Defaults to (1, 3).\n",
        "        repeat_first (bool): Enforce that the last point is equal to the first.\n",
        "        direction (str): Ordering of the points. Defaults to \"CCW\". Valid options\n",
        "            are: counter-clockwise \"CCW\", and clockwise \"CW\".\n",
        "        seed: Seed for the random number generator. Defaults to 0.\n",
        "\n",
        "    \"\"\"\n",
        "    rand_state = np.random.default_rng().__getstate__()\n",
        "    rng_seed = np.random.default_rng(seed)\n",
        "\n",
        "    if repeat_first:\n",
        "        n_points -= 1\n",
        "\n",
        "    # Generate points about an ellipse with random eccentricity\n",
        "    x, y = xy\n",
        "    alpha = np.linspace(0, 2 * np.pi - (2 * np.pi / n_points), n_points)\n",
        "    rx = radius * (rng_seed.random() + 0.5)\n",
        "    ry = rng_seed.uniform(*eccentricity) * radius - 0.5 * rx\n",
        "    x = rx * np.cos(alpha) + x + (rng_seed.random(n_points) - 0.5) * noise\n",
        "    y = ry * np.sin(alpha) + y + (rng_seed.random(n_points) - 0.5) * noise\n",
        "    boundary_coords = np.stack([x, y], axis=1).astype(int).tolist()\n",
        "\n",
        "    # Copy first coordinate to the end if required\n",
        "    if repeat_first:\n",
        "        boundary_coords = [*boundary_coords, boundary_coords[0]]\n",
        "\n",
        "    # Swap direction\n",
        "    if direction.strip().lower() == \"cw\":\n",
        "        boundary_coords = boundary_coords[::-1]\n",
        "\n",
        "    polygon = Polygon(boundary_coords)\n",
        "\n",
        "    # Add random rotation\n",
        "    angle = rng_seed.random() * 360\n",
        "    polygon = affinity.rotate(polygon, angle, origin=\"centroid\")\n",
        "\n",
        "    # Restore the random state\n",
        "    np.random.default_rng().__setstate__(rand_state)\n",
        "\n",
        "    return polygon"
      ]
    },
    {
      "cell_type": "code",
      "execution_count": null,
      "metadata": {
        "id": "jyQEBhNIpT5v"
      },
      "outputs": [],
      "source": [
        "def cell_grid(\n",
        "    size: tuple[int, int] = (10, 10),\n",
        "    spacing: Number = 25,\n",
        ") -> Generator[Polygon, None, None]:\n",
        "    \"\"\"Generate a grid of cell boundaries.\"\"\"\n",
        "    return (\n",
        "        cell_polygon(xy=np.multiply(ij, spacing), repeat_first=False, seed=n)\n",
        "        for n, ij in enumerate(np.ndindex(size))\n",
        "    )"
      ]
    },
    {
      "cell_type": "code",
      "execution_count": null,
      "metadata": {
        "id": "VVjSum_9pT5v"
      },
      "outputs": [],
      "source": [
        "def plot_results(\n",
        "    experiments: list[list[Number]],\n",
        "    title: str,\n",
        "    capsize: int = 5,\n",
        "    **kwargs: dict[str, Any],\n",
        ") -> None:\n",
        "    \"\"\"Plot the results of a benchmark.\n",
        "\n",
        "    Uses the min for the bar height (see See\n",
        "    https://docs.python.org/2/library/timeit.html#timeit.Timer.repeat),\n",
        "    and plots a min-max error bar.\n",
        "\n",
        "    \"\"\"\n",
        "    x = range(len(experiments))\n",
        "    color = [f\"C{x_i}\" for x_i in x]\n",
        "    plt.bar(\n",
        "        x=x,\n",
        "        height=[min(e) for e in experiments],\n",
        "        color=color,\n",
        "        yerr=[[0 for e in experiments], [max(e) - min(e) for e in experiments]],\n",
        "        capsize=capsize,\n",
        "        **kwargs,\n",
        "    )\n",
        "    for i, (runs, c) in enumerate(zip(experiments, color)):\n",
        "        plt.text(\n",
        "            i,\n",
        "            min(runs),\n",
        "            f\"  {min(runs):.4f}s\",\n",
        "            ha=\"left\",\n",
        "            va=\"bottom\",\n",
        "            color=c,\n",
        "            zorder=10,\n",
        "            fontweight=\"bold\",\n",
        "            path_effects=[\n",
        "                patheffects.withStroke(linewidth=2, foreground=\"w\"),\n",
        "            ],\n",
        "        )\n",
        "    plt.title(title)\n",
        "    plt.hlines(\n",
        "        0.5,\n",
        "        -0.5,\n",
        "        len(experiments) - 0.5,\n",
        "        linestyles=\"dashed\",\n",
        "        colors=\"black\",\n",
        "        alpha=0.5,\n",
        "    )\n",
        "    plt.yscale(\"log\")\n",
        "    plt.xlabel(\"Store Type\")\n",
        "    plt.ylabel(\"Time (s)\")"
      ]
    },
    {
      "cell_type": "markdown",
      "metadata": {
        "id": "tHEUErSmpT5w"
      },
      "source": [
        "## Display Some Generated Data\n",
        "\n"
      ]
    },
    {
      "cell_type": "code",
      "execution_count": null,
      "metadata": {
        "id": "YUQmgohbpT5w",
        "outputId": "1a0cdee1-e32d-41e9-fb9d-26c5ee572880"
      },
      "outputs": [
        {
          "data": {
            "image/svg+xml": "<svg xmlns=\"http://www.w3.org/2000/svg\" xmlns:xlink=\"http://www.w3.org/1999/xlink\" width=\"100.0\" height=\"100.0\" viewBox=\"-15.330903236870668 -9.398834158149878 30.661806473741336 18.797668316299756\" preserveAspectRatio=\"xMinYMin meet\"><g transform=\"matrix(1,0,0,-1,0,0.0)\"><path fill-rule=\"evenodd\" fill=\"#66cc99\" stroke=\"#555555\" stroke-width=\"0.6132361294748268\" opacity=\"0.6\" d=\"M -2.58509938620736,-7.5708164132694655 L 1.523446243703293,-7.917014054714462 L 5.631991873613946,-8.263211696159459 L 10.063674926800518,-7.663057285945772 L 12.602653876669724,-6.416628029180246 L 14.195280774880247,-4.8470613491388 L 13.895203569773404,-2.6312198225455132 L 12.648774313007879,-0.0922408726763071 L 9.509640952924986,3.0930129237447392 L 6.047370169566173,5.3319146685071015 L 2.58509938620736,7.5708164132694655 L -1.523446243703293,7.917014054714462 L -5.631991873613946,8.263211696159459 L -10.063674926800518,7.663057285945772 L -12.602653876669724,6.416628029180246 L -14.195280774880247,4.8470613491388 L -13.895203569773404,2.6312198225455132 L -12.648774313007879,0.0922408726763071 L -9.509640952924986,-3.0930129237447392 L -6.047370169566173,-5.3319146685071015 L -2.58509938620736,-7.5708164132694655 z\" /></g></svg>",
            "text/plain": [
              "<shapely.geometry.polygon.Polygon at 0x10a957fd0>"
            ]
          },
          "metadata": {},
          "output_type": "display_data"
        },
        {
          "data": {
            "image/svg+xml": "<svg xmlns=\"http://www.w3.org/2000/svg\" xmlns:xlink=\"http://www.w3.org/1999/xlink\" width=\"100.0\" height=\"100.0\" viewBox=\"-16.315184292966006 -8.080857030858324 32.63036858593201 16.161714061716648\" preserveAspectRatio=\"xMinYMin meet\"><g transform=\"matrix(1,0,0,-1,0,0.0)\"><path fill-rule=\"evenodd\" fill=\"#66cc99\" stroke=\"#555555\" stroke-width=\"0.6526073717186403\" opacity=\"0.6\" d=\"M -1.3308459733409304,6.87232486100899 L -5.067767897725934,5.13008075324146 L -9.786450516540794,3.197715792139511 L -12.541611746495942,1.6455925377063996 L -15.106652123116673,-0.8882914111565678 L -14.726410416447836,-2.8518128000162792 L -14.346168709778999,-4.81533418887599 L -11.020644919820594,-6.2084930177324456 L -7.885241983196609,-6.619891152159046 L -2.786317657712911,-6.651047579916808 L 1.3308459733409304,-6.87232486100899 L 5.067767897725934,-5.13008075324146 L 9.786450516540794,-3.197715792139511 L 12.541611746495942,-1.6455925377063996 L 15.106652123116673,0.8882914111565678 L 14.726410416447836,2.8518128000162792 L 14.346168709778999,4.81533418887599 L 11.020644919820594,6.2084930177324456 L 7.885241983196609,6.619891152159046 L 2.786317657712911,6.651047579916808 L -1.3308459733409304,6.87232486100899 z\" /></g></svg>",
            "text/plain": [
              "<shapely.geometry.polygon.Polygon at 0x10a798880>"
            ]
          },
          "metadata": {},
          "output_type": "display_data"
        },
        {
          "data": {
            "image/svg+xml": "<svg xmlns=\"http://www.w3.org/2000/svg\" xmlns:xlink=\"http://www.w3.org/1999/xlink\" width=\"100.0\" height=\"100.0\" viewBox=\"-6.501446211200867 -5.8572313043110835 13.002892422401734 11.714462608622167\" preserveAspectRatio=\"xMinYMin meet\"><g transform=\"matrix(1,0,0,-1,0,0.0)\"><path fill-rule=\"evenodd\" fill=\"#66cc99\" stroke=\"#555555\" stroke-width=\"0.2600578484480347\" opacity=\"0.6\" d=\"M 5.380113011299008,-4.4782121416533105 L 6.019857602963766,-3.709624568610595 L 5.891014621585809,-2.301292403903121 L 4.993584067165138,-0.25321564753088843 L 4.096153512744465,1.7948611088413444 L 2.5589783666590344,3.0743502921708616 L 1.0218032205736036,4.353839475500379 L -1.1551165171765858,4.8647410857871805 L -3.332036254926775,5.3756426960739825 L -4.740368419634249,5.246799714696026 L -5.380113011299008,4.4782121416533105 L -6.019857602963766,3.709624568610595 L -5.891014621585809,2.301292403903121 L -4.993584067165138,0.25321564753088843 L -4.096153512744465,-1.7948611088413444 L -2.5589783666590344,-3.0743502921708616 L -1.0218032205736036,-4.353839475500379 L 1.1551165171765858,-4.8647410857871805 L 3.332036254926775,-5.3756426960739825 L 4.740368419634249,-5.246799714696026 L 5.380113011299008,-4.4782121416533105 z\" /></g></svg>",
            "text/plain": [
              "<shapely.geometry.polygon.Polygon at 0x10a957820>"
            ]
          },
          "metadata": {},
          "output_type": "display_data"
        },
        {
          "data": {
            "image/svg+xml": "<svg xmlns=\"http://www.w3.org/2000/svg\" xmlns:xlink=\"http://www.w3.org/1999/xlink\" width=\"100.0\" height=\"100.0\" viewBox=\"-16.081824750505604 -9.132888129916763 32.16364950101121 18.265776259833526\" preserveAspectRatio=\"xMinYMin meet\"><g transform=\"matrix(1,0,0,-1,0,0.0)\"><path fill-rule=\"evenodd\" fill=\"#66cc99\" stroke=\"#555555\" stroke-width=\"0.6432729900202241\" opacity=\"0.6\" d=\"M -0.9645334068601937,7.941641852101533 L -4.8147876570534365,6.466669917158745 L -8.665041907246678,4.991697982215956 L -12.394729481582397,2.524020815760476 L -14.13900659289273,0.29747700102004426 L -14.890578472690375,-1.8085001378628633 L -13.656739889462635,-3.6733439250307223 L -11.430196074722202,-5.417621036341057 L -7.218241796956388,-6.920764795936344 L -3.126854195048097,-7.431203324018938 L 0.9645334068601937,-7.941641852101533 L 4.8147876570534365,-6.466669917158745 L 8.665041907246678,-4.991697982215956 L 12.394729481582397,-2.524020815760476 L 14.13900659289273,-0.29747700102004426 L 14.890578472690375,1.8085001378628633 L 13.656739889462635,3.6733439250307223 L 11.430196074722202,5.417621036341057 L 7.218241796956388,6.920764795936344 L 3.126854195048097,7.431203324018938 L -0.9645334068601937,7.941641852101533 z\" /></g></svg>",
            "text/plain": [
              "<shapely.geometry.polygon.Polygon at 0x10a957fd0>"
            ]
          },
          "metadata": {},
          "output_type": "display_data"
        }
      ],
      "source": [
        "for n in range(4):\n",
        "    display(cell_polygon(xy=(0, 0), n_points=20, repeat_first=False, seed=n))"
      ]
    },
    {
      "cell_type": "markdown",
      "metadata": {
        "id": "APUNL2PtpT5w"
      },
      "source": [
        "### Randomised Cell Boundaries\n",
        "\n",
        "Here we create a function to generate grid of cells for testing. It uses a fixed seed for reproducibility.\n",
        "\n"
      ]
    },
    {
      "cell_type": "markdown",
      "metadata": {
        "id": "SOpBKM7IpT5w"
      },
      "source": [
        "### A Sample 5×5 Grid\n",
        "\n"
      ]
    },
    {
      "cell_type": "code",
      "execution_count": null,
      "metadata": {
        "id": "2xA-oG4VpT5w",
        "outputId": "caea51e4-8a27-4dd1-ed0d-c272b93d8bb7"
      },
      "outputs": [
        {
          "data": {
            "image/svg+xml": "<svg xmlns=\"http://www.w3.org/2000/svg\" xmlns:xlink=\"http://www.w3.org/1999/xlink\" width=\"185.5960748618583\" height=\"184.19520156827969\" viewBox=\"-22.471461168918946 -20.325878779173557 185.5960748618583 184.19520156827969\" preserveAspectRatio=\"xMinYMin meet\"><g transform=\"matrix(1,0,0,-1,0,143.54344400993256)\"><g><path fill-rule=\"evenodd\" fill=\"#66cc99\" stroke=\"#555555\" stroke-width=\"2.0\" opacity=\"0.6\" d=\"M -2.58509938620736,-7.5708164132694655 L 1.523446243703293,-7.917014054714462 L 5.631991873613946,-8.263211696159459 L 10.063674926800518,-7.663057285945772 L 12.602653876669724,-6.416628029180246 L 14.195280774880247,-4.8470613491388 L 13.895203569773404,-2.6312198225455132 L 12.648774313007879,-0.0922408726763071 L 9.509640952924986,3.0930129237447392 L 6.047370169566173,5.3319146685071015 L 2.58509938620736,7.5708164132694655 L -1.523446243703293,7.917014054714462 L -5.631991873613946,8.263211696159459 L -10.063674926800518,7.663057285945772 L -12.602653876669724,6.416628029180246 L -14.195280774880247,4.8470613491388 L -13.895203569773404,2.6312198225455132 L -12.648774313007879,0.0922408726763071 L -9.509640952924986,-3.0930129237447392 L -6.047370169566173,-5.3319146685071015 L -2.58509938620736,-7.5708164132694655 z\" /><path fill-rule=\"evenodd\" fill=\"#66cc99\" stroke=\"#555555\" stroke-width=\"2.0\" opacity=\"0.6\" d=\"M -0.839965626126002,41.4673852876762 L -5.558648244940862,39.535020326574255 L -10.277330863755722,37.6026553654723 L -13.032492093710871,36.05053211103919 L -15.5975324703316,33.516648162176224 L -15.21729076366276,31.553126773316514 L -14.83704905699392,29.589605384456803 L -11.511525267035523,28.196446555600346 L -8.376122330411533,27.785048421173748 L -3.2771980049278326,27.753891993415984 L 0.839965626126002,27.532614712323802 L 5.558648244940862,29.464979673425752 L 10.277330863755726,31.3973446345277 L 13.032492093710871,32.94946788896081 L 15.5975324703316,35.483351837823776 L 15.217290763662763,37.44687322668349 L 14.837049056993926,39.410394615543204 L 11.511525267035523,40.803553444399654 L 8.376122330411537,41.21495157882626 L 3.2771980049278397,41.246108006584016 L -0.839965626126002,41.4673852876762 z\" /><path fill-rule=\"evenodd\" fill=\"#66cc99\" stroke=\"#555555\" stroke-width=\"2.0\" opacity=\"0.6\" d=\"M 5.060240715466627,64.63749407182533 L 6.3397298987961435,66.17466921791078 L 6.210886917418186,67.58300138261825 L 5.313456362997513,69.63107813899047 L 4.4160258085768405,71.6791548953627 L 2.878850662491409,72.95864407869223 L 1.341675516405978,74.23813326202173 L -0.8352442213442117,74.74903487230854 L -3.0121639590944014,75.25993648259535 L -4.420496123801875,75.13109350121738 L -5.060240715466634,74.36250592817467 L -6.339729898796151,72.82533078208924 L -6.210886917418193,71.41699861738176 L -5.31345636299752,69.36892186100954 L -4.416025808576848,67.3208451046373 L -2.8788506624914163,66.04135592130778 L -1.341675516405985,64.76186673797827 L 0.8352442213442046,64.25096512769147 L 3.0121639590943943,63.740063517404664 L 4.420496123801868,63.86890649878262 L 5.060240715466627,64.63749407182533 z\" /><path fill-rule=\"evenodd\" fill=\"#66cc99\" stroke=\"#555555\" stroke-width=\"2.0\" opacity=\"0.6\" d=\"M -0.4681807911038476,112.5019251900303 L -5.31114027280978,110.90638657922999 L -9.161394523003025,109.4314146442872 L -12.891082097338753,106.96373747783171 L -14.635359208649078,104.73719366309129 L -15.38693108844673,102.63121652420838 L -14.153092505218979,100.76637273704051 L -11.926548690478555,99.02209562573019 L -7.714594412712728,97.5189518661349 L -3.6232068108044473,97.00851333805231 L 0.4681807911038476,96.49807480996971 L 5.31114027280978,98.09361342077003 L 9.161394523003025,99.56858535571281 L 12.891082097338739,102.03626252216829 L 14.635359208649078,104.26280633690872 L 15.386931088446715,106.36878347579163 L 14.153092505218979,108.23362726295949 L 11.92654869047854,109.97790437426983 L 7.714594412712728,111.48104813386512 L 3.6232068108044473,111.9914866619477 L -0.4681807911038476,112.5019251900303 z\" /><path fill-rule=\"evenodd\" fill=\"#66cc99\" stroke=\"#555555\" stroke-width=\"2.0\" opacity=\"0.6\" d=\"M 1.6975618204848502,128.62028107598215 L 4.679640725419432,128.94770344043553 L 7.443438054051711,131.26317840817865 L 9.10406829288803,134.46353888941547 L 10.764698531724378,137.6638993706523 L 10.437276167270994,140.64597827558686 L 10.10985380281761,143.6280571805214 L 7.794378835074497,146.39185450915375 L 5.478903867331411,149.15565183778605 L 2.278543386094583,150.81628207662237 L -0.703535518839999,150.488859712169 L -4.679640725419432,150.05229655956447 L -7.443438054051711,147.73682159182135 L -9.10406829288803,144.53646111058453 L -10.764698531724378,141.3361006293477 L -10.437276167270994,138.35402172441314 L -10.10985380281761,135.37194281947856 L -7.794378835074497,132.60814549084625 L -5.478903867331411,129.84434816221395 L -2.278543386094583,128.18371792337763 L 1.6975618204848502,128.62028107598215 z\" /><path fill-rule=\"evenodd\" fill=\"#66cc99\" stroke=\"#555555\" stroke-width=\"2.0\" opacity=\"0.6\" d=\"M 38.27716133249103,-3.997880972256997 L 41.911598579997396,-0.564097942719691 L 45.58616667109756,4.28332914222635 L 47.80695986319519,7.757243015357464 L 48.61410899988408,11.271287732082396 L 48.654239843477896,12.684931787491127 L 46.553839182161695,13.451950080586208 L 42.999663621842956,12.84545516186637 L 39.405357217930415,10.825316187737794 L 34.35727591501532,7.431664001794299 L 30.72283866750896,3.9978809722569935 L 27.0884014200026,0.5640979427196875 L 23.413833328902435,-4.2833291422263535 L 21.193040136804807,-7.757243015357471 L 20.38589100011592,-11.271287732082403 L 20.345760156522104,-12.684931787491127 L 22.446160817838297,-13.451950080586212 L 26.000336378157037,-12.845455161866372 L 29.594642782069588,-10.825316187737801 L 34.64272408498468,-7.4316640017943065 L 38.27716133249103,-3.997880972256997 z\" /><path fill-rule=\"evenodd\" fill=\"#66cc99\" stroke=\"#555555\" stroke-width=\"2.0\" opacity=\"0.6\" d=\"M 24.665655395418156,40.48211218536831 L 24.384002429319693,38.26385349741329 L 24.102349463221238,36.045594809458265 L 25.482642261047417,32.71471027344246 L 27.41924798290397,30.214798619388986 L 30.743139510753238,27.989546923267433 L 33.2360581566402,26.32060815117627 L 36.28528972655754,25.48264226104742 L 39.89083422050527,25.475649252880892 L 41.83443295052836,26.581282092775133 L 44.334344604581844,28.5178878146317 L 44.6159975706803,30.73614650258672 L 44.897650536778755,32.95440519054174 L 43.51735773895258,36.285289726557544 L 41.58075201709602,38.78520138061103 L 39.087833371209065,40.454140152702195 L 35.763941843359795,42.67939184882374 L 32.71471027344246,43.51735773895259 L 29.10916577949473,43.52435074711912 L 27.165567049471633,42.418717907224874 L 24.665655395418156,40.48211218536831 z\" /><path fill-rule=\"evenodd\" fill=\"#66cc99\" stroke=\"#555555\" stroke-width=\"2.0\" opacity=\"0.6\" d=\"M 31.606241440194857,66.01355902341328 L 36.61900372151729,62.71625492597988 L 41.34585630552488,60.803961891672444 L 45.23724850931207,59.44121954027058 L 48.293180332878855,58.62802787177428 L 50.227742078910396,59.749397949309525 L 49.94183238159556,61.1344090124355 L 47.9850019238399,63.61852144137261 L 45.19271108586386,66.65218455321528 L 41.5649598676674,70.23539834796352 L 36.552197586344974,73.53270244539692 L 32.37489568524295,76.28045585992477 L 27.648043101235345,78.19274889423221 L 23.756650897448157,79.55549124563407 L 20.700719073881377,80.36868291413037 L 19.315708010755404,80.08277321681553 L 19.052067025164675,77.86230177346916 L 21.008897482920318,75.37818934453205 L 23.801188320896372,72.34452623268938 L 27.42893953909283,68.76131243794111 L 31.606241440194857,66.01355902341328 z\" /><path fill-rule=\"evenodd\" fill=\"#66cc99\" stroke=\"#555555\" stroke-width=\"2.0\" opacity=\"0.6\" d=\"M 36.986147825025384,94.28632930861184 L 42.74182936423243,95.98106528192191 L 46.973318655801606,99.31190577274933 L 50.24552769083627,102.36029026802505 L 52.27600047378476,106.0854990242836 L 52.105456748112545,110.20507604597333 L 50.298808504923,112.80046082002517 L 46.573599748664435,114.83093360297364 L 42.171566731423056,115.61967013383594 L 36.810253457647164,116.12595066914656 L 31.054571918440118,114.43121469583647 L 26.258170635767584,113.01893471807809 L 22.02668134419841,109.68809422725067 L 18.75447230916373,106.63970973197495 L 16.723999526215252,102.91450097571638 L 16.89454325188747,98.79492395402667 L 18.701191495077012,96.19953917997483 L 22.426400251335565,94.16906639702636 L 26.82843326857696,93.38032986616406 L 32.18974654235285,92.87404933085344 L 36.986147825025384,94.28632930861184 z\" /><path fill-rule=\"evenodd\" fill=\"#66cc99\" stroke=\"#555555\" stroke-width=\"2.0\" opacity=\"0.6\" d=\"M 29.97519848067222,139.6421515749901 L 30.413829358420088,135.54244390820628 L 29.862021321763066,131.5806882505867 L 30.438604208675194,128.47141949820775 L 31.15313910475158,126.35258966023372 L 33.13401693356137,126.07668564190519 L 34.12445584796626,125.93873363274093 L 35.39079878069967,127.78165945238646 L 36.79509372259733,130.6150241864369 L 37.34690175925435,134.5767798440565 L 38.88914871031626,138.4005834925118 L 38.588469841732646,143.49073007370052 L 39.14027787838967,147.4524857313201 L 38.56369499147755,150.56175448369902 L 37.84916009540116,152.68058432167308 L 35.86828226659137,152.95648834000158 L 34.87784335218648,153.09444034916584 L 33.61150041945307,151.2515145295203 L 32.20720547755542,148.4181497954699 L 31.655397440898398,144.4563941378503 L 29.97519848067222,139.6421515749901 z\" /><path fill-rule=\"evenodd\" fill=\"#66cc99\" stroke=\"#555555\" stroke-width=\"2.0\" opacity=\"0.6\" d=\"M 72.81064308716583,9.96441881643888 L 71.54635147729871,9.330725889841446 L 71.23105213566387,8.381733621609172 L 69.33616184252708,5.85005615854719 L 67.75657089102512,4.267370963717482 L 66.8106728661206,1.4203941590206597 L 65.54947549958123,-2.3755749139084372 L 65.86786908454383,-4.5888587920078265 L 65.87096332787158,-7.75113493833949 L 65.55566398623674,-8.700127206571764 L 66.18935691283417,-9.96441881643888 L 67.45364852270129,-9.330725889841446 L 67.76894786433613,-8.381733621609172 L 69.66383815747292,-5.85005615854719 L 71.24342910897488,-4.267370963717482 L 72.1893271338794,-1.4203941590206597 L 73.45052450041877,2.3755749139084372 L 73.13213091545617,4.5888587920078265 L 73.12903667212842,7.75113493833949 L 73.44433601376326,8.700127206571764 L 72.81064308716583,9.96441881643888 z\" /><path fill-rule=\"evenodd\" fill=\"#66cc99\" stroke=\"#555555\" stroke-width=\"2.0\" opacity=\"0.6\" d=\"M 74.68916768478928,36.390116064991425 L 73.83734983561895,38.19964814589932 L 72.08076594599468,39.583271302222045 L 70.75009098095558,40.06212841809082 L 68.51464997546253,40.11507660937444 L 66.70511789455463,39.26325876020411 L 65.80035185410068,38.83734983561895 L 64.41672869777796,37.080765945994685 L 63.93787158190918,35.75009098095558 L 63.88492339062556,33.51464997546252 L 64.31083231521072,32.609883935008575 L 65.16265016438105,30.800351854100683 L 66.91923405400532,29.416728697777955 L 68.24990901904442,28.937871581909178 L 70.48535002453748,28.88492339062556 L 71.39011606499143,29.310832315210718 L 73.19964814589932,30.16265016438105 L 74.58327130222204,31.919234054005315 L 75.06212841809082,33.24990901904442 L 75.11507660937444,35.48535002453748 L 74.68916768478928,36.390116064991425 z\" /><path fill-rule=\"evenodd\" fill=\"#66cc99\" stroke=\"#555555\" stroke-width=\"2.0\" opacity=\"0.6\" d=\"M 72.3599187081686,74.21828028530341 L 66.53111229040736,75.95753752454819 L 62.04008779482322,78.15542263984952 L 58.90589607441246,78.5759488099135 L 55.33212733094144,78.09827008086064 L 53.55476838570407,76.74143730568726 L 54.01339626176063,75.40365538351016 L 55.82885691299059,72.2885145160957 L 58.08389458728081,70.07157854779807 L 62.57491908286495,67.87369343249672 L 67.52457145450566,64.3380263950183 L 72.45517297315007,63.03834617883378 L 76.94619746873421,60.840461063532445 L 80.08038918914497,60.41993489346848 L 83.65415793261599,60.897613622521334 L 84.99193985479309,61.35624149857789 L 84.9728890017968,63.59222831987182 L 83.15742835056685,66.70736918728629 L 80.90239067627662,68.9243051555839 L 76.41136618069248,71.12219027088524 L 72.3599187081686,74.21828028530341 z\" /><path fill-rule=\"evenodd\" fill=\"#66cc99\" stroke=\"#555555\" stroke-width=\"2.0\" opacity=\"0.6\" d=\"M 78.40995627154516,98.92212592118165 L 79.00719266235805,102.02749364393023 L 78.6250136741335,103.38908801119226 L 77.8606556976844,106.11227674571629 L 75.73470335397329,108.45328649201578 L 73.11904332074343,109.92240956057198 L 69.63149660977027,111.8812403186469 L 66.52612888702168,112.47847670945983 L 63.80294015249765,111.71411873301072 L 62.44134578523562,111.33193974478615 L 60.590043728454866,110.07787407881833 L 59.992807337641956,106.97250635606973 L 60.37498632586651,105.61091198880771 L 61.13934430231563,102.88772325428369 L 63.265296646026734,100.54671350798421 L 65.8809566792566,99.07759043942801 L 69.36850339022973,97.11875968135307 L 72.47387111297834,96.52152329054015 L 75.19705984750237,97.28588126698925 L 76.55865421476437,97.66806025521382 L 78.40995627154516,98.92212592118165 z\" /><path fill-rule=\"evenodd\" fill=\"#66cc99\" stroke=\"#555555\" stroke-width=\"2.0\" opacity=\"0.6\" d=\"M 64.57516331694413,146.44986975282137 L 60.51598335307165,141.91963156693134 L 58.018171928070785,138.63924468652604 L 56.14528615581227,134.57817353668494 L 55.833768922425406,131.76695369232857 L 56.92786161121671,128.79997523127878 L 58.95839718613726,127.86353234514954 L 61.769617030493606,127.55201511176266 L 66.1422054137216,128.49034918386053 L 69.88986814420721,130.20936752539419 L 74.41821514412862,132.55331151967022 L 78.4773951080011,137.08354970556024 L 80.97520653300197,140.36393658596552 L 82.84809230526048,144.42500773580662 L 83.15960953864735,147.236227580163 L 82.69044250259842,149.42252177177699 L 80.03498127493552,151.13964892734202 L 77.22376143057915,151.45116616072892 L 72.85117304735118,150.51283208863106 L 69.10351031686557,148.79381374709737 L 64.57516331694413,146.44986975282137 z\" /><path fill-rule=\"evenodd\" fill=\"#66cc99\" stroke=\"#555555\" stroke-width=\"2.0\" opacity=\"0.6\" d=\"M 113.75376183758382,4.961642052111088 L 113.28122449928753,5.84295270330955 L 110.57352852029801,6.660499329113875 L 108.3383698796048,6.596735303719747 L 105.22190058771314,6.060433940029327 L 101.69665798291929,4.170284586844154 L 99.0527260293239,2.752672571955273 L 96.88133141402483,0.4537499058679302 L 95.5912474499242,-1.3726354219231212 L 94.77370082411987,-4.080331400912627 L 95.24623816241616,-4.961642052111088 L 95.71877550071245,-5.84295270330955 L 98.42647147970197,-6.660499329113875 L 100.66163012039519,-6.596735303719747 L 103.77809941228685,-6.060433940029327 L 106.42203136588223,-4.642821925140446 L 109.94727397067608,-2.752672571955273 L 112.11866858597516,-0.4537499058679302 L 113.40875255007579,1.3726354219231212 L 114.22629917588011,4.080331400912627 L 113.75376183758382,4.961642052111088 z\" /><path fill-rule=\"evenodd\" fill=\"#66cc99\" stroke=\"#555555\" stroke-width=\"2.0\" opacity=\"0.6\" d=\"M 107.63004368555637,39.05116805714724 L 104.553740108017,41.607797928446246 L 101.6073549570377,42.75619443753567 L 98.6609698060584,43.90459094662508 L 95.8445030816392,43.644754093504886 L 93.79711225160486,42.74575977255995 L 93.92703067816495,41.33752641035035 L 94.18686753128515,38.52105968593115 L 95.85493774661492,35.83451138807206 L 97.52300796194471,33.14796309021294 L 101.36838743386895,29.952175751089186 L 104.44469101140834,27.395545879790177 L 107.39107616238762,26.247149370700768 L 110.33746131336692,25.09875286161136 L 113.15392803778612,25.35858971473155 L 114.5621613999957,25.488508141291632 L 115.07140044126037,27.665817397886087 L 114.81156358814017,30.482284122305288 L 113.1434933728104,33.16883242016438 L 111.4754231574806,35.85538071802348 L 107.63004368555637,39.05116805714724 z\" /><path fill-rule=\"evenodd\" fill=\"#66cc99\" stroke=\"#555555\" stroke-width=\"2.0\" opacity=\"0.6\" d=\"M 110.68182476974995,67.43025451597944 L 111.90128847976912,72.27926557597365 L 111.66316449378179,75.43256495397401 L 110.45523829579561,78.82975707397821 L 109.0034193558056,81.25714698198358 L 108.27750988581057,82.47084193598626 L 106.09401271980907,81.98882520799509 L 103.6666228118037,80.53700626800506 L 100.9953401617945,78.1153851160162 L 99.29385972378417,75.4498712220235 L 98.31828875576882,71.57066237402813 L 97.09882504574965,66.7216513140339 L 97.33694903173698,63.568351936033544 L 98.54487522972317,60.171159816029345 L 99.9966941697132,57.74376990802398 L 101.69240585170704,56.286182212017465 L 102.90610080570973,57.012091682012475 L 105.33349071371508,58.4639106220025 L 108.00477336372427,60.88553177399136 L 109.70625380173462,63.551045667984056 L 110.68182476974995,67.43025451597944 z\" /><path fill-rule=\"evenodd\" fill=\"#66cc99\" stroke=\"#555555\" stroke-width=\"2.0\" opacity=\"0.6\" d=\"M 95.33753191466613,101.95986594143729 L 96.96207273682833,99.24677414108689 L 98.58661355899054,96.5336823407365 L 101.18753600347408,94.03664360699972 L 104.33273393705171,93.70842118451924 L 106.501550248308,93.16414569542513 L 109.21464204865842,94.78868651758734 L 111.9277338490088,96.41322733974954 L 113.23233789381062,99.7744783399408 L 113.5605603162911,102.91967627351843 L 113.67272967215797,107.04125582941741 L 112.04818884999577,109.7543476297678 L 110.42364802783356,112.4674394301182 L 107.82272558335002,114.96447816385499 L 104.67752764977239,115.29270058633547 L 101.53232971619474,115.62092300881595 L 99.79561953816568,114.21243525326736 L 97.0825277378153,112.58789443110516 L 95.77792369301348,109.2266434309139 L 95.449701270533,106.08144549733626 L 95.33753191466613,101.95986594143729 z\" /><path fill-rule=\"evenodd\" fill=\"#66cc99\" stroke=\"#555555\" stroke-width=\"2.0\" opacity=\"0.6\" d=\"M 108.95803011562153,140.29107324498145 L 108.6332957945462,145.28051686333367 L 107.31067274980043,150.20501361747085 L 106.05299656926974,154.13162164793755 L 104.92521411716916,156.06245223106336 L 103.86237852928366,156.99539409051877 L 101.93154794615782,155.86761163841817 L 101.06355295091751,153.80688732686224 L 100.32545168410732,149.7503855679654 L 99.6522972815122,144.6959950853981 L 99.97703160258753,139.70655146704587 L 100.36671278787792,133.7192191250232 L 101.68933583262368,128.79472237088603 L 102.94701201315438,124.86811434041931 L 104.07479446525495,122.9372837572935 L 106.13551877681091,122.06928876205319 L 107.0684606362663,123.13212434993869 L 107.9364556315066,125.19284866149462 L 108.6745568983168,129.2493504203915 L 109.34771130091191,134.30374090295876 L 108.95803011562153,140.29107324498145 z\" /><path fill-rule=\"evenodd\" fill=\"#66cc99\" stroke=\"#555555\" stroke-width=\"2.0\" opacity=\"0.6\" d=\"M 135.95208673149403,7.721468752972328 L 131.40913173467843,5.633033957028715 L 127.28386369705153,2.6360081617220033 L 124.48487361797648,-0.8519216737591364 L 123.01216149745326,-4.830755549414661 L 122.93894441646758,-7.06562450732963 L 125.10059629339686,-9.373710546230285 L 129.0794301690524,-10.846422666753497 L 133.54916808488235,-10.992856828724854 L 138.5098100408867,-9.813013032144383 L 143.0527650377023,-7.724578236200784 L 147.5957200345179,-5.636143440257186 L 151.72098807214482,-2.63911764495046 L 154.51997815121987,0.8488121905306656 L 155.99269027174307,4.827646066186219 L 155.64822039354004,7.971106023464301 L 153.90425547579946,9.370601063001828 L 149.92542160014395,10.843313183525026 L 145.455683684314,10.989747345496397 L 140.49504172830967,9.80990354891594 L 135.95208673149403,7.721468752972328 z\" /><path fill-rule=\"evenodd\" fill=\"#66cc99\" stroke=\"#555555\" stroke-width=\"2.0\" opacity=\"0.6\" d=\"M 140.69815645951846,30.13630824509812 L 144.41580293646672,31.612487323812516 L 146.83499302449934,33.649033252085374 L 148.3247714932949,35.31653441067965 L 148.88513834285337,36.61499079959529 L 149.44550519241182,37.91344718851096 L 147.77800403381755,39.40322565730651 L 146.47954764490188,39.963592506864984 L 144.25167963674915,40.15491458674485 L 141.09440000935933,39.97719189694614 L 138.30616515164814,38.87005758791034 L 134.58851867469986,37.39387850919596 L 132.16932858666726,35.357332580923085 L 130.6795501178717,33.68983142232882 L 130.11918326831324,32.39137503341314 L 129.92786118843335,30.1635070252604 L 131.22631757734905,29.603140175701924 L 132.5247739662647,29.04277332614349 L 134.75264197441743,28.851451246263608 L 137.90992160180724,29.029173936062335 L 140.69815645951846,30.13630824509812 z\" /><path fill-rule=\"evenodd\" fill=\"#66cc99\" stroke=\"#555555\" stroke-width=\"2.0\" opacity=\"0.6\" d=\"M 134.6070939254232,72.06114625614585 L 133.0805560406345,68.3638929396547 L 132.47833148496858,64.28500515196637 L 132.25774140049984,61.13043069340082 L 133.34309911635108,58.51853509276089 L 134.26741244547387,58.13690062156372 L 136.11603910371946,57.37363167916937 L 138.72793470435937,58.4589893950206 L 140.79715144707367,60.8502949111918 L 143.24800266098518,64.16591375648579 L 144.77454054577387,67.86316707297694 L 145.9194439593654,70.6361070603453 L 146.52166851503128,74.71499484803363 L 146.74225859950002,77.86956930659917 L 145.6569008836488,80.4814649072391 L 143.8082742254032,81.24473384963345 L 142.88396089628043,81.62636832083062 L 140.2720652956405,80.54101060497939 L 138.20284855292618,78.14970508880819 L 135.7519973390147,74.83408624351421 L 134.6070939254232,72.06114625614585 z\" /><path fill-rule=\"evenodd\" fill=\"#66cc99\" stroke=\"#555555\" stroke-width=\"2.0\" opacity=\"0.6\" d=\"M 134.34514368229367,97.71596939506946 L 139.88315419352708,95.19993291332523 L 145.42116470476054,92.68389643158096 L 149.85674754654494,92.11327847386522 L 153.46227561574403,92.10034239187107 L 155.96537601549414,94.03282483390541 L 156.250684994352,96.25061625479759 L 154.87588442803926,99.583771427133 L 152.6710290891412,103.47460847518997 L 148.24838232935096,107.65075450210483 L 143.82573556956072,111.8269005290197 L 139.11777983091258,113.78525513504235 L 133.57976931967914,116.30129161678659 L 129.14418647789472,116.87190957450235 L 125.53865840869561,116.88484565649651 L 123.59323988466713,115.7824179870475 L 122.75024903008766,112.73457179356996 L 124.1250495964004,109.40141662123457 L 126.32990493529844,105.51057957317758 L 130.7525516950887,101.33443354626274 L 134.34514368229367,97.71596939506946 z\" /><path fill-rule=\"evenodd\" fill=\"#66cc99\" stroke=\"#555555\" stroke-width=\"2.0\" opacity=\"0.6\" d=\"M 146.26871698259043,148.81044952779365 L 143.13857928965967,151.3008788127351 L 139.54576137749086,151.60363192997585 L 135.3303361440867,151.12385062398386 L 131.8974453339152,150.0214619967565 L 128.62448162574103,147.5139316250611 L 127.53919408526761,144.5437210341277 L 127.23644096802688,140.9509031219589 L 127.71622227401886,136.73547788855473 L 128.8186109012462,133.30258707838323 L 131.94874859417695,130.81215779344177 L 135.86142071034038,127.69912118726491 L 139.4542386225092,127.3963680700242 L 143.66966385591337,127.87614937601613 L 147.10255466608487,128.9785380032435 L 150.37551837425903,131.4860683749389 L 151.46080591473242,134.45627896587234 L 151.76355903197316,138.0490968780411 L 151.2837777259812,142.26452211144527 L 150.18138909875387,145.69741292161677 L 146.26871698259043,148.81044952779365 z\" /></g></g></svg>",
            "text/plain": [
              "<shapely.geometry.multipolygon.MultiPolygon at 0x10a366310>"
            ]
          },
          "execution_count": 6,
          "metadata": {},
          "output_type": "execute_result"
        }
      ],
      "source": [
        "MultiPolygon(polygons=list(cell_grid(size=(5, 5), spacing=35)))"
      ]
    },
    {
      "cell_type": "markdown",
      "metadata": {
        "id": "b6S8vzFipT5w"
      },
      "source": [
        "# Part 1: Small Scale Benchmarking of Annotation Storage\n",
        "\n",
        "Using the already defined data generation functions (`cell_polygon` and\n",
        "`cell_grid`),  we create some simple artificial cell boundaries by\n",
        "creating a circle of points, adding some noise, scaling to introduce\n",
        "eccentricity, and then rotating. We use 20 points per cell, which is a\n",
        "reasonably high value for cell annotation. However, this can be\n",
        "adjusted.\n",
        "\n"
      ]
    },
    {
      "cell_type": "markdown",
      "metadata": {
        "id": "UZMoLDvkpT5x"
      },
      "source": [
        "## 1.1) Appending Annotations (In-Memory & Disk I/O)\n",
        "\n",
        "Here we test:\n",
        "\n",
        "1. A python dictionary based in-memory store (`DictionaryStore`)\n",
        "1. An SQLite database based in-memory store (`SQLiteStore`)\n",
        "\n",
        "Both of these stores may operate in memory. The `SQLiteStore` may also\n",
        "be backed by an on-disk file for datasets which are too large to fit in\n",
        "memory. The `DictionaryStore` class can serialise/deserialise itself\n",
        "to/from disk in a line delimited GeoJSON format (each line seperated\n",
        "by `\\n` is a valid GeoJSON object)\n",
        "\n"
      ]
    },
    {
      "cell_type": "code",
      "execution_count": null,
      "metadata": {
        "id": "DZBiw_EepT5x"
      },
      "outputs": [],
      "source": [
        "# Convert to annotations (a dataclass pairing a geometry and (optional)\n",
        "# key-value properties)\n",
        "# Run time: ~2s\n",
        "annotations = [\n",
        "    Annotation(polygon) for polygon in cell_grid(size=(100, 100), spacing=35)\n",
        "]"
      ]
    },
    {
      "cell_type": "markdown",
      "metadata": {
        "id": "LUVa03F2pT5x"
      },
      "source": [
        "### 1.1.1) In Memory Append\n",
        "\n"
      ]
    },
    {
      "cell_type": "code",
      "execution_count": null,
      "metadata": {
        "id": "7PzE7AhdpT5x",
        "outputId": "974bb3d0-3290-4315-a6fc-3b7ca90072a6"
      },
      "outputs": [
        {
          "data": {
            "image/png": "[encoded data removed]",
            "text/plain": [
              "<Figure size 432x288 with 1 Axes>"
            ]
          },
          "metadata": {},
          "output_type": "display_data"
        }
      ],
      "source": [
        "# Run time: ~5s\n",
        "\n",
        "# Time dictionary store\n",
        "dict_runs = timeit.repeat(\n",
        "    \"dict_store.append_many(annotations)\",\n",
        "    setup=\"dict_store = DictionaryStore()\",\n",
        "    globals={\"DictionaryStore\": DictionaryStore, \"annotations\": annotations},\n",
        "    number=1,\n",
        "    repeat=3,\n",
        ")\n",
        "\n",
        "# Time SQLite store\n",
        "sqlite_runs = timeit.repeat(\n",
        "    \"sql_store.append_many(annotations)\",\n",
        "    setup=\"sql_store = SQLiteStore()\",\n",
        "    globals={\"SQLiteStore\": SQLiteStore, \"annotations\": annotations},\n",
        "    number=1,\n",
        "    repeat=3,\n",
        ")\n",
        "\n",
        "# Plot the results\n",
        "plot_results(\n",
        "    experiments=[dict_runs, sqlite_runs],\n",
        "    title=\"Time to Append 10,000 Annotations In Memory\",\n",
        "    tick_label=[\"DictionaryStore\", \"SQLiteStore\"],\n",
        ")\n",
        "plt.hlines(0.5, -0.5, 1.5, linestyles=\"dashed\", color=\"k\")\n",
        "plt.xlim([-0.5, 1.5])\n",
        "plt.show()"
      ]
    },
    {
      "cell_type": "markdown",
      "metadata": {
        "id": "gU6PLE7wpT5x"
      },
      "source": [
        "Note that inserting into the `SQLiteStore` is much slower than the\n",
        "`DictionaryStore`. Appending to a `Dictionary` store simply requires\n",
        "adding a memory reference to a dictionary. Therefore, this is a very\n",
        "fast operation. On the other hand, for the `SQLiteStore`, the insertion\n",
        "is slower because the data must be serialised for the database and the\n",
        "R-Tree spatial index must also be updated. Updating the index is a\n",
        "relatively expensive operation. However, this spatial index allows for\n",
        "very fast queries of a very large set of annotations within a set of\n",
        "spatial bounds.\n",
        "\n",
        "Insertion is typically only performed once for each\n",
        "annotation, whereas queries may be performed many times on the\n",
        "annotation set. Therefore, it makes sense to trade a more expensive\n",
        "insertion for fast queries as the cost of insertion will be amortised\n",
        "over a number of queries on the data. Additionally, data may be written\n",
        "to the database from multiple threads or subprocesses (so long as a new\n",
        "instance of `SQLiteStore` is created for each thread or subprocess to\n",
        "attach to a database on disk) thus freeing up the main thread.\n",
        "\n",
        "For comparison, we also compare bulk insertion plus seralising to disk\n",
        "as line-delimited GeoJSON from the `DictionaryStore` as this is the\n",
        "default serialisation to disk method (`DictionaryStore.dump(file_path`).\n",
        "\n"
      ]
    },
    {
      "cell_type": "code",
      "execution_count": null,
      "metadata": {
        "id": "t2q9QTCfpT5x",
        "outputId": "2202c328-ba48-476b-8efa-662678d75135"
      },
      "outputs": [
        {
          "data": {
            "image/png": "[encoded data removed]",
            "text/plain": [
              "<Figure size 432x288 with 1 Axes>"
            ]
          },
          "metadata": {},
          "output_type": "display_data"
        }
      ],
      "source": [
        "# Run time: ~10s\n",
        "\n",
        "setup = \"fp.truncate(0)\\nstore = Store(fp)\"  # Clear the file\n",
        "\n",
        "# Time dictionary store\n",
        "with tempfile.NamedTemporaryFile(\"w+\") as fp:\n",
        "    dict_runs = timeit.repeat(\n",
        "        (\"store.append_many(annotations)\\nstore.commit()\"),\n",
        "        setup=setup,\n",
        "        globals={\"Store\": DictionaryStore, \"annotations\": annotations, \"fp\": fp},\n",
        "        number=1,\n",
        "        repeat=3,\n",
        "    )\n",
        "\n",
        "# Time SQLite store\n",
        "with tempfile.NamedTemporaryFile(\"w+b\") as fp:\n",
        "    sqlite_runs = timeit.repeat(\n",
        "        (\"store.append_many(annotations)\\nstore.commit()\"),\n",
        "        setup=setup,\n",
        "        globals={\"Store\": SQLiteStore, \"annotations\": annotations, \"fp\": fp},\n",
        "        number=1,\n",
        "        repeat=3,\n",
        "    )\n",
        "\n",
        "# Plot the results\n",
        "plot_results(\n",
        "    experiments=[dict_runs, sqlite_runs],\n",
        "    title=\"Time to Append & Serialise 10,000 Annotations To Disk\",\n",
        "    tick_label=[\"DictionaryStore\", \"SQLiteStore\"],\n",
        ")\n",
        "plt.hlines(0.5, -0.5, 1.5, linestyles=\"dashed\", color=\"k\")\n",
        "plt.xlim([-0.5, 1.5])\n",
        "plt.show()"
      ]
    },
    {
      "cell_type": "markdown",
      "metadata": {
        "id": "LKr6FmctpT5x"
      },
      "source": [
        "Here we can see that when we include the serialisation to disk in the\n",
        "benchmark, the time to insert is much more similar.\n",
        "\n"
      ]
    },
    {
      "cell_type": "markdown",
      "metadata": {
        "id": "V7WV8wNmpT5x"
      },
      "source": [
        "## 1.2) Box Query\n",
        "\n"
      ]
    },
    {
      "cell_type": "code",
      "execution_count": null,
      "metadata": {
        "id": "eul4PYZPpT5x",
        "outputId": "a0131a72-f527-48b1-8aac-8cbccfced2ed"
      },
      "outputs": [
        {
          "data": {
            "image/png": "[encoded data removed]",
            "text/plain": [
              "<Figure size 432x288 with 1 Axes>"
            ]
          },
          "metadata": {},
          "output_type": "display_data"
        }
      ],
      "source": [
        "# Run time: ~20s\n",
        "\n",
        "# One time Setup\n",
        "dict_store = DictionaryStore()\n",
        "sql_store = SQLiteStore()\n",
        "dict_store.append_many(annotations)\n",
        "sql_store.append_many(annotations)\n",
        "\n",
        "rng = np.random.default_rng(123)\n",
        "boxes = [\n",
        "    Polygon.from_bounds(x, y, 128, 128) for x, y in rng.integers(0, 1000, size=(100, 2))\n",
        "]\n",
        "stmt = \"for box in boxes:\\n    _ = store.query(box)\"\n",
        "\n",
        "# Time dictionary store\n",
        "dict_runs = timeit.repeat(\n",
        "    stmt,\n",
        "    globals={\"store\": dict_store, \"boxes\": boxes},\n",
        "    number=1,\n",
        "    repeat=10,\n",
        ")\n",
        "\n",
        "# Time SQLite store\n",
        "sqlite_runs = timeit.repeat(\n",
        "    stmt,\n",
        "    globals={\"store\": sql_store, \"boxes\": boxes},\n",
        "    number=1,\n",
        "    repeat=10,\n",
        ")\n",
        "\n",
        "# Plot the results\n",
        "plot_results(\n",
        "    experiments=[dict_runs, sqlite_runs],\n",
        "    title=\"100 Box Queries\",\n",
        "    tick_label=[\"DictionaryStore\", \"SQLiteStore\"],\n",
        ")\n",
        "plt.show()"
      ]
    },
    {
      "cell_type": "markdown",
      "metadata": {
        "id": "z9ntCgKapT5x"
      },
      "source": [
        "Here we can see that the `SQLiteStore` is a bit faster. Addtionally,\n",
        "difference in performance is more pronounced when there are more\n",
        "annotations (as we will see later in this notebook) in the store or when\n",
        "just returning keys:\n",
        "\n"
      ]
    },
    {
      "cell_type": "code",
      "execution_count": null,
      "metadata": {
        "id": "vfGH6e4upT5x",
        "outputId": "7cf8bf30-a4c9-4de5-9a5f-f9fd6cffc141"
      },
      "outputs": [
        {
          "data": {
            "image/png": "[encoded data removed]",
            "text/plain": [
              "<Figure size 432x288 with 1 Axes>"
            ]
          },
          "metadata": {},
          "output_type": "display_data"
        }
      ],
      "source": [
        "# Run time: ~15s\n",
        "\n",
        "# One time Setup\n",
        "dict_store = DictionaryStore()\n",
        "sql_store = SQLiteStore()\n",
        "dict_store.append_many(annotations)\n",
        "sql_store.append_many(annotations)\n",
        "\n",
        "rng = np.random.default_rng(123)\n",
        "boxes = [\n",
        "    Polygon.from_bounds(x, y, 128, 128) for x, y in rng.integers(0, 1000, size=(100, 2))\n",
        "]\n",
        "stmt = \"for box in boxes:\\n    _ = store.iquery(box)\"  # Just return the keys (uuids)\n",
        "\n",
        "# Time dictionary store\n",
        "dict_runs = timeit.repeat(\n",
        "    stmt,\n",
        "    globals={\"store\": dict_store, \"boxes\": boxes},\n",
        "    number=1,\n",
        "    repeat=10,\n",
        ")\n",
        "\n",
        "# Time SQLite store\n",
        "sqlite_runs = timeit.repeat(\n",
        "    stmt,\n",
        "    globals={\"store\": sql_store, \"boxes\": boxes},\n",
        "    number=1,\n",
        "    repeat=10,\n",
        ")\n",
        "\n",
        "# Plot the results\n",
        "plot_results(\n",
        "    experiments=[dict_runs, sqlite_runs],\n",
        "    title=\"100 Box Queries (Key Lookup Only)\",\n",
        "    tick_label=[\"DictionaryStore\", \"SQLiteStore\"],\n",
        ")\n",
        "plt.show()"
      ]
    },
    {
      "cell_type": "markdown",
      "metadata": {
        "id": "xVQlsK1MpT5y"
      },
      "source": [
        "## 1.3) Polygon Query\n",
        "\n"
      ]
    },
    {
      "cell_type": "code",
      "execution_count": null,
      "metadata": {
        "id": "fnkdnKWRpT5y",
        "outputId": "03ccc35c-df96-4d68-9d53-72ac835a9088"
      },
      "outputs": [
        {
          "data": {
            "image/png": "[encoded data removed]",
            "text/plain": [
              "<Figure size 432x288 with 1 Axes>"
            ]
          },
          "metadata": {},
          "output_type": "display_data"
        }
      ],
      "source": [
        "# Run time: ~15s\n",
        "\n",
        "# One time Setup\n",
        "dict_store = DictionaryStore()\n",
        "sql_store = SQLiteStore()\n",
        "dict_store.append_many(annotations)\n",
        "sql_store.append_many(annotations)\n",
        "\n",
        "rng = np.random.default_rng(123)\n",
        "query_polygons = [\n",
        "    Polygon(\n",
        "        [\n",
        "            (x, y),\n",
        "            (x + 128, y),\n",
        "            (x + 128, y + 128),\n",
        "            (x, y),\n",
        "        ],\n",
        "    )\n",
        "    for x, y in rng.integers(0, 1000, size=(100, 2))\n",
        "]\n",
        "stmt = \"for polygon in query_polygons:\\n    _ = store.query(polygon)\"\n",
        "\n",
        "# Time dictionary store\n",
        "dict_runs = timeit.repeat(\n",
        "    stmt,\n",
        "    globals={\"store\": dict_store, \"query_polygons\": query_polygons},\n",
        "    number=1,\n",
        "    repeat=10,\n",
        ")\n",
        "\n",
        "# Time SQLite store\n",
        "sqlite_runs = timeit.repeat(\n",
        "    stmt,\n",
        "    globals={\"store\": sql_store, \"query_polygons\": query_polygons},\n",
        "    number=1,\n",
        "    repeat=10,\n",
        ")\n",
        "\n",
        "# Plot the results\n",
        "plot_results(\n",
        "    experiments=[dict_runs, sqlite_runs],\n",
        "    title=\"100 Polygon Queries\",\n",
        "    tick_label=[\"DictionaryStore\", \"SQLiteStore\"],\n",
        ")\n",
        "plt.show()"
      ]
    },
    {
      "cell_type": "markdown",
      "metadata": {
        "id": "1k1xOgB5pT5y"
      },
      "source": [
        "Here we can see that performing queries within a polygon region is about\n",
        "10x faster with the `SQLiteStore` than with the `DictionaryStore`.\n",
        "\n"
      ]
    },
    {
      "cell_type": "markdown",
      "metadata": {
        "id": "iYFK95w1pT5y"
      },
      "source": [
        "## 1.4) Predicate Query\n",
        "\n",
        "Here we query the whole annotation region but with a predicate to\n",
        "select only annotations with the class label of 0. We also,\n",
        "demonstrate how creating a database index can dramatically improve\n",
        "the performance of queries.\n",
        "\n"
      ]
    },
    {
      "cell_type": "code",
      "execution_count": null,
      "metadata": {
        "id": "zNX4UG4BpT5y",
        "outputId": "97444739-4aa5-42c7-bebc-84a022282ac7"
      },
      "outputs": [
        {
          "data": {
            "image/png": "[encoded data removed]",
            "text/plain": [
              "<Figure size 432x288 with 1 Axes>"
            ]
          },
          "metadata": {},
          "output_type": "display_data"
        }
      ],
      "source": [
        "# Run time: ~2m\n",
        "\n",
        "# Setup\n",
        "labelled_annotations = copy.deepcopy(annotations)\n",
        "for n, annotation in enumerate(labelled_annotations):\n",
        "    annotation.properties[\"class\"] = n % 10\n",
        "    annotation.properties[\"vector\"] = rng.integers(1, 4, 10).tolist()\n",
        "\n",
        "predicate = \"(props['class'] == ?) & (3 in props['vector'])\"\n",
        "classes = rng.integers(0, 10, size=100)\n",
        "stmt = \"for n in classes:\\n    store.query(where=predicate.replace('?', str(n)))\"\n",
        "\n",
        "dict_store = DictionaryStore()\n",
        "sql_store = SQLiteStore()\n",
        "\n",
        "dict_store.append_many(labelled_annotations)\n",
        "sql_store.append_many(labelled_annotations)\n",
        "\n",
        "\n",
        "# Time dictionary store\n",
        "dict_runs = timeit.repeat(\n",
        "    stmt,\n",
        "    globals={\"store\": dict_store, \"predicate\": predicate, \"classes\": classes},\n",
        "    number=1,\n",
        "    repeat=10,\n",
        ")\n",
        "dict_result = dict_store.query(where=predicate.replace(\"?\", \"0\"))\n",
        "\n",
        "# Time SQLite store\n",
        "sqlite_runs = timeit.repeat(\n",
        "    stmt,\n",
        "    globals={\"store\": sql_store, \"predicate\": predicate, \"classes\": classes},\n",
        "    number=1,\n",
        "    repeat=10,\n",
        ")\n",
        "sql_result = sql_store.query(where=predicate.replace(\"?\", \"0\"))\n",
        "\n",
        "\n",
        "# Add an index\n",
        "# Note: Indexes may not always speed up the query (sometimes they can\n",
        "# actually slow it down), test to make sure.\n",
        "sql_store.create_index(\"class_lookup\", \"props['class']\")\n",
        "sql_store.create_index(\"has_3\", \"3 in props['vector']\")\n",
        "\n",
        "# Time SQLite store again\n",
        "sqlite_index_runs = timeit.repeat(\n",
        "    stmt,\n",
        "    globals={\"store\": sql_store, \"predicate\": predicate, \"classes\": classes},\n",
        "    number=1,\n",
        "    repeat=10,\n",
        ")\n",
        "sql_index_result = sql_store.query(where=predicate.replace(\"?\", \"0\"))\n",
        "\n",
        "# # Validate the results against each other\n",
        "# for a, b, c in zip(dict_result, sql_result, sql_index_result):\n",
        "#     assert a.geometry == b.geometry == c.geometry  # noqa: ERA001\n",
        "\n",
        "# Plot the results\n",
        "plot_results(\n",
        "    experiments=[dict_runs, sqlite_runs, sqlite_index_runs],\n",
        "    title=\"100 Queries with a Predicate\",\n",
        "    tick_label=[\"DictionaryStore\", \"SQLiteStore\", \"SQLiteStore\\n(with index)\"],\n",
        ")\n",
        "plt.show()"
      ]
    },
    {
      "cell_type": "markdown",
      "metadata": {
        "id": "gp8mq1TNpT5y"
      },
      "source": [
        "### Polygon & Predicate Query\n",
        "\n"
      ]
    },
    {
      "cell_type": "code",
      "execution_count": null,
      "metadata": {
        "id": "Eu0hGvhdpT5y",
        "outputId": "0d89174e-01e0-4e71-a9c3-e063ed30ca38"
      },
      "outputs": [
        {
          "data": {
            "image/png": "[encoded data removed]",
            "text/plain": [
              "<Figure size 432x288 with 1 Axes>"
            ]
          },
          "metadata": {},
          "output_type": "display_data"
        }
      ],
      "source": [
        "# Run time: ~10s\n",
        "\n",
        "# Setup\n",
        "labelled_annotations = copy.deepcopy(annotations)\n",
        "for n, annotation in enumerate(labelled_annotations):\n",
        "    annotation.properties[\"class\"] = n % 10\n",
        "\n",
        "predicate = \"props['class'] == \"\n",
        "classes = rng.integers(0, 10, size=50)\n",
        "query_polygons = [\n",
        "    Polygon(\n",
        "        [\n",
        "            (x, y),\n",
        "            (x + 128, y),\n",
        "            (x + 128, y + 128),\n",
        "            (x, y),\n",
        "        ],\n",
        "    )\n",
        "    for x, y in rng.integers(0, 1000, size=(100, 2))\n",
        "]\n",
        "stmt = (\n",
        "    \"for n, poly in zip(classes, query_polygons):\\n\"\n",
        "    \"    store.query(poly, where=predicate + str(n))\"\n",
        ")\n",
        "\n",
        "dict_store = DictionaryStore()\n",
        "sql_store = SQLiteStore()\n",
        "\n",
        "dict_store.append_many(labelled_annotations)\n",
        "sql_store.append_many(labelled_annotations)\n",
        "\n",
        "\n",
        "# Time dictionary store\n",
        "dict_runs = timeit.repeat(\n",
        "    stmt,\n",
        "    globals={\n",
        "        \"store\": dict_store,\n",
        "        \"predicate\": predicate,\n",
        "        \"classes\": classes,\n",
        "        \"query_polygons\": query_polygons,\n",
        "    },\n",
        "    number=1,\n",
        "    repeat=10,\n",
        ")\n",
        "dict_result = dict_store.query(query_polygons[0], where=predicate + \"0\")\n",
        "\n",
        "# Time SQLite store\n",
        "sqlite_runs = timeit.repeat(\n",
        "    stmt,\n",
        "    globals={\n",
        "        \"store\": sql_store,\n",
        "        \"predicate\": predicate,\n",
        "        \"classes\": classes,\n",
        "        \"query_polygons\": query_polygons,\n",
        "    },\n",
        "    number=1,\n",
        "    repeat=10,\n",
        ")\n",
        "sql_result = sql_store.query(query_polygons[0], where=predicate + \"0\")\n",
        "\n",
        "\n",
        "# Check that the set difference of bounding boxes is empty i.e. all sets\n",
        "# of results contain polygons which produce the same set of bounding\n",
        "# boxes. This avoids being tripped up by slight varations in order or\n",
        "# coordinate order between the results.\n",
        "dict_set = {x.geometry.bounds for x in dict_result}\n",
        "sql_set = {x.geometry.bounds for x in sql_result}\n",
        "assert len(dict_set.difference(sql_set)) == 0  # noqa: S101\n",
        "\n",
        "# Plot the results\n",
        "plot_results(\n",
        "    experiments=[dict_runs, sqlite_runs],\n",
        "    title=\"100 Queries with a Polygon and Predicate\",\n",
        "    tick_label=[\"DictionaryStore\", \"SQLiteStore\"],\n",
        ")\n",
        "plt.show()"
      ]
    },
    {
      "cell_type": "markdown",
      "metadata": {
        "id": "kJ8x5tJmpT5y"
      },
      "source": [
        "### Complex Predicate Query\n",
        "\n",
        "Here we slightly increase the complexity of the predicate to show how\n",
        "the complexity of a predicate can dramatically affect the performance\n",
        "when handling many annotations.\n",
        "\n"
      ]
    },
    {
      "cell_type": "code",
      "execution_count": null,
      "metadata": {
        "id": "VHb4PqbHpT5y",
        "outputId": "343b44c7-741d-4e11-9dd2-85f357ba6f32"
      },
      "outputs": [
        {
          "data": {
            "image/png": "[encoded data removed]",
            "text/plain": [
              "<Figure size 432x288 with 1 Axes>"
            ]
          },
          "metadata": {},
          "output_type": "display_data"
        }
      ],
      "source": [
        "# Run time: ~1m\n",
        "\n",
        "# Setup\n",
        "box = Polygon.from_bounds(0, 0, 1024, 1024)\n",
        "labelled_annotations = copy.deepcopy(annotations)\n",
        "for n, annotation in enumerate(labelled_annotations):\n",
        "    annotation.properties[\"class\"] = n % 4\n",
        "    annotation.properties[\"n\"] = n\n",
        "\n",
        "predicate = \"(props['n'] > 1000) & (props['n'] % 4 == 0) & (props['class'] == \"\n",
        "targets = rng.integers(0, 4, size=100)\n",
        "stmt = \"for n in targets:\\n    store.query(box, where=predicate + str(n) + ')')\"\n",
        "\n",
        "dict_store = DictionaryStore()\n",
        "sql_store = SQLiteStore()\n",
        "\n",
        "dict_store.append_many(labelled_annotations)\n",
        "sql_store.append_many(labelled_annotations)\n",
        "\n",
        "\n",
        "# Time dictionary store\n",
        "dict_runs = timeit.repeat(\n",
        "    stmt,\n",
        "    globals={\n",
        "        \"store\": dict_store,\n",
        "        \"predicate\": predicate,\n",
        "        \"targets\": targets,\n",
        "        \"box\": box,\n",
        "    },\n",
        "    number=1,\n",
        "    repeat=10,\n",
        ")\n",
        "dict_result = dict_store.query(box, where=predicate + \"0)\")\n",
        "\n",
        "# Time SQLite store\n",
        "sqlite_runs = timeit.repeat(\n",
        "    stmt,\n",
        "    globals={\n",
        "        \"store\": sql_store,\n",
        "        \"predicate\": predicate,\n",
        "        \"targets\": targets,\n",
        "        \"box\": box,\n",
        "    },\n",
        "    number=1,\n",
        "    repeat=10,\n",
        ")\n",
        "sql_result = sql_store.query(box, where=predicate + \"0)\")\n",
        "\n",
        "\n",
        "# Check that the set difference of bounding boxes is empty i.e. all sets\n",
        "# of results contain polygons which produce the same set of bounding\n",
        "# boxes. This avoids being tripped up by slight varations in order or\n",
        "# coordinate order between the results.\n",
        "dict_set = {x.geometry.bounds for x in dict_result.values()}\n",
        "sql_set = {x.geometry.bounds for x in sql_result.values()}\n",
        "\n",
        "assert len(dict_set.difference(sql_set)) == 0  # noqa: S101\n",
        "\n",
        "# Plot the results\n",
        "plot_results(\n",
        "    experiments=[dict_runs, sqlite_runs],\n",
        "    title=\"100 Queries with a Complex Predicate\",\n",
        "    tick_label=[\"DictionaryStore\", \"SQLiteStore\"],\n",
        ")\n",
        "plt.show()"
      ]
    },
    {
      "cell_type": "markdown",
      "metadata": {
        "id": "CAT0KmS6pT5y"
      },
      "source": [
        "# Part 2: Large Scale Dataset Benchmarking\n",
        "\n",
        "Here we generate some sets of anntations with five million items each\n",
        "(in a 2237 x 2237 grid). One is a set of points, the other a set of\n",
        "generated cell boundaries.\n",
        "\n",
        "The code to generate and write out the annotations to various formats is\n",
        "included in the following cells. However, some of these take a very long\n",
        "time to run. A pre-generated dataset is downloaded and then read from\n",
        "disk instead to save time. However, you may uncomment the generation\n",
        "code to replicate the original.\n",
        "\n"
      ]
    },
    {
      "cell_type": "markdown",
      "metadata": {
        "id": "nwH5zYFupT5y"
      },
      "source": [
        "## 2.1) Points Dataset\n",
        "\n",
        "Here we generate a simple points data in a grid. The grid is 2237 x 2237\n",
        "and contains over 5 million points. We also write this to disk in\n",
        "various formats. Some formats take a long time and are commented out. A\n",
        "summary of times for a consumer laptop are shown in a table at the end.\n",
        "\n"
      ]
    },
    {
      "cell_type": "code",
      "execution_count": null,
      "metadata": {
        "id": "2FjCL2jgpT5y"
      },
      "outputs": [],
      "source": [
        "# Generate some points with a little noise\n",
        "# Run time: ~5s\n",
        "points = np.array(\n",
        "    [\n",
        "        [x, y]\n",
        "        for x in np.linspace(0, 75_000, 2237)\n",
        "        for y in np.linspace(0, 75_000, 2237)\n",
        "    ],\n",
        ")\n",
        "# Add some noise between -1 and 1\n",
        "rng_42 = np.random.default_rng(42)\n",
        "points += rng_42.uniform(-1, 1, size=(2237**2, 2))"
      ]
    },
    {
      "cell_type": "markdown",
      "metadata": {
        "id": "DRWABSBVpT5z"
      },
      "source": [
        "### 2.1.1) Writing To Disk\n",
        "\n"
      ]
    },
    {
      "cell_type": "code",
      "execution_count": null,
      "metadata": {
        "id": "x76WbSFdpT52"
      },
      "outputs": [],
      "source": [
        "# Save as a simple Numpy array (.npy)\n",
        "# Run time: <1s\n",
        "np.save(\"points.npy\", points)"
      ]
    },
    {
      "cell_type": "code",
      "execution_count": null,
      "metadata": {
        "id": "dkKtM-DKpT52"
      },
      "outputs": [],
      "source": [
        "# Save as compressed NumPy archive (.npz)\n",
        "# Run time: ~5s\n",
        "np.savez_compressed(\"points.npz\", points)"
      ]
    },
    {
      "cell_type": "markdown",
      "metadata": {
        "id": "rbHdEIbPpT52"
      },
      "source": [
        "Note that the above numpy format is missing the keys (UUIDs) of each point.\n",
        "This may not be required in all cases. However, for the sake of comparison\n",
        "we also generate a NumPy archive with keys included. We store the UUIDs\n",
        "as integers to save space and for a fair comparison where the optimal\n",
        "storage method is used in each case. Note however that UUIDs are too\n",
        "large to be a standard C type and therefore are stored as an object\n",
        "array.\n",
        "\n"
      ]
    },
    {
      "cell_type": "code",
      "execution_count": null,
      "metadata": {
        "id": "DbLm4l5tpT52"
      },
      "outputs": [],
      "source": [
        "# Generate UUIDs\n",
        "# Run time: ~10s\n",
        "keys = np.array([uuid.uuid4().int for _ in range(len(points))])"
      ]
    },
    {
      "cell_type": "code",
      "execution_count": null,
      "metadata": {
        "id": "zXuAqw0KpT52"
      },
      "outputs": [],
      "source": [
        "# Generate some UUIDs as keys\n",
        "# Save in NumPy format (.npz)\n",
        "# Run time: <1s\n",
        "np.savez(\"uuid_points.npz\", keys=keys, coords=points)"
      ]
    },
    {
      "cell_type": "code",
      "execution_count": null,
      "metadata": {
        "id": "UAHAgPU4pT52"
      },
      "outputs": [],
      "source": [
        "# Save in compressed (zip) NumPy format (.npz)\n",
        "# Run time: ~10s\n",
        "np.savez_compressed(\"uuid_points_compressed.npz\", keys=keys, coords=points)"
      ]
    },
    {
      "cell_type": "code",
      "execution_count": null,
      "metadata": {
        "id": "j5wlDFYfpT52"
      },
      "outputs": [],
      "source": [
        "# Write to SQLite with SQLiteStore\n",
        "# Run time: ~10m\n",
        "points_sqlite_store = SQLiteStore(\"points.db\")\n",
        "_ = points_sqlite_store.append_many(\n",
        "    annotations=(Annotation(Point(x, y)) for x, y in points),\n",
        ")"
      ]
    },
    {
      "cell_type": "code",
      "execution_count": null,
      "metadata": {
        "id": "tUekiEqspT53"
      },
      "outputs": [],
      "source": [
        "# Load a DictionaryStore into memory by copying from the SQLiteStore\n",
        "# Run time: ~1m 30s\n",
        "points_dict_store = DictionaryStore(Path(\"points.ndjson\"))\n",
        "for key, value in points_sqlite_store.items():\n",
        "    points_dict_store[key] = value"
      ]
    },
    {
      "cell_type": "code",
      "execution_count": null,
      "metadata": {
        "id": "Uynntjq7pT53"
      },
      "outputs": [],
      "source": [
        "# Save as GeoJSON\n",
        "# Run time: ~1m 30s\n",
        "points_sqlite_store.to_geojson(\"points.geojson\")"
      ]
    },
    {
      "cell_type": "code",
      "execution_count": null,
      "metadata": {
        "id": "4YMuggcgpT53"
      },
      "outputs": [],
      "source": [
        "# Save as ndjson\n",
        "# Run time: ~1m 30s\n",
        "# Spec: https://github.com/ndjson/ndjson-spec\n",
        "points_sqlite_store.to_ndjson(\"points.ndjson\")"
      ]
    },
    {
      "cell_type": "markdown",
      "metadata": {
        "id": "lW9NoCPwpT53"
      },
      "source": [
        "### 2.1.2) Points Dataset Statistics Summary\n",
        "\n",
        "|                         Format | Write Time |   Size |\n",
        "| -----------------------------: | ---------: | -----: |\n",
        "|              SQLiteStore (.db) |     6m 20s |  893MB |\n",
        "|                         ndjson |     1m 23s | 667 MB |\n",
        "|                        GeoJSON |     1m 42s | 500 MB |\n",
        "|            NumPy + UUID (.npz) |       0.5s | 165 MB |\n",
        "| NumPy + UUID Compressed (.npz) |        31s | 136 MB |\n",
        "|                   NumPy (.npy) |       0.1s |  76 MB |\n",
        "|        NumPy Compressed (.npz) |       3.3s |  66 MB |\n",
        "\n",
        "Note that the points SQLite database is significantly larger than the\n",
        "NumPy arrays on disk. The numpy array is much more storage efficient\n",
        "partly because there is no R Tree index or unique identifier (UUID)\n",
        "stored for each point. For a more fair comparison, another NumPy archive\n",
        "(.npz) is created where the keys are stored along with the coordinates.\n",
        "\n",
        "Also note that although the compressed NumPy representation is much\n",
        "smaller, it must be decompressed in memeory before it can be used. The\n",
        "uncompressed versions may be memory mapped if their size exceeds the\n",
        "available memory.\n",
        "\n"
      ]
    },
    {
      "cell_type": "markdown",
      "metadata": {
        "id": "a_3Gz5Q0pT53"
      },
      "source": [
        "### 2.1.3) Simple Box Query\n",
        "\n",
        "Here we evaluate the performance of performing a simple box query on the\n",
        "data. All points which are in the area between 128 and 256 in the x and\n",
        "y coordinates are retrieved. It is assumed that the data is already in\n",
        "memory for the NumPy formats. In reality this would not the be case for\n",
        "the first query, all data would have to be read from disk, which is a\n",
        "significan overhead. However, this cost is amortised across many\n",
        "queries. To ensure the fairest possible comparison, it is assumed that\n",
        "many queries will be performed, and that this data loading cost in\n",
        "negligable.\n",
        "\n"
      ]
    },
    {
      "cell_type": "code",
      "execution_count": null,
      "metadata": {
        "id": "o9J0d6gdpT53"
      },
      "outputs": [],
      "source": [
        "box = Polygon.from_bounds(128, 128, 256, 256)\n",
        "\n",
        "# Time numpy\n",
        "numpy_runs = timeit.repeat(\n",
        "    (\n",
        "        \"where = np.all([\"\n",
        "        \"points[:, 0] > 128,\"\n",
        "        \"points[:, 0] < 256,\"\n",
        "        \"points[:, 1] > 128,\"\n",
        "        \"points[:, 1] < 256\"\n",
        "        \"], 0)\\n\"\n",
        "        \"uuids = keys[where]\\n\"\n",
        "        \"result = points[where]\\n\"\n",
        "    ),\n",
        "    globals={\"keys\": keys, \"points\": points, \"np\": np},\n",
        "    number=1,\n",
        "    repeat=10,\n",
        ")\n",
        "\n",
        "# Time SQLiteStore\n",
        "sqlite_runs = timeit.repeat(\n",
        "    \"store.query(box)\",\n",
        "    globals={\"store\": points_sqlite_store, \"box\": box},\n",
        "    number=1,\n",
        "    repeat=10,\n",
        ")\n",
        "\n",
        "# Time DictionaryStore\n",
        "dict_runs = timeit.repeat(\n",
        "    \"store.query(box)\",\n",
        "    globals={\"store\": points_dict_store, \"box\": box},\n",
        "    number=1,\n",
        "    repeat=10,\n",
        ")"
      ]
    },
    {
      "cell_type": "code",
      "execution_count": null,
      "metadata": {
        "id": "eX1qqUIipT53",
        "outputId": "a4033a88-6b2d-4a55-f3f6-ba419ef748c0"
      },
      "outputs": [
        {
          "data": {
            "image/png": "[encoded data removed]",
            "text/plain": [
              "<Figure size 432x288 with 1 Axes>"
            ]
          },
          "metadata": {},
          "output_type": "display_data"
        }
      ],
      "source": [
        "plot_results(\n",
        "    experiments=[dict_runs, sqlite_runs, numpy_runs],\n",
        "    title=\"Points Box Query (5 Million Points)\",\n",
        "    tick_label=[\"DictionaryStore\", \"SQLiteStore\", \"NumPy Array\"],\n",
        ")\n",
        "plt.show()"
      ]
    },
    {
      "cell_type": "markdown",
      "metadata": {
        "id": "aNU6FP90pT53"
      },
      "source": [
        "Although the NumPy array is very space efficient on disk, it is not as\n",
        "fast to query as the `SQLiteStore`. The `SQLiteStore` is likely faster\n",
        "due to the use of the R tree index. Furthermore, the method used to\n",
        "store the points in a NumPy array is limited in that it does not use\n",
        "UUIDs, which makes merging two datasets more difficult as the indexes of\n",
        "points no longer uniquely identify them. Additionally, only homogeneous\n",
        "data such as two-dimentional coordinates can be practically stored in\n",
        "this way. If the user would like to store variable length data\n",
        "structures such as polygons, or even mix data types by storing both\n",
        "points and polygons, then using raw NumPy arrays in this way can become\n",
        "cumbersome and begins to offer little benefit in terms of storage\n",
        "efficient or query performance.\n",
        "\n"
      ]
    },
    {
      "cell_type": "markdown",
      "metadata": {
        "id": "c766NXGPpT53"
      },
      "source": [
        "### 2.1.4) Polygon Query\n",
        "\n"
      ]
    },
    {
      "cell_type": "code",
      "execution_count": null,
      "metadata": {
        "id": "6jiMpRnxpT53"
      },
      "outputs": [],
      "source": [
        "big_triangle = Polygon(\n",
        "    shell=[  # noqa: S604\n",
        "        (1024, 1024),\n",
        "        (1024, 4096),\n",
        "        (4096, 4096),\n",
        "        (1024, 1024),\n",
        "    ],\n",
        ")\n",
        "\n",
        "# Time SQLiteStore\n",
        "sqlite_runs = timeit.repeat(\n",
        "    \"store.query(polygon)\",\n",
        "    globals={\"store\": points_sqlite_store, \"polygon\": big_triangle},\n",
        "    number=1,\n",
        "    repeat=10,\n",
        ")\n",
        "\n",
        "# Time DictionaryStore\n",
        "dict_runs = timeit.repeat(\n",
        "    \"store.query(polygon)\",\n",
        "    globals={\"store\": points_dict_store, \"polygon\": big_triangle},\n",
        "    number=1,\n",
        "    repeat=10,\n",
        ")"
      ]
    },
    {
      "cell_type": "code",
      "execution_count": null,
      "metadata": {
        "id": "Es2OQ5OdpT53",
        "outputId": "b98176ee-7003-49f7-f5ca-62b08180b2ee"
      },
      "outputs": [
        {
          "data": {
            "image/png": "[encoded data removed]",
            "text/plain": [
              "<Figure size 432x288 with 1 Axes>"
            ]
          },
          "metadata": {},
          "output_type": "display_data"
        }
      ],
      "source": [
        "plot_results(\n",
        "    experiments=[dict_runs, sqlite_runs],\n",
        "    title=\"Polygon Query (5 Million Points)\",\n",
        "    tick_label=[\"DictionaryStore\", \"SQLiteStore\"],\n",
        ")\n",
        "plt.show()"
      ]
    },
    {
      "cell_type": "markdown",
      "metadata": {
        "id": "HUBEmZDMpT53"
      },
      "source": [
        "## 2.2) Cell Boundary Polygons Dataset\n",
        "\n",
        "Here we generate a much larger and more complex polygon dataset. This\n",
        "consistes of a grid of over 5 million generated cell boundary like\n",
        "polygons.\n",
        "\n"
      ]
    },
    {
      "cell_type": "code",
      "execution_count": null,
      "metadata": {
        "id": "xhCr_TDVpT53",
        "outputId": "c02b7a20-6ab1-4cae-b6bb-fb5c6d94cd12"
      },
      "outputs": [
        {
          "name": "stderr",
          "output_type": "stream",
          "text": [
            "100%|██████████| 5004169/5004169 [10:04<00:00, 8277.35it/s] \n"
          ]
        }
      ],
      "source": [
        "# Generate a grid of 5 million cell boundary polygons (2237 x 2237)\n",
        "# Run time: ~10m\n",
        "rng_42 = np.random.default_rng(42)\n",
        "\n",
        "cell_polygons = [\n",
        "    Annotation(geometry=polygon, properties={\"class\": rng_42.integers(0, 4)})\n",
        "    for polygon in tqdm(cell_grid(size=(2237, 2237), spacing=35), total=2237**2)\n",
        "]"
      ]
    },
    {
      "cell_type": "markdown",
      "metadata": {
        "id": "21RgwKtgpT54"
      },
      "source": [
        "### 2.2.1) Write To Formats For Comparison\n",
        "\n"
      ]
    },
    {
      "cell_type": "code",
      "execution_count": null,
      "metadata": {
        "id": "CDVLMRUtpT54"
      },
      "outputs": [],
      "source": [
        "# Write to an SQLiteStore on disk (SSD for recorded times here)\n",
        "# Run time: ~30m\n",
        "cell_sqlite_store = SQLiteStore(\"cells.db\")\n",
        "_ = cell_sqlite_store.append_many(annotations=cell_polygons)"
      ]
    },
    {
      "cell_type": "code",
      "execution_count": null,
      "metadata": {
        "id": "6Fb4tQHVpT54",
        "outputId": "fba12c47-e0cb-44fd-ca95-35c38454c9cc"
      },
      "outputs": [
        {
          "name": "stderr",
          "output_type": "stream",
          "text": [
            "                                                              \r"
          ]
        }
      ],
      "source": [
        "# Create a copy as an in memory DictionaryStore\n",
        "# Run time: ~5m\n",
        "cell_dict_store = DictionaryStore()\n",
        "for key, value in tqdm(  # Show a nice progress bar\n",
        "    cell_sqlite_store.items(),\n",
        "    total=len(cell_sqlite_store),\n",
        "    leave=False,\n",
        "    position=0,\n",
        "):\n",
        "    cell_dict_store[key] = value"
      ]
    },
    {
      "cell_type": "code",
      "execution_count": null,
      "metadata": {
        "id": "wXOOuGWypT54",
        "outputId": "e2fb300e-e5b8-4459-b172-249cda363b50"
      },
      "outputs": [
        {
          "name": "stderr",
          "output_type": "stream",
          "text": [
            "100%|██████████| 5004169/5004169 [01:26<00:00, 58002.74it/s]\n"
          ]
        }
      ],
      "source": [
        "# Transform into a numpy array\n",
        "# Run Time: ~1m\n",
        "cell_polygons_np = np.array(\n",
        "    [np.array(a.geometry.exterior.coords) for a in tqdm(cell_polygons)],\n",
        "    dtype=object,\n",
        ")"
      ]
    },
    {
      "cell_type": "code",
      "execution_count": null,
      "metadata": {
        "id": "yv9VgW9TpT54"
      },
      "outputs": [],
      "source": [
        "# Create an Nx4 index of (xmin, ymin, xmax, ymax) as a simple spatial\n",
        "# index to speed up the numpy query.\n",
        "# Run time: ~1m\n",
        "min_max_index = np.array(\n",
        "    [(*np.min(coords, 0), *np.max(coords, 0)) for coords in cell_polygons_np],\n",
        ")"
      ]
    },
    {
      "cell_type": "code",
      "execution_count": null,
      "metadata": {
        "id": "nFmHxwBwpT54"
      },
      "outputs": [],
      "source": [
        "# Write to GeoJSON\n",
        "# Run time: ~10m\n",
        "\n",
        "cell_dict_store.to_geojson(\"cells.geojson\")"
      ]
    },
    {
      "cell_type": "code",
      "execution_count": null,
      "metadata": {
        "id": "2UH6WdmipT54"
      },
      "outputs": [],
      "source": [
        "# Write to line delimited JSON (ndjson)\n",
        "# Run time: ~10m\n",
        "\n",
        "cell_dict_store.to_ndjson(\"cells.ndjson\")"
      ]
    },
    {
      "cell_type": "code",
      "execution_count": null,
      "metadata": {
        "id": "fw6wg5gapT54",
        "outputId": "61a32277-fb8d-4bdc-be28-b379cb0a23eb"
      },
      "outputs": [
        {
          "name": "stdout",
          "output_type": "stream",
          "text": [
            "cells.ndjson         : 40.82%   (  8.82 GiB =>   3.60 GiB, cells.ndjson.zstd)  \n"
          ]
        }
      ],
      "source": [
        "# Zstandard compression of ndjson to demonstrate how well it compresses.\n",
        "# Gzip may also be used but is slower to compress.\n",
        "# Run time: ~1m\n",
        "! zstd -f -k cells.ndjson -o cells.ndjson.zstd"
      ]
    },
    {
      "cell_type": "code",
      "execution_count": null,
      "metadata": {
        "id": "rzGC65zhpT55",
        "outputId": "75ad772b-5641-4d64-ae16-7d50206e1b85"
      },
      "outputs": [
        {
          "name": "stdout",
          "output_type": "stream",
          "text": [
            "cells.db             : 75.87%   (  4.87 GiB =>   3.69 GiB, cells.db.zstd)      \n"
          ]
        }
      ],
      "source": [
        "# Zstandard compression of sqlite to demonstrate how well it compresses.\n",
        "# Gzip may also be used but is slower to compress.\n",
        "# Run time: ~20s\n",
        "! zstd -f -k cells.db -o cells.db.zstd"
      ]
    },
    {
      "cell_type": "code",
      "execution_count": null,
      "metadata": {
        "id": "xT0KZLxdpT55"
      },
      "outputs": [],
      "source": [
        "# Write as a pickle (list)\n",
        "# Run time: ~2m\n",
        "with Path(\"cells.pickle\").open(\"wb\") as fh:\n",
        "    pickle.dump(cell_polygons, fh)"
      ]
    },
    {
      "cell_type": "code",
      "execution_count": null,
      "metadata": {
        "id": "-TAWGEu9pT55"
      },
      "outputs": [],
      "source": [
        "# Write as a pickle (dict)\n",
        "# Run time: ~15m\n",
        "with Path(\"cells-dict.pickle\").openI(\"wb\") as fh:\n",
        "    pickle.dump(cell_dict_store._rows, fh)  # noqa: SLF001"
      ]
    },
    {
      "cell_type": "code",
      "execution_count": null,
      "metadata": {
        "id": "I-W4o3GepT55"
      },
      "outputs": [],
      "source": [
        "# Write dictionary store to a pickle\n",
        "# Run time: ~20m\n",
        "with Path(\"cells.pickle\").open(\"wb\") as fh:\n",
        "    pickle.dump(cell_dict_store, fh)"
      ]
    },
    {
      "cell_type": "code",
      "execution_count": null,
      "metadata": {
        "id": "dALe8k0BpT55"
      },
      "outputs": [],
      "source": [
        "# Write as numpy object array (similar to writing out with pickle),\n",
        "# Numpy cannot handle ragged arrays and therefore dtype must be object.\n",
        "# Run time: ~30m\n",
        "np.save(\"cells.npy\", np.asanyarray(cell_polygons_np, dtype=object))"
      ]
    },
    {
      "cell_type": "code",
      "execution_count": null,
      "metadata": {
        "id": "hOrGS0HgpT55"
      },
      "outputs": [],
      "source": [
        "# Create UUIDs, and get the class labels for each cell boundary\n",
        "# Run time: ~2m\n",
        "_uuids = [str(uuid.uuid4) for _ in cell_polygons]\n",
        "_cls = [x.properties[\"class\"] for x in cell_polygons]"
      ]
    },
    {
      "cell_type": "code",
      "execution_count": null,
      "metadata": {
        "id": "Fs2cz8lVpT55"
      },
      "outputs": [],
      "source": [
        "# Write as NumPy archive (.npz) with uuid and min_max_index\n",
        "# Run time: ~40m\n",
        "np.savez(\n",
        "    \"cells.npz\",\n",
        "    uuids=_uuids,\n",
        "    polygons=cell_polygons_np,\n",
        "    min_max_index=min_max_index,\n",
        "    cls=_cls,\n",
        ")\n",
        "\n",
        "del _uuids, _cls"
      ]
    },
    {
      "cell_type": "markdown",
      "metadata": {
        "id": "4gOTqc03pT55"
      },
      "source": [
        "### 2.2.2) Time To Write Summary Statistics\n",
        "\n",
        "The following is a summary of the time required to write each format to\n",
        "disk and the total disk space occupied by the final output.\n",
        "\n",
        "Note that some of these formats, such as GeoJSON compress well with\n",
        "schemes such as gzip and zstd, reducing the disk space by approximately\n",
        "half. Statistics for zstd compressed data is also reported below. It\n",
        "should be noted that the data must be decompressed to be usable.\n",
        "However, for gzip and zstd, this may be done in a streaming fashion from\n",
        "disk.\n",
        "\n",
        "|            Format | Write Time |   Size |\n",
        "| ----------------: | ---------: | -----: |\n",
        "| SQLiteStore (.db) |  33m 48.4s | 4.9 GB |\n",
        "|           GeoJSON |  11m 32.9s | 8.9 GB |\n",
        "|            ndjson |    9m 0.9s | 8.8 GB |\n",
        "|            pickle |    1m 2.9s | 1.8 GB |\n",
        "|     zstd (SQLite) |      18.2s | 3.7 GB |\n",
        "|     zstd (ndjson) |      43.7s | 3.6 GB |\n",
        "|      NumPy (.npy) |      50.3s | 1.8 GB |\n",
        "|      NumPy (.npz) |      55.3s | 2.6 GB |\n",
        "\n"
      ]
    },
    {
      "cell_type": "markdown",
      "metadata": {
        "id": "wS3sGpnWpT55"
      },
      "source": [
        "### 2.2.3) Box Query\n",
        "\n"
      ]
    },
    {
      "cell_type": "code",
      "execution_count": null,
      "metadata": {
        "id": "MKvKfkyvpT55"
      },
      "outputs": [],
      "source": [
        "# Run time: ~5m\n",
        "\n",
        "# Setup\n",
        "xmin, ymin, xmax, ymax = 128, 12, 256, 256\n",
        "box = Polygon.from_bounds(xmin, ymin, xmax, ymax)\n",
        "\n",
        "\n",
        "# Time DictionaryStore\n",
        "dict_runs = timeit.repeat(\n",
        "    \"store.query(box)\",\n",
        "    globals={\"store\": cell_dict_store, \"box\": box},\n",
        "    number=1,\n",
        "    repeat=3,\n",
        ")\n",
        "\n",
        "# Time SQLite store\n",
        "sqlite_runs = timeit.repeat(\n",
        "    \"store.query(box)\",\n",
        "    globals={\"store\": cell_sqlite_store, \"box\": box},\n",
        "    number=1,\n",
        "    repeat=3,\n",
        ")"
      ]
    },
    {
      "cell_type": "code",
      "execution_count": null,
      "metadata": {
        "id": "0Yo14C3kpT55",
        "outputId": "764bc28b-3072-4887-ea88-4c88ffcefb5f"
      },
      "outputs": [
        {
          "data": {
            "image/png": "[encoded data removed]",
            "text/plain": [
              "<Figure size 432x288 with 1 Axes>"
            ]
          },
          "metadata": {},
          "output_type": "display_data"
        }
      ],
      "source": [
        "# Plot results\n",
        "plot_results(\n",
        "    experiments=[dict_runs, sqlite_runs],\n",
        "    title=\"Box Query (5 Million Polygons)\",\n",
        "    tick_label=[\n",
        "        \"DictionaryStore\",\n",
        "        \"SQLiteStore\",\n",
        "    ],\n",
        ")\n",
        "plt.show()"
      ]
    },
    {
      "cell_type": "markdown",
      "metadata": {
        "id": "ExF-fOGQpT56"
      },
      "source": [
        "### 2.2.4) Polygon Query\n",
        "\n"
      ]
    },
    {
      "cell_type": "code",
      "execution_count": null,
      "metadata": {
        "id": "PcxKapqNpT56"
      },
      "outputs": [],
      "source": [
        "# Run Time: 35s\n",
        "\n",
        "# Setup\n",
        "big_triangle = Polygon(\n",
        "    shell=[  # noqa: S604\n",
        "        (1024, 1024),\n",
        "        (1024, 4096),\n",
        "        (4096, 4096),\n",
        "        (1024, 1024),\n",
        "    ],\n",
        ")\n",
        "\n",
        "\n",
        "# Time DictionaryStore\n",
        "dict_runs = timeit.repeat(\n",
        "    \"store.query(polygon)\",\n",
        "    globals={\"store\": cell_dict_store, \"polygon\": big_triangle},\n",
        "    number=1,\n",
        "    repeat=3,\n",
        ")\n",
        "\n",
        "# Time SQLite store\n",
        "sqlite_runs = timeit.repeat(\n",
        "    \"store.query(polygon)\",\n",
        "    globals={\"store\": cell_sqlite_store, \"polygon\": big_triangle},\n",
        "    number=1,\n",
        "    repeat=3,\n",
        ")"
      ]
    },
    {
      "cell_type": "code",
      "execution_count": null,
      "metadata": {
        "id": "vqHA50DQpT56",
        "outputId": "7e837f4c-ada9-400f-b5f3-c59430b137f3"
      },
      "outputs": [
        {
          "data": {
            "image/png": "[encoded data removed]",
            "text/plain": [
              "<Figure size 432x288 with 1 Axes>"
            ]
          },
          "metadata": {},
          "output_type": "display_data"
        }
      ],
      "source": [
        "# Plot results\n",
        "plot_results(\n",
        "    experiments=[dict_runs, sqlite_runs],\n",
        "    title=\"Polygon Query (5 Million Polygons)\",\n",
        "    tick_label=[\n",
        "        \"DictionaryStore\",\n",
        "        \"SQLiteStore\",\n",
        "    ],\n",
        ")\n",
        "plt.show()"
      ]
    },
    {
      "cell_type": "markdown",
      "metadata": {
        "id": "6m-E5AwapT56"
      },
      "source": [
        "### 2.2.5) Predicate Query\n",
        "\n"
      ]
    },
    {
      "cell_type": "code",
      "execution_count": null,
      "metadata": {
        "id": "whEn34rOpT56"
      },
      "outputs": [],
      "source": [
        "# Run Time: ~10m\n",
        "\n",
        "# Setup\n",
        "xmin, ymin, xmax, ymax = 128, 12, 256, 256\n",
        "box = Polygon.from_bounds(xmin, ymin, xmax, ymax)\n",
        "predicate = \"props['class'] == 0\"\n",
        "\n",
        "# Time DictionaryStore\n",
        "dict_runs = timeit.repeat(\n",
        "    \"store.query(box, predicate)\",\n",
        "    globals={\"store\": cell_dict_store, \"box\": box, \"predicate\": predicate},\n",
        "    number=1,\n",
        "    repeat=3,\n",
        ")\n",
        "\n",
        "# Time SQLiteStore\n",
        "sqlite_runs = timeit.repeat(\n",
        "    \"store.query(box, where=predicate)\",\n",
        "    globals={\"store\": cell_sqlite_store, \"box\": box, \"predicate\": predicate},\n",
        "    number=1,\n",
        "    repeat=3,\n",
        ")\n",
        "\n",
        "np_stmt = f\"\"\"\n",
        "polygons = [\n",
        "    polygon\n",
        "    for polygon in tqdm(cell_polygons_np)\n",
        "    if np.all([\n",
        "        np.max(polygon, 0) >= ({xmin}, {ymin}), np.min(polygon, 0) <= ({xmax}, {ymax})\n",
        "        ])\n",
        "]\n",
        "\"\"\"\n",
        "\n",
        "# Time numpy\n",
        "numpy_runs = timeit.repeat(\n",
        "    np_stmt,\n",
        "    globals={\"cell_polygons_np\": cell_polygons_np, \"np\": np, \"tqdm\": lambda x: x},\n",
        "    number=1,\n",
        "    repeat=3,\n",
        ")\n",
        "\n",
        "# Time shapely\n",
        "shapely_runs = timeit.repeat(\n",
        "    \"polygons = [box.intersects(ann.geometry) for ann in cell_polygons]\",\n",
        "    globals={\"box\": box, \"cell_polygons\": cell_polygons},\n",
        "    number=1,\n",
        "    repeat=3,\n",
        ")\n",
        "\n",
        "# Time box indexed numpy\n",
        "numpy_index_runs = timeit.repeat(\n",
        "    \"in_box = np.all(min_max_index[:, :2] <= (xmax, ymax), 1) \"\n",
        "    \"& np.all(min_max_index[:, 2:] >= (xmin, ymin), 1)\\n\"\n",
        "    \"polygons = [p for p, w in zip(cell_polygons, in_box) if w]\",\n",
        "    globals={\n",
        "        \"min_max_index\": min_max_index,\n",
        "        \"xmin\": xmin,\n",
        "        \"ymin\": ymin,\n",
        "        \"xmax\": xmax,\n",
        "        \"ymax\": ymax,\n",
        "        \"np\": np,\n",
        "        \"cell_polygons\": cell_polygons,\n",
        "    },\n",
        "    number=1,\n",
        "    repeat=3,\n",
        ")"
      ]
    },
    {
      "cell_type": "code",
      "execution_count": null,
      "metadata": {
        "id": "oRxJTg7BpT56",
        "outputId": "d235e51a-5109-486e-b779-fe39e5f6ee33"
      },
      "outputs": [
        {
          "data": {
            "image/png": "[encoded data removed]",
            "text/plain": [
              "<Figure size 432x288 with 1 Axes>"
            ]
          },
          "metadata": {},
          "output_type": "display_data"
        }
      ],
      "source": [
        "# Run Time: ~5s\n",
        "\n",
        "# Plot results\n",
        "plot_results(\n",
        "    experiments=[dict_runs, sqlite_runs, numpy_runs, shapely_runs, numpy_index_runs],\n",
        "    title=\"Box Query\",\n",
        "    tick_label=[\n",
        "        \"DictionaryStore\",\n",
        "        \"SQLiteStore\",\n",
        "        \"NumPy\\n(Simple Loop)\",\n",
        "        \"Shapely\\n(Simple Loop)\",\n",
        "        \"NumPy\\n(With Bounds Index)\",\n",
        "    ],\n",
        ")\n",
        "plt.xticks(rotation=90)\n",
        "plt.show()"
      ]
    },
    {
      "cell_type": "markdown",
      "metadata": {
        "id": "LJiGGkespT56"
      },
      "source": [
        "## 2.3) Size vs Approximate Lower Bound\n",
        "\n",
        "Here we calculate an estimated lower bound on file size by finding the\n",
        "the Shannon entropy of each file. This tells us the theoretical minimum\n",
        "number of bits per byte. The lowest lower bound is then used as an\n",
        "estimate of the minimum file size possible to store the annotation data.\n",
        "\n"
      ]
    },
    {
      "cell_type": "code",
      "execution_count": null,
      "metadata": {
        "id": "0IO10faZpT56",
        "outputId": "033c2530-072a-4aa5-cf34-c2298e90d86f"
      },
      "outputs": [
        {
          "name": "stderr",
          "output_type": "stream",
          "text": [
            "                                             "
          ]
        },
        {
          "name": "stdout",
          "output_type": "stream",
          "text": [
            "Approximate Lower Bound Size: 3.60 GB\n"
          ]
        },
        {
          "name": "stderr",
          "output_type": "stream",
          "text": [
            "\r"
          ]
        }
      ],
      "source": [
        "# Run Time: ~5m\n",
        "\n",
        "\n",
        "# Files to consider containing keys, geometry, and properties.\n",
        "# Files which are missing keys e.g. cells.pickle are excluded\n",
        "# for a fair comparison.\n",
        "file_names = [\n",
        "    \"cells-dicionary-store.pickle\",\n",
        "    \"cells-dict.pickle\",\n",
        "    \"cells.db\",\n",
        "    \"cells.db.zstd\",\n",
        "    \"cells.geojson\",\n",
        "    \"cells.ndjson\",\n",
        "    \"cells.ndjson.zstd\",\n",
        "]\n",
        "\n",
        "\n",
        "def human_readible_bytes(byte_count: int) -> tuple[int, str]:\n",
        "    \"\"\"Convert bytes to human readble size and suffix.\"\"\"\n",
        "    byte_count_ref = 1024\n",
        "    for suffix in [\"B\", \"KB\", \"MB\", \"GB\", \"TB\"]:\n",
        "        if byte_count < byte_count_ref:\n",
        "            return byte_count, suffix\n",
        "        byte_count /= byte_count_ref\n",
        "    return byte_count, \"PB\"\n",
        "\n",
        "\n",
        "def shannon_entropy(\n",
        "    fp: Path,\n",
        "    sample_size: int = 1e9,  # 1GiB\n",
        "    stride: int = 7,\n",
        "    skip: int = 1e5,  # 100KiB\n",
        ") -> float:\n",
        "    \"\"\"Calculate the Shannon entropy of a file from a sample.\n",
        "\n",
        "    The first `skip` bytes are skipped to avoid sampling low entropy\n",
        "    (highly ordered) parts which commonly occur at the beginning e.g.\n",
        "    headers.\n",
        "\n",
        "    Args:\n",
        "        fp: File path to calculate entropy of.\n",
        "        sample_size: Number of bytes to sample from the file.\n",
        "        stride: Number of bytes to skip between samples.\n",
        "        skip: Number of bytes to skip before sampling.\n",
        "    \"\"\"\n",
        "    npmmap = np.memmap(Path(fp), dtype=np.uint8, mode=\"r\")\n",
        "    values, counts = np.unique(\n",
        "        npmmap[int(skip) : int(skip + (sample_size * stride)) : int(stride)],\n",
        "        return_counts=True,\n",
        "    )\n",
        "    total = np.sum(counts)\n",
        "    frequencies = {v: 0 for v in range(256)}\n",
        "    for v, x in zip(values, counts):\n",
        "        frequencies[v] = x / total\n",
        "    frequency_array = np.array(list(frequencies.values()))\n",
        "    epsilon = 1e-16\n",
        "    return -np.sum(frequency_array * np.log2(frequency_array + epsilon))\n",
        "\n",
        "\n",
        "# Find the min across all of the representations for the lowest lower\n",
        "# bound.\n",
        "bytes_lower_bounds = {\n",
        "    path: (\n",
        "        shannon_entropy(Path(path)) / 8 * len(np.memmap(path, dtype=np.uint8, mode=\"r\"))\n",
        "    )\n",
        "    for path in tqdm(\n",
        "        [Path.cwd() / name for name in file_names],\n",
        "        position=0,\n",
        "        leave=False,\n",
        "    )\n",
        "}\n",
        "\n",
        "lowest_bytes_lower_bound = min(bytes_lower_bounds.values())\n",
        "\n",
        "size, suffix = human_readible_bytes(lowest_bytes_lower_bound)\n",
        "logger.info(\"Approximate Lower Bound Size: %2f %s\", size, suffix)"
      ]
    },
    {
      "cell_type": "markdown",
      "metadata": {
        "id": "chwB3zeupT56"
      },
      "source": [
        "### Plot Results\n",
        "\n"
      ]
    },
    {
      "cell_type": "code",
      "execution_count": null,
      "metadata": {
        "id": "cu5jkrVppT56",
        "outputId": "bb36aea5-d5d7-4560-a853-d2a8afba0eac"
      },
      "outputs": [
        {
          "data": {
            "image/png": "[encoded data removed]",
            "text/plain": [
              "<Figure size 432x288 with 1 Axes>"
            ]
          },
          "metadata": {},
          "output_type": "display_data"
        }
      ],
      "source": [
        "# Get file sizes\n",
        "file_sizes = {\n",
        "    path: path.stat().st_size for path in [Path.cwd() / name for name in file_names]\n",
        "}\n",
        "\n",
        "# Sort by size\n",
        "file_sizes = dict(sorted(file_sizes.items(), key=lambda x: x[1]))\n",
        "\n",
        "# Plot\n",
        "plt.bar(\n",
        "    x=range(len(file_sizes)),\n",
        "    height=file_sizes.values(),\n",
        "    tick_label=[p.name for p in file_sizes],\n",
        "    color=[f\"C{i}\" for i in range(len(file_sizes))],\n",
        ")\n",
        "plt.xlabel(\"File Name\")\n",
        "plt.ylabel(\"Bytes\")\n",
        "plt.xticks(rotation=90)\n",
        "plt.hlines(\n",
        "    y=lowest_bytes_lower_bound,\n",
        "    xmin=-0.5,\n",
        "    xmax=len(file_sizes) - 0.5,\n",
        "    linestyles=\"dashed\",\n",
        "    color=\"black\",\n",
        "    label=\"Approximate Bytes Lower Bound\",\n",
        ")\n",
        "plt.legend()\n",
        "plt.tight_layout()\n",
        "plt.title(\"Polygon Annotation File Sizes\")\n",
        "plt.show()"
      ]
    },
    {
      "cell_type": "markdown",
      "metadata": {
        "id": "gmuEWlImpT57"
      },
      "source": [
        "The SQLite representation (4.9GB) appears to be quite compact compared\n",
        "with GeoJSON and ndjson. Although not as compact as a dictionary pickle\n",
        "or Zstandard compressed ndjson, it offers a good compromise between\n",
        "compactness and read performance.\n",
        "\n"
      ]
    },
    {
      "cell_type": "markdown",
      "metadata": {
        "id": "Yhe5rMXPpT57"
      },
      "source": [
        "# 3: Extra Bits\n",
        "\n",
        "## 3.1) Space Saving\n",
        "\n",
        "A lot of space can be saved by rounding the coordinates to the nearest\n",
        "integer when storing them. Below we make a copy of the dataset with all\n",
        "coordinates rounded.\n",
        "\n"
      ]
    },
    {
      "cell_type": "code",
      "execution_count": null,
      "metadata": {
        "id": "H2Jsc0repT57",
        "outputId": "d2ca9eff-b67d-4bfc-ad5a-57c87bc6a7da"
      },
      "outputs": [
        {
          "name": "stderr",
          "output_type": "stream",
          "text": [
            "100%|██████████| 10008338/10008338 [51:00<00:00, 3270.16it/s] \n"
          ]
        }
      ],
      "source": [
        "# Run Time: ~50m\n",
        "! rm integer-cells.db\n",
        "int_cell_sqlite_store = SQLiteStore(\"integer-cells.db\")\n",
        "\n",
        "# We use batches of 1000 to speed up appending\n",
        "batch = {}\n",
        "batch_size = 1000\n",
        "for key, annotation in tqdm(cell_sqlite_store.items(), total=len(cell_sqlite_store)):\n",
        "    geometry = Polygon(np.array(annotation.geometry.exterior.coords).round())\n",
        "    rounded_annotation = Annotation(geometry, annotation.properties)\n",
        "    batch[key] = rounded_annotation\n",
        "    if len(batch) >= batch_size:\n",
        "        int_cell_sqlite_store.append_many(batch.values(), batch.keys())\n",
        "        batch = {}\n",
        "_ = int_cell_sqlite_store.append_many(batch.values(), batch.keys())"
      ]
    },
    {
      "cell_type": "markdown",
      "metadata": {
        "id": "U6aooIROpT57"
      },
      "source": [
        "Here the database size is reduced to 2.9GB, down from 4.9GB.\n",
        "Additionally, when using integer coordinates, the database compresses\n",
        "much better. Zstandard can compress to approximately 60% of the\n",
        "original size (and 35% of the floating point coordinate\n",
        "database size). This may be done for archival purposes.\n",
        "\n"
      ]
    },
    {
      "cell_type": "code",
      "execution_count": null,
      "metadata": {
        "id": "Q3TJ8XX4pT57",
        "outputId": "b99d1af7-4c68-4394-cf9a-8bb2b64471a0"
      },
      "outputs": [
        {
          "name": "stdout",
          "output_type": "stream",
          "text": [
            "integer-cells.db     : 60.58%   (  2.86 GiB =>   1.73 GiB, integer-cells.db.zstd) \n"
          ]
        }
      ],
      "source": [
        "# Run time: ~15s\n",
        "! zstd -f -k integer-cells.db -o integer-cells.db.zstd"
      ]
    },
    {
      "cell_type": "markdown",
      "metadata": {
        "id": "alFRiIAbpT57"
      },
      "source": [
        "With higher (slower) compression settings the space can be further\n",
        "reduced for long term storage.\n",
        "\n"
      ]
    },
    {
      "cell_type": "code",
      "execution_count": null,
      "metadata": {
        "id": "nVFqovfPpT57",
        "outputId": "0948bbe6-4252-4c93-eab7-8e3be4e98235"
      },
      "outputs": [
        {
          "name": "stdout",
          "output_type": "stream",
          "text": [
            "integer-cells.db     : 51.22%   (  2.86 GiB =>   1.47 GiB, integer-cells.db.19.zstd) \n"
          ]
        }
      ],
      "source": [
        "# Run time: ~20m\n",
        "! zstd -f -k -19 --long integer-cells.db -o integer-cells.db.19.zstd"
      ]
    },
    {
      "cell_type": "markdown",
      "metadata": {
        "id": "C3voJ43OpT57"
      },
      "source": [
        "## 3.2) Feature Comparison Summary\n",
        "\n",
        "Here we briefly summarise some of the positives and negatives of each format and construct a comparison matrix.\n",
        "\n",
        "**GeoJSON**\n",
        "\n",
        "*Positives*\n",
        "\n",
        "- Simple, based JSON which is well known.\n",
        "- Well defined with a public specification.\n",
        "- Popular format for geometry, many tools which work with it.\n",
        "- Fast to write.\n",
        "\n",
        "*Negatives*\n",
        "\n",
        "- Requires loading the whole file into memory for parsing. Some\n",
        "  specialised parsers can, in some situations, reduce or avoid this but\n",
        "  it is not possible in general.\n",
        "- Not a very compact representation.\n",
        "\n",
        "**ndjson (One GeoJSON Feature Per Line)**\n",
        "\n",
        "*Positives*\n",
        "\n",
        "- Simple.\n",
        "- Better to parse than JSON/GeoJSON. Each line can be parsed\n",
        "  independently.\n",
        "- Many tools to parse JSON lines.\n",
        "- Fast to write.\n",
        "\n",
        "*Negatives*\n",
        "\n",
        "- Not a very compact representation.\n",
        "- Requires loading the whole dataset from disk before querying OR\n",
        "  scanning through and reparsing each line for each query.\n",
        "- Amending annotations can be tricky. The easiest way is to blank out a\n",
        "  line and append a modified copy each time. This could end up\n",
        "  fragmenting the file and wasting a lot of space. More complex methods\n",
        "  could be developed to reduce fragmenting the file.\n",
        "\n",
        "**pickle**\n",
        "\n",
        "*Positives*\n",
        "\n",
        "- Fast to write.\n",
        "\n",
        "*Negatives*\n",
        "\n",
        "- Vulnerable to arbitrary code execution when loading from disk.\n",
        "- Requires loading the whole dataset into memory for querying.\n",
        "\n",
        "**SQLite (SQLiteStore Flavour)**\n",
        "\n",
        "*Positives*\n",
        "\n",
        "- Very fast to query (uses an R-TREE index to accelerate\n",
        "  spatial queries).\n",
        "- Does not require loading data into memory before querying.\n",
        "- Possible to index property lookups.\n",
        "\n",
        "*Negatives*\n",
        "\n",
        "- Not the most compact representation on disk.\n",
        "\n",
        "### Feature Matrix\n",
        "\n",
        "|      Format | Size On-Disk | Size In-Memory | Partial Reads | Serialization | Query Performance |\n",
        "| ----------: | :----------- | :------------- | :------------ | :------------ | :---------------- |\n",
        "| SQLiteStore | Medium       | Small          | Yes           | Slow          | Fast              |\n",
        "|     GeoJSON | Large        | Large          | No            | Fast          | Slow              |\n",
        "|      ndjson | Large        | Large          | Yes           | Fast          | Medium            |\n",
        "|      pickle | Small        | Medium         | No            | Medium        | Slow              |\n",
        "\n"
      ]
    }
  ],
  "metadata": {
    "colab": {
      "provenance": []
    },
    "interpreter": {
      "hash": "a3ed8fb525a8bde66cc7655a5df08d8d0f8699a69b9eb5ccab28dc0a7837eec6"
    },
    "kernelspec": {
      "display_name": "Python 3 (ipykernel)",
      "language": "python",
      "name": "python3"
    },
    "language_info": {
      "codemirror_mode": {
        "name": "ipython",
        "version": 3
      },
      "file_extension": ".py",
      "mimetype": "text/x-python",
      "name": "python",
      "nbconvert_exporter": "python",
      "pygments_lexer": "ipython3",
      "version": "3.9.12"
    }
  },
  "nbformat": 4,
  "nbformat_minor": 0
}
